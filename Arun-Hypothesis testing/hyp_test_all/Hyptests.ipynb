{
 "cells": [
  {
   "cell_type": "code",
   "execution_count": null,
   "metadata": {},
   "outputs": [],
   "source": [
    "#Hypothesis tests covered in this example code: different t tests for mean, z test for proprtion, chi-square test and annova\n",
    "\"\"\"\n",
    "Types of t-tests\n",
    "There are three main types of t-test:\n",
    "1. An Independent Samples t-test compares the means for two groups.\n",
    "2. A Paired sample t-test compares means from the same group at different times (say, one year apart).\n",
    "3. A One sample t-test tests the mean of a single group against a known mean.\n",
    "\"\"\"\n",
    "# if the test is one tailed or two tailed test is highlighted in each solved example\n",
    "# tests for mean and proportion covered\n"
   ]
  },
  {
   "cell_type": "code",
   "execution_count": 48,
   "metadata": {},
   "outputs": [
    {
     "data": {
      "text/plain": [
       "'\\none sample t test\\n\\nThe One Sample t Test determines whether the sample mean is statistically \\ndifferent from a known or hypothesized population mean. The One Sample t Test is a parametric test.\\n\\nProblem: your company wants to improve sales. Past sales data indicate that the average sale was $100 per transaction. \\nAfter training your sales force, recent sales data (taken from a sample of 25 salesmen) indicates an average sale \\nof $130, with a standard deviation of $15. Did the training work? Test your hypothesis at a 5% alpha level.\\n'"
      ]
     },
     "execution_count": 48,
     "metadata": {},
     "output_type": "execute_result"
    }
   ],
   "source": [
    "# test of means\n",
    "#one sample one tailed t test\n",
    "\"\"\"\n",
    "one sample t test\n",
    "\n",
    "The One Sample t Test determines whether the sample mean is statistically \n",
    "different from a known or hypothesized population mean. The One Sample t Test is a parametric test.\n",
    "\n",
    "Problem: your company wants to improve sales. Past sales data indicate that the average sale was $100 per transaction. \n",
    "After training your sales force, recent sales data (taken from a sample of 25 salesmen) indicates an average sale \n",
    "of $130, with a standard deviation of $15 (for sample). Did the training work? Test your hypothesis at a 5% alpha level.\n",
    "\"\"\""
   ]
  },
  {
   "cell_type": "code",
   "execution_count": 49,
   "metadata": {},
   "outputs": [],
   "source": [
    "import math"
   ]
  },
  {
   "cell_type": "markdown",
   "metadata": {},
   "source": [
    "# Hypothesis\n",
    "\n",
    "# Null: H0: average sales after training-average sales before =0\n",
    "# Alt: Ha:  average sale after training-average sales before >0, ( only > considered: hence one tailed)\n",
    "\n",
    "\"\"\"\"\n",
    "we are given the population average, sample average, sample std.dev: hence we will use one sample t test\n",
    "the other things provided are sample size and the confidence level\n",
    "\n",
    "The sample mean(xbar)is given $130.\n",
    "The population mean(μ) is given $100 .\n",
    "The sample standard deviation(s) = $15.\n",
    "Number of observations(n) = 25.\n",
    "\"\"\"\n",
    "xbar=130\n",
    "μ=100\n",
    "s=15\n",
    "n=25\n",
    "# t= (xbar -μ)/(s/sqrt(n))\n"
   ]
  },
  {
   "cell_type": "code",
   "execution_count": 63,
   "metadata": {},
   "outputs": [
    {
     "name": "stdout",
     "output_type": "stream",
     "text": [
      "xbar = 130, μ= 100, sample std deveation = 15, degrees of freedom =24, one tail alpha =0.05\n",
      "tstat = 10.0, pvalue= 2.457762882102088e-10\n",
      " P value less than alpha. Ho rejected. Sales improved\n"
     ]
    }
   ],
   "source": [
    "xbar=130 \n",
    "μ=100 \n",
    "s=15 \n",
    "n=25\n",
    "alpha=0.05\n",
    "t= (xbar -μ)/(s/math.sqrt(n)) \n",
    "t\n",
    "print (\"xbar = \"+str(xbar)+\", μ= \"+ str(μ)+\", sample std deveation = \"+str(s)+\", degrees of freedom =\" +str(n-1) + \", one tail alpha =\"+ str(alpha))\n",
    "\"\"\"\n",
    "calculate the p value from stats library using 't' value and degrees of freedom df=n-1\n",
    "\n",
    "\"\"\"\n",
    "import scipy.stats as stats\n",
    "\n",
    "p = 1 - stats.t.cdf(t,df=n-1)\n",
    "p\n",
    "\n",
    "t= (xbar -μ)/(s/math.sqrt(n)) \n",
    "p = 1 - stats.t.cdf(t,df=n-1)\n",
    "print (\"tstat = \"+str(t)+\", pvalue= \"+ str(p))\n",
    "\n",
    "msg =\"P value greater than alpha.Ho not rejected, sales did not improve\"\n",
    "if p<alpha:\n",
    "        msg =\" P value less than alpha. Ho rejected. Sales improved\"       \n",
    "print (msg)"
   ]
  },
  {
   "cell_type": "code",
   "execution_count": 64,
   "metadata": {},
   "outputs": [
    {
     "data": {
      "text/plain": [
       "'\\none sample two tailed t test\\n\\nThe One Sample t Test determines whether the sample mean is statistically \\ndifferent from a known or hypothesized population mean. The One Sample t Test is a parametric test.\\n\\nProblem: A researcher wishes to test whether the mean weight of the population of interest is different from 130.\\nHo: mean weight = 130\\nHa: mean weight  !=130 ( both < and > are considered, hence two tailed)\\n'"
      ]
     },
     "execution_count": 64,
     "metadata": {},
     "output_type": "execute_result"
    }
   ],
   "source": [
    "\"\"\"\n",
    "one sample two tailed t test\n",
    "\n",
    "Problem: A researcher wishes to test whether the mean weight of the sample of interest is different from 130.\n",
    "Ho: mean weight = 130\n",
    "Ha: mean weight  !=130 ( both < and > are considered, hence two tailed)\n",
    "\"\"\""
   ]
  },
  {
   "cell_type": "code",
   "execution_count": 98,
   "metadata": {},
   "outputs": [
    {
     "name": "stdout",
     "output_type": "stream",
     "text": [
      "xbar = 139.6, μ= 130, sample std deveation = 43.12210325892841, degrees of freedom =19, alpha =0.025\n",
      "tstat = 0.9956032271943225, pvalue= 0.16597717717988503\n",
      " P value greater than alpha. Ho not rejected, mean weight of the sample= 130\n"
     ]
    }
   ],
   "source": [
    "import statistics\n",
    "Weight = [159, 155, 157,125,103,122,101,82,228,199,195,110,191,151,119,119,112,87,190, 87]\n",
    "n=len(Weight)\n",
    "xbar=statistics.mean(Weight)\n",
    "s=statistics.stdev(Weight)\n",
    "μ=130\n",
    "print (\"xbar = \"+str(xbar)+\", μ= \"+ str(μ)+\", sample std deveation = \"+str(s)+\", degrees of freedom =\" +str(n-1) + \", alpha =\"+ str(alpha/2))\n",
    "t= (xbar -μ)/(s/math.sqrt(n)) \n",
    "p = 1 - stats.t.cdf(t,df=n-1)\n",
    "print (\"tstat = \"+str(t)+\", pvalue= \"+ str(p))\n",
    "\n",
    "msg =\" P value greater than alpha. Ho not rejected, mean weight of the sample= 130\"\n",
    "if p<alpha/2: # alpha value divided by 2 for two tailed\n",
    "        msg =\" P value less than alpha. Ho rejected. mean weight of the sample!=130\"       \n",
    "print (msg)"
   ]
  },
  {
   "cell_type": "code",
   "execution_count": 67,
   "metadata": {},
   "outputs": [
    {
     "data": {
      "text/plain": [
       "'\\nThe paired sample t-test, sometimes called the dependent sample t-test, \\nis a statistical procedure used to determine whether the mean difference between two sets of observations is zero\\n\\n\\n#problem: the following are scores are for 9 students in math \\nafter and before the introduction of a new  faculty. did the performance of the students change after introducing a new faculty\\n\\nSubject\\tAfter\\tBefore\\n1\\t312\\t300\\n2\\t242\\t201\\n3\\t340\\t232\\n4\\t388\\t312\\n5\\t296\\t220\\n6\\t254\\t256\\n7\\t391\\t328\\n8\\t402\\t330\\n9\\t290\\t231\\n'"
      ]
     },
     "execution_count": 67,
     "metadata": {},
     "output_type": "execute_result"
    }
   ],
   "source": [
    "# paired t test\n",
    "\"\"\"\n",
    "The paired 2 sample t-test, sometimes called the dependent sample t-test, \n",
    "is a statistical procedure used to determine whether the mean difference between two sets of observations is zero\n",
    "\n",
    "#problem: the following are scores are for 9 students in math \n",
    "after and before the introduction of a new  faculty. did the performance of the students change after introducing a new faculty\n",
    "\n",
    "Student\tAfter\tBefore\n",
    "1\t312\t300\n",
    "2\t242\t201\n",
    "3\t340\t232\n",
    "4\t388\t312\n",
    "5\t296\t220\n",
    "6\t254\t256\n",
    "7\t391\t328\n",
    "8\t402\t330\n",
    "9\t290\t231\n",
    "\"\"\""
   ]
  },
  {
   "cell_type": "code",
   "execution_count": 68,
   "metadata": {},
   "outputs": [],
   "source": [
    "# Hypothesis\n",
    "#H0: Mu(after)-Mu(before)=0: performances did not change\n",
    "#Ha: Mu(after)-Mu(before)!=0 performances changed"
   ]
  },
  {
   "cell_type": "code",
   "execution_count": 81,
   "metadata": {},
   "outputs": [
    {
     "name": "stdout",
     "output_type": "stream",
     "text": [
      "μafter = 323.8888888888889, μbefore= 256.6666666666667, mean difference  = 67.22222222222223\n",
      "sd.dev after = 59.82567267579289, sd.dev before= 52.974050251042726\n",
      "degrees of freedom =16, alpha =0.025\n",
      "tstat = 2.5237212728265677, pvalue= 0.01128482414778087\n",
      " P value less than alpha. Ho rejected. performances changed\n"
     ]
    }
   ],
   "source": [
    "before =[200,201,232,312,220,256,328,330,231]\n",
    "after=[312,242,340,388,296,254,391,402,290]\n",
    "\n",
    "μafter=statistics.mean(after)\n",
    "μbefore=statistics.mean(before)\n",
    "mean_diff= μafter-μbefore\n",
    "\n",
    "sda=statistics.stdev(after)\n",
    "sdb=statistics.stdev(before)\n",
    "na=len(after)\n",
    "nb=len(before)\n",
    "\n",
    "t= mean_diff/(math.sqrt(sda**2/na+sdb**2/nb))\n",
    "df= na+nb-2\n",
    "p = 1 - stats.t.cdf(t,df)\n",
    "print (\"μafter = \"+str(μafter)+\", μbefore= \"+ str(μbefore)+\", mean difference  = \"+str(mean_diff))\n",
    "print (\"sd.dev after = \"+str(sda)+\", sd.dev before= \"+ str(sdb))\n",
    "print (\"degrees of freedom =\" +str(df) + \", alpha =\"+ str(alpha/2))\n",
    "\n",
    "print (\"tstat = \"+str(t)+\", pvalue= \"+ str(p))\n",
    "\n",
    "msg =\" P value greater than alpha. Ho not rejected, performances did not change\"\n",
    "if p<alpha/2: # alpha value divided by 2 for two tailed\n",
    "        msg =\" P value less than alpha. Ho rejected. performances changed\"       \n",
    "print (msg)"
   ]
  },
  {
   "cell_type": "code",
   "execution_count": 82,
   "metadata": {},
   "outputs": [
    {
     "data": {
      "text/plain": [
       "\"\\nProblem: Acme Drug Company develops a new drug, designed to prevent colds. The company states that the drug is equally \\neffective for men and women. To test this claim, they choose a a simple random sample of 100 women and 200 men from a\\npopulation of 100,000 volunteers.\\nAt the end of the study, 38% of the women caught a cold; and 51% of the men caught a cold. Based on these findings, \\ncan we reject the company's claim that the drug is equally effective for men and women? Use a 0.05 level of significance.\\n\\n\""
      ]
     },
     "execution_count": 82,
     "metadata": {},
     "output_type": "execute_result"
    }
   ],
   "source": [
    "#  z test for proportion for two sampels\n",
    "\"\"\"\n",
    "Problem: Acme Drug Company develops a new drug, designed to prevent colds. The company states that the drug is equally \n",
    "effective for men and women. To test this claim, they choose a a simple random sample of 100 women and 200 men from a\n",
    "population of 100,000 volunteers.\n",
    "At the end of the study, 38% of the women caught a cold; and 51% of the men caught a cold. Based on these findings, \n",
    "can we reject the company's claim that the drug is equally effective for men and women? Use a 0.05 level of significance.\n",
    "\n",
    "\"\"\""
   ]
  },
  {
   "cell_type": "code",
   "execution_count": 83,
   "metadata": {},
   "outputs": [],
   "source": [
    "#Hypothesis\n",
    "# P1 proportion of male that caught cold\n",
    "# P2 proportion of female that caught cold\n",
    "#Ho: P1 = P2 --> The drug effects the male and the female similarly\n",
    "#Ha: P1 ≠ P2--> The drug effects the male and the female differently"
   ]
  },
  {
   "cell_type": "code",
   "execution_count": 111,
   "metadata": {},
   "outputs": [
    {
     "name": "stdout",
     "output_type": "stream",
     "text": [
      "2.127624429800926\n",
      "Pooled proportion = 0.4666666666666667\n",
      "pooled sd.error = 0.061101009266077866\n",
      "zstat = 2.127624429800926, two tailed pvalue= 0.03336823505701059\n",
      " P value less than alpha. Ho rejected. The drug effects the male and the female differently\n"
     ]
    }
   ],
   "source": [
    "#calculations\n",
    "p1=0.51 #proportion of male that caught cold\n",
    "p2=0.38 #proportion of female that caught cold\n",
    "m=200 # number of men\n",
    "w=100 # number of women\n",
    "alpha =0.05\n",
    "#pooled proportion p= (proportion of male* number of male+ proportion of female * number of female)/(number of male+female)\n",
    "p=(p1*m+p2*w)/(m+w) \n",
    "# std error s= sqrt (p*(1-p)*((1/m)+(1/w))\n",
    "s= math.sqrt (p*(1-p)*(1/m+1/w))\n",
    "z=(p1-p2)/s\n",
    "print (z)\n",
    "pval= 2 *(1-stats.norm.cdf(z)) #two tailed\n",
    "\n",
    "print (\"Pooled proportion = \"+str(p))\n",
    "print (\"pooled sd.error = \"+str(s))\n",
    "print (\"zstat = \"+str(z)+\", two tailed pvalue= \"+ str(pval))\n",
    "\n",
    "msg =\" P value greater than alpha. Ho not rejected,The drug effects the male and the female similarly \"\n",
    "if pval<alpha: \n",
    "        msg =\" P value less than alpha. Ho rejected. The drug effects the male and the female differently\"       \n",
    "print (msg)"
   ]
  },
  {
   "cell_type": "code",
   "execution_count": 112,
   "metadata": {},
   "outputs": [
    {
     "data": {
      "text/plain": [
       "'\\nproblem: Chi_square test to check if voting pattern is different between male and female\\n\\ndata source: voting pattern.csv\\n'"
      ]
     },
     "execution_count": 112,
     "metadata": {},
     "output_type": "execute_result"
    }
   ],
   "source": [
    "#chi square test\n",
    "#The Chi Square statistic is commonly used for testing relationships between categorical variables. \n",
    "\"\"\"\n",
    "problem: check if voting pattern is different between male and female\n",
    "\n",
    "data source: voting pattern.csv\n",
    "\"\"\""
   ]
  },
  {
   "cell_type": "code",
   "execution_count": null,
   "metadata": {},
   "outputs": [],
   "source": [
    "#Hypothesis\n",
    "\n",
    "#Ho: Gender has no effect on votting pattern\n",
    "#Ha: Gender has effect on votting pattern"
   ]
  },
  {
   "cell_type": "code",
   "execution_count": 120,
   "metadata": {},
   "outputs": [
    {
     "name": "stdout",
     "output_type": "stream",
     "text": [
      "       sex vote\n",
      "0   female   No\n",
      "1     male  Yes\n",
      "2     male  Yes\n",
      "3     male   No\n",
      "4     male  Yes\n",
      "5   female  Yes\n",
      "6   female  Yes\n",
      "7   female  Yes\n",
      "8     male   No\n",
      "9   female  Yes\n",
      "10    male  Yes\n",
      "11  female  Yes\n",
      "12    male   No\n",
      "13  female  Yes\n",
      "14    male  Yes\n",
      "15    male   No\n",
      "16  female   No\n",
      "17    male  Yes\n",
      "18    male  Yes\n",
      "19    male  Yes\n"
     ]
    },
    {
     "data": {
      "text/html": [
       "<div>\n",
       "<style scoped>\n",
       "    .dataframe tbody tr th:only-of-type {\n",
       "        vertical-align: middle;\n",
       "    }\n",
       "\n",
       "    .dataframe tbody tr th {\n",
       "        vertical-align: top;\n",
       "    }\n",
       "\n",
       "    .dataframe thead th {\n",
       "        text-align: right;\n",
       "    }\n",
       "</style>\n",
       "<table border=\"1\" class=\"dataframe\">\n",
       "  <thead>\n",
       "    <tr style=\"text-align: right;\">\n",
       "      <th>vote</th>\n",
       "      <th>No</th>\n",
       "      <th>Yes</th>\n",
       "    </tr>\n",
       "    <tr>\n",
       "      <th>sex</th>\n",
       "      <th></th>\n",
       "      <th></th>\n",
       "    </tr>\n",
       "  </thead>\n",
       "  <tbody>\n",
       "    <tr>\n",
       "      <th>female</th>\n",
       "      <td>2</td>\n",
       "      <td>6</td>\n",
       "    </tr>\n",
       "    <tr>\n",
       "      <th>male</th>\n",
       "      <td>4</td>\n",
       "      <td>8</td>\n",
       "    </tr>\n",
       "  </tbody>\n",
       "</table>\n",
       "</div>"
      ],
      "text/plain": [
       "vote    No  Yes\n",
       "sex            \n",
       "female   2    6\n",
       "male     4    8"
      ]
     },
     "execution_count": 120,
     "metadata": {},
     "output_type": "execute_result"
    }
   ],
   "source": [
    "import pandas as pd\n",
    "import os\n",
    "os.chdir (r\"C:\\Users\\Arun\\Desktop\\AIML\\Week 3\")\n",
    "df = pd.read_csv('voting_pattern.csv') # read the data as a data frame\n",
    "print (df)\n",
    "crosstab = pd.crosstab(df['sex'],df['vote'])  # Contingency table of sex and voting pattern\n",
    "(crosstab)"
   ]
  },
  {
   "cell_type": "code",
   "execution_count": 123,
   "metadata": {},
   "outputs": [
    {
     "name": "stdout",
     "output_type": "stream",
     "text": [
      " P value greater than alpha. Ho not rejected,Gender has no effect on votting pattern \n"
     ]
    }
   ],
   "source": [
    "chi, p_value, dof, expected =  stats.chi2_contingency(crosstab)\n",
    "\n",
    "msg =\" P value greater than alpha. Ho not rejected,Gender has no effect on votting pattern \"\n",
    "if p_value<alpha: \n",
    "        msg =\" P value less than alpha. Ho rejected. Gender has effect on votting pattern\"       \n",
    "print (msg)"
   ]
  },
  {
   "cell_type": "code",
   "execution_count": 126,
   "metadata": {},
   "outputs": [
    {
     "data": {
      "text/plain": [
       "'\\nproblem: check if savings are different between technical and management profiles\\n\\ndata source: savings.csv\\n'"
      ]
     },
     "execution_count": 126,
     "metadata": {},
     "output_type": "execute_result"
    }
   ],
   "source": [
    "# two sample t test  to check if job profile has an effect on savings\n",
    "\"\"\"\n",
    "problem: check if savings are different between technical and management profiles\n",
    "\n",
    "data source: savings.csv\n",
    "\"\"\"\n",
    "#Hypothesis\n",
    "\n",
    "#Ho: job profile has no effect on savings\n",
    "#Ha: job profile has effect on savings"
   ]
  },
  {
   "cell_type": "code",
   "execution_count": 127,
   "metadata": {},
   "outputs": [
    {
     "name": "stdout",
     "output_type": "stream",
     "text": [
      "         Profile  savings\n",
      "0      Technical   462714\n",
      "1     Management   447259\n",
      "2     Management   438435\n",
      "3     Management   397519\n",
      "4     Management   369065\n",
      "5      Technical   345759\n",
      "6      Technical   308738\n",
      "7      Technical   354729\n",
      "8     Management   410974\n",
      "9      Technical   462879\n",
      "10    Management   331006\n",
      "11     Technical   338293\n",
      "12    Management   451383\n",
      "13     Technical   458534\n",
      "14    Management   379257\n",
      "15    Management   407710\n",
      "16     Technical   389125\n",
      "17    Management   350340\n",
      "18    Management   418618\n",
      "19    Management   403929\n",
      "20     Technical   432332\n",
      "21     Technical   482373\n",
      "22    Management   374879\n",
      "23     Technical   315280\n",
      "24    Management   302033\n",
      "25     Technical   390387\n",
      "26     Technical   388360\n",
      "27     Technical   474727\n",
      "28    Management   316437\n",
      "29    Management   473523\n",
      "...          ...      ...\n",
      "1308   Technical   428555\n",
      "1309  Management   324489\n",
      "1310  Management   461106\n",
      "1311   Technical   428033\n",
      "1312  Management   452525\n",
      "1313   Technical   452814\n",
      "1314   Technical   389986\n",
      "1315  Management   487146\n",
      "1316   Technical   350290\n",
      "1317  Management   477894\n",
      "1318  Management   316825\n",
      "1319   Technical   443194\n",
      "1320  Management   302834\n",
      "1321  Management   448950\n",
      "1322  Management   377839\n",
      "1323   Technical   465201\n",
      "1324  Management   482446\n",
      "1325  Management   425462\n",
      "1326   Technical   376916\n",
      "1327  Management   475098\n",
      "1328   Technical   456571\n",
      "1329  Management   457452\n",
      "1330   Technical   421193\n",
      "1331   Technical   328664\n",
      "1332   Technical   432143\n",
      "1333  Management   354298\n",
      "1334   Technical   342948\n",
      "1335   Technical   379122\n",
      "1336   Technical   369706\n",
      "1337   Technical   456042\n",
      "\n",
      "[1338 rows x 2 columns]\n"
     ]
    }
   ],
   "source": [
    "df = pd.read_csv('savings.csv') # read the data as a data frame\n",
    "print (df)"
   ]
  },
  {
   "cell_type": "code",
   "execution_count": 133,
   "metadata": {},
   "outputs": [
    {
     "name": "stdout",
     "output_type": "stream",
     "text": [
      "p vlaue =0.5031840935734666 alpha value = 0.05\n",
      " P value greater than alpha. Ho not rejected, job profile has no effect on savings \n"
     ]
    }
   ],
   "source": [
    "import numpy as np\n",
    "tech = np.array(df[df.Profile == 'Technical'].savings)  # Selecting savings  corresponding to Technical profile as an array\n",
    "man = np.array(df[df.Profile == 'Management'].savings) # Selecting savings  corresponding to Managementprofile as an array\n",
    "alpha =0.05\n",
    "t, p_value  = stats.ttest_ind(tech,man, axis = 0)  #Performing an Independent/unpaired t-test since different samples\n",
    "print (\"p vlaue =\"+str(p_value)+\" alpha value = \"+str(alpha))\n",
    "msg =\" P value greater than alpha. Ho not rejected, job profile has no effect on savings \"\n",
    "if p_value<alpha: \n",
    "        msg =\" P value less than alpha. Ho rejected. job profile has an effect on savings\"       \n",
    "print (msg)"
   ]
  },
  {
   "cell_type": "code",
   "execution_count": 134,
   "metadata": {},
   "outputs": [
    {
     "data": {
      "text/plain": [
       "'\\nproblem: check if bonus offered employes varies with  year of experience in the organization\\n\\ndata source: bonus.csv\\n'"
      ]
     },
     "execution_count": 134,
     "metadata": {},
     "output_type": "execute_result"
    }
   ],
   "source": [
    "# Annova: compare more than two samples\n",
    "\n",
    "\n",
    "\"\"\"\n",
    "problem: check if bonus offered employes varies with  year of experience in the organization\n",
    "\n",
    "data source: bonus.csv\n",
    "\"\"\"\n",
    "#Hypothesis\n",
    "\n",
    "#Ho: number of years of experience has no effect on savings\n",
    "#Ha: number of years of experience has effect on savings"
   ]
  },
  {
   "cell_type": "code",
   "execution_count": 138,
   "metadata": {},
   "outputs": [
    {
     "name": "stdout",
     "output_type": "stream",
     "text": [
      "      Yearsofexperience   Bonus\n",
      "0                     1  447259\n",
      "1                     3  438435\n",
      "2                     0  397519\n",
      "3                     0  369065\n",
      "4                     2  410974\n",
      "5                     0  331006\n",
      "6                     0  451383\n",
      "7                     0  379257\n",
      "8                     1  407710\n",
      "9                     0  350340\n",
      "10                    0  418618\n",
      "11                    0  403929\n",
      "12                    0  374879\n",
      "13                    2  302033\n",
      "14                    1  316437\n",
      "15                    2  473523\n",
      "16                    0  430842\n",
      "17                    0  320664\n",
      "18                    1  355381\n",
      "19                    0  415315\n",
      "20                    0  418848\n",
      "21                    1  322040\n",
      "22                    0  396839\n",
      "23                    1  420125\n",
      "24                    1  356419\n",
      "25                    0  474390\n",
      "26                    1  461621\n",
      "27                    1  358491\n",
      "28                    0  390093\n",
      "29                    2  451101\n",
      "...                 ...     ...\n",
      "1308                  0  456050\n",
      "1309                  2  477838\n",
      "1310                  0  419631\n",
      "1311                  2  307079\n",
      "1312                  0  389985\n",
      "1313                  0  302749\n",
      "1314                  0  337267\n",
      "1315                  1  347136\n",
      "1316                  2  323692\n",
      "1317                  2  371388\n",
      "1318                  1  484566\n",
      "1319                  1  408145\n",
      "1320                  0  436744\n",
      "1321                  0  339983\n",
      "1322                  0  428555\n",
      "1323                  0  428033\n",
      "1324                  2  452814\n",
      "1325                  3  389986\n",
      "1326                  0  350290\n",
      "1327                  2  443194\n",
      "1328                  2  465201\n",
      "1329                  0  376916\n",
      "1330                  2  456571\n",
      "1331                  2  421193\n",
      "1332                  0  328664\n",
      "1333                  3  432143\n",
      "1334                  0  342948\n",
      "1335                  0  379122\n",
      "1336                  0  369706\n",
      "1337                  0  456042\n",
      "\n",
      "[1338 rows x 2 columns]\n"
     ]
    }
   ],
   "source": [
    "df = pd.read_csv('bonus.csv') # read the data as a data frame\n",
    "print (df)\n"
   ]
  },
  {
   "cell_type": "code",
   "execution_count": 142,
   "metadata": {},
   "outputs": [
    {
     "name": "stdout",
     "output_type": "stream",
     "text": [
      " P value greater than alpha. Ho not rejected, number of years of experience has no effect on savings\n"
     ]
    }
   ],
   "source": [
    "# subset bonus based on number of years of experience\n",
    "yz = df[df.Yearsofexperience == 0]['Bonus']\n",
    "yo = df[df.Yearsofexperience == 1]['Bonus']\n",
    "yt = df[df.Yearsofexperience == 2]['Bonus']\n",
    "yth= df[df.Yearsofexperience == 3]['Bonus']\n",
    "\n",
    "f_stat, p_value = stats.f_oneway(yz,yo,yt, yth)\n",
    "msg =\" P value greater than alpha. Ho not rejected, number of years of experience has no effect on savings\"\n",
    "if p_value<alpha: \n",
    "        msg =\" P value less than alpha. Ho rejected. number of years of experience has an effect on savings\"       \n",
    "print (msg)"
   ]
  },
  {
   "cell_type": "code",
   "execution_count": null,
   "metadata": {},
   "outputs": [],
   "source": []
  }
 ],
 "metadata": {
  "kernelspec": {
   "display_name": "Python 3",
   "language": "python",
   "name": "python3"
  },
  "language_info": {
   "codemirror_mode": {
    "name": "ipython",
    "version": 3
   },
   "file_extension": ".py",
   "mimetype": "text/x-python",
   "name": "python",
   "nbconvert_exporter": "python",
   "pygments_lexer": "ipython3",
   "version": "3.7.0"
  }
 },
 "nbformat": 4,
 "nbformat_minor": 2
}
