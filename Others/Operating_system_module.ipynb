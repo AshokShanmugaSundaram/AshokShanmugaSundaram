{
 "cells": [
  {
   "cell_type": "markdown",
   "metadata": {},
   "source": [
    "# Operating system calls\n",
    "\n",
    "It's possible to use python to perform command line calls\n",
    "\n",
    "We can do this with the os module"
   ]
  },
  {
   "cell_type": "code",
   "execution_count": null,
   "metadata": {},
   "outputs": [],
   "source": [
    "import os"
   ]
  },
  {
   "cell_type": "markdown",
   "metadata": {},
   "source": [
    "## name of operating system\n",
    "\n",
    "We can get the operating system we're working on\n",
    "\n",
    "1. nt is windows\n",
    "2. posix is all unix based systems (Mac, Linux, ...)"
   ]
  },
  {
   "cell_type": "code",
   "execution_count": 3,
   "metadata": {},
   "outputs": [
    {
     "name": "stdout",
     "output_type": "stream",
     "text": [
      "nt\n"
     ]
    }
   ],
   "source": [
    "import os\n",
    "print(os.name)\n",
    "\n",
    "my_os = os.name\n"
   ]
  },
  {
   "cell_type": "markdown",
   "metadata": {},
   "source": [
    "## working directory"
   ]
  },
  {
   "cell_type": "code",
   "execution_count": 4,
   "metadata": {},
   "outputs": [
    {
     "data": {
      "text/plain": [
       "'D:\\\\anaconda\\\\ashok'"
      ]
     },
     "execution_count": 4,
     "metadata": {},
     "output_type": "execute_result"
    }
   ],
   "source": [
    "import os\n",
    "os.getcwd()"
   ]
  },
  {
   "cell_type": "code",
   "execution_count": null,
   "metadata": {},
   "outputs": [],
   "source": [
    "print(os.getcwd())"
   ]
  },
  {
   "cell_type": "markdown",
   "metadata": {},
   "source": [
    "## contents of directory"
   ]
  },
  {
   "cell_type": "code",
   "execution_count": 5,
   "metadata": {},
   "outputs": [
    {
     "data": {
      "text/plain": [
       "['.ipynb_checkpoints',\n",
       " 'Change current working directory-Jupiter notebook-command.txt',\n",
       " 'Debugging.ipynb',\n",
       " 'flow_control.ipynb',\n",
       " 'functions.ipynb',\n",
       " 'intro_to_python_data_types.ipynb',\n",
       " 'mtcars.csv',\n",
       " 'numpy_examples.ipynb',\n",
       " 'OOP_in_python.ipynb',\n",
       " 'Operating_system_module.ipynb',\n",
       " 'PE - Data structures in Python - Solutions.ipynb',\n",
       " 'PE - Data structures in Python.ipynb',\n",
       " 'PE - Numpy - Solutions.ipynb',\n",
       " 'PE - Numpy.ipynb',\n",
       " 'PE - Pandas - Solutions.ipynb',\n",
       " 'PE - Pandas.ipynb',\n",
       " 'Python Codes and FAQ.ipynb',\n",
       " 'Python Pre Work.ipynb']"
      ]
     },
     "execution_count": 5,
     "metadata": {},
     "output_type": "execute_result"
    }
   ],
   "source": [
    "import os\n",
    "os.listdir('.')"
   ]
  },
  {
   "cell_type": "code",
   "execution_count": 6,
   "metadata": {},
   "outputs": [
    {
     "data": {
      "text/plain": [
       "['.ipynb_checkpoints',\n",
       " 'Change current working directory-Jupiter notebook-command.txt',\n",
       " 'Debugging.ipynb',\n",
       " 'flow_control.ipynb',\n",
       " 'functions.ipynb',\n",
       " 'intro_to_python_data_types.ipynb',\n",
       " 'mtcars.csv',\n",
       " 'numpy_examples.ipynb',\n",
       " 'OOP_in_python.ipynb',\n",
       " 'Operating_system_module.ipynb',\n",
       " 'PE - Data structures in Python - Solutions.ipynb',\n",
       " 'PE - Data structures in Python.ipynb',\n",
       " 'PE - Numpy - Solutions.ipynb',\n",
       " 'PE - Numpy.ipynb',\n",
       " 'PE - Pandas - Solutions.ipynb',\n",
       " 'PE - Pandas.ipynb',\n",
       " 'Python Codes and FAQ.ipynb',\n",
       " 'Python Pre Work.ipynb']"
      ]
     },
     "execution_count": 6,
     "metadata": {},
     "output_type": "execute_result"
    }
   ],
   "source": [
    "import os\n",
    "os.listdir('D:\\\\anaconda\\\\ashok')"
   ]
  },
  {
   "cell_type": "markdown",
   "metadata": {},
   "source": [
    "## make and rename directory"
   ]
  },
  {
   "cell_type": "code",
   "execution_count": 7,
   "metadata": {},
   "outputs": [],
   "source": [
    "os.mkdir('D:\\\\anaconda\\\\ashok\\\\new_dir')"
   ]
  },
  {
   "cell_type": "code",
   "execution_count": 8,
   "metadata": {},
   "outputs": [],
   "source": [
    "os.rename('D:\\\\anaconda\\\\ashok\\\\new_dir','D:\\\\anaconda\\\\ashok\\\\new_dir2')"
   ]
  },
  {
   "cell_type": "markdown",
   "metadata": {},
   "source": [
    "## create and edit file"
   ]
  },
  {
   "cell_type": "code",
   "execution_count": 10,
   "metadata": {},
   "outputs": [],
   "source": [
    "file = open('D:\\\\anaconda\\\\ashok\\\\new_dir2\\\\myTXTfile.txt','w')\n",
    "file.write('hello \\^a')\n",
    "file.write('world!')\n",
    "file.close()"
   ]
  },
  {
   "cell_type": "code",
   "execution_count": null,
   "metadata": {},
   "outputs": [],
   "source": []
  }
 ],
 "metadata": {
  "kernelspec": {
   "display_name": "Python 3",
   "language": "python",
   "name": "python3"
  },
  "language_info": {
   "codemirror_mode": {
    "name": "ipython",
    "version": 3
   },
   "file_extension": ".py",
   "mimetype": "text/x-python",
   "name": "python",
   "nbconvert_exporter": "python",
   "pygments_lexer": "ipython3",
   "version": "3.7.6"
  }
 },
 "nbformat": 4,
 "nbformat_minor": 2
}
