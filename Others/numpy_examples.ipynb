{
 "cells": [
  {
   "cell_type": "markdown",
   "metadata": {},
   "source": [
    "# NumPy\n",
    "\n",
    "numpy is python's package for doing math that is more advanced than +-*/\n",
    "\n",
    "This includes special functions like cosine, exponential, sqrt, ...\n",
    "\n",
    "On top of this we can use numpy to generate samples from many types of random variables\n",
    "\n",
    "numpy also has a powerful data type to define vectors, matrices, and tensors\n",
    "\n",
    "With these data types numpy also allows us to do linear algebra - matrix multiplication and matrix-vector solutions"
   ]
  },
  {
   "cell_type": "code",
   "execution_count": null,
   "metadata": {},
   "outputs": [],
   "source": [
    "# the first step of using numpy is to tell python to use it\n",
    "import numpy as np"
   ]
  },
  {
   "cell_type": "code",
   "execution_count": 2,
   "metadata": {},
   "outputs": [
    {
     "name": "stdout",
     "output_type": "stream",
     "text": [
      "-1.0\n",
      "1.1\n",
      "5.2\n"
     ]
    }
   ],
   "source": [
    "import numpy as np\n",
    "print(np.cos(np.pi))\n",
    "print(np.sqrt(1.21))\n",
    "print(np.log(np.exp(5.2)))"
   ]
  },
  {
   "cell_type": "code",
   "execution_count": 3,
   "metadata": {},
   "outputs": [
    {
     "name": "stdout",
     "output_type": "stream",
     "text": [
      "[1 2 3]\n",
      "\n",
      "[[1 2 1]\n",
      " [4 5 9]\n",
      " [1 8 9]]\n",
      "\n",
      "[[1 4 1]\n",
      " [2 5 8]\n",
      " [1 9 9]]\n"
     ]
    }
   ],
   "source": [
    "# we can create numpy arrays by converting lists\n",
    "# this is a vector\n",
    "vec = np.array([1,2,3])\n",
    "print(vec)\n",
    "# we can create matrices by converting lists of lists\n",
    "mat = np.array([[1,2,1],[4,5,9],[1,8,9]])\n",
    "print('')\n",
    "print(mat)\n",
    "print('')\n",
    "print(mat.T)"
   ]
  },
  {
   "cell_type": "code",
   "execution_count": 6,
   "metadata": {},
   "outputs": [
    {
     "name": "stdout",
     "output_type": "stream",
     "text": [
      "[ 0  1  2  3  4  5  6  7  8  9 10 11 12 13 14]\n",
      "\n",
      "[ 3  9 15]\n"
     ]
    }
   ],
   "source": [
    "# there are lots of other ways to create numpy arrays\n",
    "vec2 = np.arange(0,15)\n",
    "print(vec2)\n",
    "print('')\n",
    "vec3 = np.arange(3,21,6)\n",
    "print(vec3)\n"
   ]
  },
  {
   "cell_type": "code",
   "execution_count": 9,
   "metadata": {},
   "outputs": [
    {
     "name": "stdout",
     "output_type": "stream",
     "text": [
      "[0.         0.55555556 1.11111111 1.66666667 2.22222222 2.77777778\n",
      " 3.33333333 3.88888889 4.44444444 5.        ]\n",
      "\n",
      "[[0.         0.55555556]\n",
      " [1.11111111 1.66666667]\n",
      " [2.22222222 2.77777778]\n",
      " [3.33333333 3.88888889]\n",
      " [4.44444444 5.        ]]\n",
      "[[0.         0.55555556]\n",
      " [1.11111111 1.66666667]\n",
      " [2.22222222 2.77777778]\n",
      " [3.33333333 3.88888889]\n",
      " [4.44444444 5.        ]]\n",
      "[0.         0.55555556 1.11111111 1.66666667 2.22222222 2.77777778\n",
      " 3.33333333 3.88888889 4.44444444 5.        ]\n"
     ]
    }
   ],
   "source": [
    "\n",
    "vec4 = np.linspace(0,5,10)\n",
    "print(vec4)\n",
    "print('')\n",
    "print(vec4.reshape(5,2))\n",
    "vec4_reshaped = vec4.reshape(5,2)\n",
    "print(vec4_reshaped)\n",
    "print(vec4)"
   ]
  },
  {
   "cell_type": "code",
   "execution_count": 11,
   "metadata": {},
   "outputs": [
    {
     "name": "stdout",
     "output_type": "stream",
     "text": [
      "[[0. 0. 0.]\n",
      " [0. 0. 0.]\n",
      " [0. 0. 0.]\n",
      " [0. 0. 0.]\n",
      " [0. 0. 0.]]\n",
      "\n",
      "[[1. 1. 1. 1. 1.]\n",
      " [1. 1. 1. 1. 1.]\n",
      " [1. 1. 1. 1. 1.]]\n",
      "\n",
      "[[1. 0. 0. 0. 0.]\n",
      " [0. 1. 0. 0. 0.]\n",
      " [0. 0. 1. 0. 0.]\n",
      " [0. 0. 0. 1. 0.]\n",
      " [0. 0. 0. 0. 1.]]\n"
     ]
    }
   ],
   "source": [
    "mat2 = np.zeros([5,3])\n",
    "print(mat2)\n",
    "mat3 = np.ones([3,5])\n",
    "print('')\n",
    "print(mat3)\n",
    "mat4 = np.eye(5)\n",
    "print('')\n",
    "print(mat4)"
   ]
  },
  {
   "cell_type": "code",
   "execution_count": 12,
   "metadata": {},
   "outputs": [
    {
     "name": "stdout",
     "output_type": "stream",
     "text": [
      "[1 2 3 4 5]\n",
      "[3 4 5 6 7]\n",
      "[ 4  6  8 10 12]\n",
      "[ 3  8 15 24 35]\n",
      "[1.         0.5        0.33333333 0.25       0.2       ]\n",
      "[1.73205081 2.         2.23606798 2.44948974 2.64575131]\n"
     ]
    }
   ],
   "source": [
    "# we can +-*/ arrays together if they're the right size\n",
    "vec5 = np.arange(1,6)\n",
    "vec6 = np.arange(3,8)\n",
    "print(vec5)\n",
    "print(vec6)\n",
    "print(vec5+vec6)\n",
    "print(vec5*vec6)\n",
    "print(1/vec5)\n",
    "print(np.sqrt(vec6))"
   ]
  },
  {
   "cell_type": "code",
   "execution_count": 13,
   "metadata": {},
   "outputs": [
    {
     "name": "stdout",
     "output_type": "stream",
     "text": [
      "[[1 2 1]\n",
      " [4 5 9]\n",
      " [1 8 9]]\n",
      "\n",
      "[1 2 3]\n",
      "\n",
      "[ 8 41 44]\n"
     ]
    }
   ],
   "source": [
    "# we can do matrix multiplication\n",
    "print(mat)\n",
    "print('')\n",
    "print(vec)\n",
    "print()\n",
    "product = np.matmul(mat,vec)\n",
    "print(product)"
   ]
  },
  {
   "cell_type": "code",
   "execution_count": null,
   "metadata": {},
   "outputs": [],
   "source": [
    "print(np.linalg.solve(mat,product))\n",
    "print('')\n",
    "print(np.linalg.inv(mat))"
   ]
  },
  {
   "cell_type": "code",
   "execution_count": 14,
   "metadata": {},
   "outputs": [
    {
     "name": "stdout",
     "output_type": "stream",
     "text": [
      "['blue' 'red' 'orange' 'purple' 'purple' 'orange' 'Red' '6']\n",
      "['6' 'Red' 'blue' 'orange' 'purple' 'red']\n"
     ]
    }
   ],
   "source": [
    "# we can find the unique values in an array\n",
    "vec7 = np.array(['blue','red','orange','purple','purple','orange','Red',6])\n",
    "print(vec7)\n",
    "print(np.unique(vec7))"
   ]
  },
  {
   "cell_type": "code",
   "execution_count": 15,
   "metadata": {},
   "outputs": [
    {
     "name": "stdout",
     "output_type": "stream",
     "text": [
      "[[0.18959324 0.15698083 0.07182768 0.71355214 0.46340034]\n",
      " [0.37779489 0.69878508 0.7641519  0.84707381 0.97788775]\n",
      " [0.5162122  0.57032808 0.32960722 0.67729356 0.57314826]\n",
      " [0.1043319  0.90326339 0.31024833 0.19154426 0.16716   ]\n",
      " [0.43269625 0.70445852 0.27101024 0.26557872 0.10440802]]\n",
      "\n",
      "[[-0.10609889  0.52042079 -1.76597952  0.96436189 -0.07746223]\n",
      " [ 0.09876243 -0.40229554 -1.97558973  0.3420532   1.48937252]\n",
      " [-0.72756903 -0.13019952 -0.06454678 -0.07940914  2.65152569]\n",
      " [-0.80652715 -1.7070331   1.59576201 -0.69297634  1.95973015]\n",
      " [-1.84767517  0.37430114  0.08938954  0.59306993 -0.09154064]\n",
      " [ 0.25888359  0.82899535  0.01417064 -1.49666847  0.71160916]\n",
      " [ 0.37961117  0.27000463 -1.30390899  0.65094919  1.21214348]\n",
      " [ 1.38855538 -0.40487828  0.62072469  0.38126892 -1.14541433]\n",
      " [ 0.40576596  0.63536078  2.25344665  0.17881548 -0.35006825]\n",
      " [-1.57336939  0.97320078  0.99131402  0.68963986 -0.89437064]]\n"
     ]
    }
   ],
   "source": [
    "# we can also use numpy to generate samples of a random variable\n",
    "rand_mat = np.random.rand(5,5) # uniform random variable\n",
    "print(rand_mat)\n",
    "rand_mat2 = np.random.randn(10,5) # standard normal random variable\n",
    "print('')\n",
    "print(rand_mat2)"
   ]
  },
  {
   "cell_type": "code",
   "execution_count": 16,
   "metadata": {},
   "outputs": [
    {
     "name": "stdout",
     "output_type": "stream",
     "text": [
      "0.4552934635783805\n",
      "1.0461711714063424\n"
     ]
    }
   ],
   "source": [
    "# we can also use numpy for statistical tools on arrays\n",
    "print(np.mean(rand_mat))\n",
    "print(np.std(rand_mat2))"
   ]
  },
  {
   "cell_type": "code",
   "execution_count": 17,
   "metadata": {},
   "outputs": [
    {
     "name": "stdout",
     "output_type": "stream",
     "text": [
      "0.07182767753061836\n",
      "2.651525687259837\n"
     ]
    }
   ],
   "source": [
    "print(np.min(rand_mat))\n",
    "print(np.max(rand_mat2))"
   ]
  },
  {
   "cell_type": "code",
   "execution_count": null,
   "metadata": {},
   "outputs": [],
   "source": [
    "# break here for next video!"
   ]
  },
  {
   "cell_type": "code",
   "execution_count": 18,
   "metadata": {},
   "outputs": [
    {
     "name": "stdout",
     "output_type": "stream",
     "text": [
      "[-0.16790025  0.59735022 -0.78618046 -0.08057934 -2.29915059  1.1288401\n",
      " -0.41034987 -0.53467057  0.87116341 -0.24013165  0.83623138  0.20128623\n",
      " -0.47884674  2.11739671  0.02338258  1.1856703  -0.20442068 -2.21562551\n",
      " -1.92472207]\n",
      "-0.4103498679151754\n"
     ]
    }
   ],
   "source": [
    "# how do we access entries in a numpy vector\n",
    "rand_vec = np.random.randn(19)\n",
    "print(rand_vec)\n",
    "print(rand_vec[6])"
   ]
  },
  {
   "cell_type": "code",
   "execution_count": 19,
   "metadata": {},
   "outputs": [
    {
     "name": "stdout",
     "output_type": "stream",
     "text": [
      "[-2.29915059  1.1288401  -0.41034987 -0.53467057  0.87116341]\n"
     ]
    }
   ],
   "source": [
    "# we can access multiple entries at once using :\n",
    "print(rand_vec[4:9])"
   ]
  },
  {
   "cell_type": "code",
   "execution_count": 20,
   "metadata": {},
   "outputs": [
    {
     "name": "stdout",
     "output_type": "stream",
     "text": [
      "[ 0  3  6  9 12]\n",
      "[-0.16790025 -0.08057934 -0.41034987 -0.24013165 -0.47884674]\n"
     ]
    }
   ],
   "source": [
    "# we can also access multiple non-consecutive entries using np.arange\n",
    "print(np.arange(0,15,3))\n",
    "print(rand_vec[np.arange(0,15,3)])"
   ]
  },
  {
   "cell_type": "code",
   "execution_count": 21,
   "metadata": {},
   "outputs": [
    {
     "name": "stdout",
     "output_type": "stream",
     "text": [
      "[[0.18959324 0.15698083 0.07182768 0.71355214 0.46340034]\n",
      " [0.37779489 0.69878508 0.7641519  0.84707381 0.97788775]\n",
      " [0.5162122  0.57032808 0.32960722 0.67729356 0.57314826]\n",
      " [0.1043319  0.90326339 0.31024833 0.19154426 0.16716   ]\n",
      " [0.43269625 0.70445852 0.27101024 0.26557872 0.10440802]]\n",
      "0.7641518958576526\n",
      "0.7641518958576526\n"
     ]
    }
   ],
   "source": [
    "# what about matrices\n",
    "print(rand_mat)\n",
    "print(rand_mat[1][2])\n",
    "print(rand_mat[1,2])\n"
   ]
  },
  {
   "cell_type": "code",
   "execution_count": null,
   "metadata": {},
   "outputs": [],
   "source": [
    "print(rand_mat[0:2,1:3])"
   ]
  },
  {
   "cell_type": "code",
   "execution_count": 22,
   "metadata": {},
   "outputs": [
    {
     "name": "stdout",
     "output_type": "stream",
     "text": [
      "[-0.16790025  0.59735022 -0.78618046 -0.08057934 -2.29915059  1.1288401\n",
      " -0.41034987 -0.53467057  0.87116341 -0.24013165  0.83623138  0.20128623\n",
      " -0.47884674  2.11739671  0.02338258  1.1856703  -0.20442068 -2.21562551\n",
      " -1.92472207]\n",
      "\n",
      "[-0.16790025  0.59735022 -0.78618046  4.          4.          1.1288401\n",
      " -0.41034987 -0.53467057  0.87116341 -0.24013165  0.83623138  0.20128623\n",
      " -0.47884674  2.11739671  0.02338258  1.1856703  -0.20442068 -2.21562551\n",
      " -1.92472207]\n",
      "\n",
      "[-0.16790025  0.59735022 -0.78618046  1.          2.          1.1288401\n",
      " -0.41034987 -0.53467057  0.87116341 -0.24013165  0.83623138  0.20128623\n",
      " -0.47884674  2.11739671  0.02338258  1.1856703  -0.20442068 -2.21562551\n",
      " -1.92472207]\n"
     ]
    }
   ],
   "source": [
    "# let's change some values in an array!\n",
    "print(rand_vec)\n",
    "rand_vec[3:5] = 4\n",
    "print('')\n",
    "print(rand_vec)\n",
    "rand_vec[3:5] = [1,2]\n",
    "print('')\n",
    "print(rand_vec)"
   ]
  },
  {
   "cell_type": "code",
   "execution_count": 23,
   "metadata": {},
   "outputs": [
    {
     "name": "stdout",
     "output_type": "stream",
     "text": [
      "[[0.18959324 0.15698083 0.07182768 0.71355214 0.46340034]\n",
      " [0.37779489 0.69878508 0.7641519  0.84707381 0.97788775]\n",
      " [0.5162122  0.57032808 0.32960722 0.67729356 0.57314826]\n",
      " [0.1043319  0.90326339 0.31024833 0.19154426 0.16716   ]\n",
      " [0.43269625 0.70445852 0.27101024 0.26557872 0.10440802]]\n",
      "\n",
      "[[0.18959324 0.15698083 0.07182768 0.71355214 0.46340034]\n",
      " [0.37779489 0.69878508 0.7641519  0.         0.        ]\n",
      " [0.5162122  0.57032808 0.32960722 0.         0.        ]\n",
      " [0.1043319  0.90326339 0.31024833 0.19154426 0.16716   ]\n",
      " [0.43269625 0.70445852 0.27101024 0.26557872 0.10440802]]\n"
     ]
    }
   ],
   "source": [
    "print(rand_mat)\n",
    "rand_mat[1:3,3:5] = 0\n",
    "print('')\n",
    "print(rand_mat)"
   ]
  },
  {
   "cell_type": "code",
   "execution_count": 24,
   "metadata": {},
   "outputs": [
    {
     "name": "stdout",
     "output_type": "stream",
     "text": [
      "[[0.18959324 0.15698083 0.07182768]\n",
      " [0.37779489 0.69878508 0.7641519 ]]\n",
      "[[3. 3. 3.]\n",
      " [3. 3. 3.]]\n"
     ]
    }
   ],
   "source": [
    "sub_mat = rand_mat[0:2,0:3]\n",
    "print(sub_mat)\n",
    "sub_mat[:] = 3\n",
    "print(sub_mat)\n"
   ]
  },
  {
   "cell_type": "code",
   "execution_count": 25,
   "metadata": {},
   "outputs": [
    {
     "name": "stdout",
     "output_type": "stream",
     "text": [
      "[[3.         3.         3.         0.71355214 0.46340034]\n",
      " [3.         3.         3.         0.         0.        ]\n",
      " [0.5162122  0.57032808 0.32960722 0.         0.        ]\n",
      " [0.1043319  0.90326339 0.31024833 0.19154426 0.16716   ]\n",
      " [0.43269625 0.70445852 0.27101024 0.26557872 0.10440802]]\n"
     ]
    }
   ],
   "source": [
    "print(rand_mat)"
   ]
  },
  {
   "cell_type": "code",
   "execution_count": null,
   "metadata": {},
   "outputs": [],
   "source": [
    "sub_mat2 = rand_mat[0:2,0:3].copy()\n",
    "sub_mat2[:] = 99\n",
    "print(sub_mat2)\n",
    "print(rand_mat)\n"
   ]
  },
  {
   "cell_type": "code",
   "execution_count": null,
   "metadata": {},
   "outputs": [],
   "source": [
    "# break here for next video"
   ]
  },
  {
   "cell_type": "code",
   "execution_count": 26,
   "metadata": {},
   "outputs": [
    {
     "name": "stdout",
     "output_type": "stream",
     "text": [
      "[-0.31027457 -1.3989834   0.59929234  0.55834343 -0.43950555  1.20901333\n",
      " -0.83953502 -0.84500575 -0.22593629 -1.82783929  1.06035809  1.71027491\n",
      "  0.3610966   0.04068522 -1.39703166]\n",
      "[False False  True  True False  True False False False False  True  True\n",
      "  True  True False]\n",
      "[0.59929234 0.55834343 1.20901333 1.06035809 1.71027491 0.3610966\n",
      " 0.04068522]\n"
     ]
    }
   ],
   "source": [
    "# we can also access entries with logicals\n",
    "rand_vec = np.random.randn(15)\n",
    "\n",
    "print(rand_vec)\n",
    "print(rand_vec>0)\n",
    "print(rand_vec[rand_vec>0])"
   ]
  },
  {
   "cell_type": "code",
   "execution_count": 27,
   "metadata": {},
   "outputs": [
    {
     "name": "stdout",
     "output_type": "stream",
     "text": [
      "[[-0.10609889  0.52042079 -1.76597952  0.96436189 -0.07746223]\n",
      " [ 0.09876243 -0.40229554 -1.97558973  0.3420532   1.48937252]\n",
      " [-0.72756903 -0.13019952 -0.06454678 -0.07940914  2.65152569]\n",
      " [-0.80652715 -1.7070331   1.59576201 -0.69297634  1.95973015]\n",
      " [-1.84767517  0.37430114  0.08938954  0.59306993 -0.09154064]\n",
      " [ 0.25888359  0.82899535  0.01417064 -1.49666847  0.71160916]\n",
      " [ 0.37961117  0.27000463 -1.30390899  0.65094919  1.21214348]\n",
      " [ 1.38855538 -0.40487828  0.62072469  0.38126892 -1.14541433]\n",
      " [ 0.40576596  0.63536078  2.25344665  0.17881548 -0.35006825]\n",
      " [-1.57336939  0.97320078  0.99131402  0.68963986 -0.89437064]]\n",
      "[0.52042079 0.96436189 0.09876243 0.3420532  1.48937252 2.65152569\n",
      " 1.59576201 1.95973015 0.37430114 0.08938954 0.59306993 0.25888359\n",
      " 0.82899535 0.01417064 0.71160916 0.37961117 0.27000463 0.65094919\n",
      " 1.21214348 1.38855538 0.62072469 0.38126892 0.40576596 0.63536078\n",
      " 2.25344665 0.17881548 0.97320078 0.99131402 0.68963986]\n"
     ]
    }
   ],
   "source": [
    "print(rand_mat2)\n",
    "print(rand_mat2[rand_mat2>0])"
   ]
  },
  {
   "cell_type": "code",
   "execution_count": 28,
   "metadata": {},
   "outputs": [
    {
     "name": "stdout",
     "output_type": "stream",
     "text": [
      "[-0.31027457 -1.3989834   0.59929234  0.55834343 -0.43950555  1.20901333\n",
      " -0.83953502 -0.84500575 -0.22593629 -1.82783929  1.06035809  1.71027491\n",
      "  0.3610966   0.04068522 -1.39703166]\n",
      "\n",
      "[-0.31027457 -1.3989834  -5.         -5.         -0.43950555 -5.\n",
      " -0.83953502 -0.84500575 -0.22593629 -1.82783929 -5.         -5.\n",
      "  0.3610966   0.04068522 -1.39703166]\n"
     ]
    }
   ],
   "source": [
    "\n",
    "print(rand_vec)\n",
    "print('')\n",
    "rand_vec[rand_vec>0.5] = -5\n",
    "print(rand_vec)"
   ]
  },
  {
   "cell_type": "code",
   "execution_count": 30,
   "metadata": {},
   "outputs": [],
   "source": [
    "# let's save some arrays on the disk for use later!\n",
    "np.save('saved_file_name',rand_mat2)\n"
   ]
  },
  {
   "cell_type": "code",
   "execution_count": 31,
   "metadata": {},
   "outputs": [],
   "source": [
    "np.savez('zipped_file_name',rand_mat=rand_mat,rand_mat2=rand_mat2)"
   ]
  },
  {
   "cell_type": "code",
   "execution_count": 32,
   "metadata": {},
   "outputs": [
    {
     "name": "stdout",
     "output_type": "stream",
     "text": [
      "[[-0.10609889  0.52042079 -1.76597952  0.96436189 -0.07746223]\n",
      " [ 0.09876243 -0.40229554 -1.97558973  0.3420532   1.48937252]\n",
      " [-0.72756903 -0.13019952 -0.06454678 -0.07940914  2.65152569]\n",
      " [-0.80652715 -1.7070331   1.59576201 -0.69297634  1.95973015]\n",
      " [-1.84767517  0.37430114  0.08938954  0.59306993 -0.09154064]\n",
      " [ 0.25888359  0.82899535  0.01417064 -1.49666847  0.71160916]\n",
      " [ 0.37961117  0.27000463 -1.30390899  0.65094919  1.21214348]\n",
      " [ 1.38855538 -0.40487828  0.62072469  0.38126892 -1.14541433]\n",
      " [ 0.40576596  0.63536078  2.25344665  0.17881548 -0.35006825]\n",
      " [-1.57336939  0.97320078  0.99131402  0.68963986 -0.89437064]]\n",
      "\n",
      "<numpy.lib.npyio.NpzFile object at 0x000001CB608E0248>\n"
     ]
    }
   ],
   "source": [
    "# now let's load it\n",
    "loaded_vec = np.load('saved_file_name.npy')\n",
    "loaded_zip = np.load('zipped_file_name.npz')\n",
    "\n",
    "print(loaded_vec)\n",
    "print('')\n",
    "print(loaded_zip)"
   ]
  },
  {
   "cell_type": "code",
   "execution_count": 33,
   "metadata": {},
   "outputs": [
    {
     "name": "stdout",
     "output_type": "stream",
     "text": [
      "[[3.         3.         3.         0.71355214 0.46340034]\n",
      " [3.         3.         3.         0.         0.        ]\n",
      " [0.5162122  0.57032808 0.32960722 0.         0.        ]\n",
      " [0.1043319  0.90326339 0.31024833 0.19154426 0.16716   ]\n",
      " [0.43269625 0.70445852 0.27101024 0.26557872 0.10440802]]\n",
      "\n",
      "[[-0.10609889  0.52042079 -1.76597952  0.96436189 -0.07746223]\n",
      " [ 0.09876243 -0.40229554 -1.97558973  0.3420532   1.48937252]\n",
      " [-0.72756903 -0.13019952 -0.06454678 -0.07940914  2.65152569]\n",
      " [-0.80652715 -1.7070331   1.59576201 -0.69297634  1.95973015]\n",
      " [-1.84767517  0.37430114  0.08938954  0.59306993 -0.09154064]\n",
      " [ 0.25888359  0.82899535  0.01417064 -1.49666847  0.71160916]\n",
      " [ 0.37961117  0.27000463 -1.30390899  0.65094919  1.21214348]\n",
      " [ 1.38855538 -0.40487828  0.62072469  0.38126892 -1.14541433]\n",
      " [ 0.40576596  0.63536078  2.25344665  0.17881548 -0.35006825]\n",
      " [-1.57336939  0.97320078  0.99131402  0.68963986 -0.89437064]]\n",
      "[[3.         3.         3.         0.71355214 0.46340034]\n",
      " [3.         3.         3.         0.         0.        ]\n",
      " [0.5162122  0.57032808 0.32960722 0.         0.        ]\n",
      " [0.1043319  0.90326339 0.31024833 0.19154426 0.16716   ]\n",
      " [0.43269625 0.70445852 0.27101024 0.26557872 0.10440802]]\n"
     ]
    }
   ],
   "source": [
    "print(loaded_zip['rand_mat'])\n",
    "print('')\n",
    "print(loaded_zip['rand_mat2'])\n",
    "\n",
    "new_array  = loaded_zip['rand_mat']\n",
    "print(new_array)"
   ]
  },
  {
   "cell_type": "code",
   "execution_count": 34,
   "metadata": {},
   "outputs": [
    {
     "name": "stdout",
     "output_type": "stream",
     "text": [
      "[[3.         3.         3.         0.71355214 0.46340034]\n",
      " [3.         3.         3.         0.         0.        ]\n",
      " [0.5162122  0.57032808 0.32960722 0.         0.        ]\n",
      " [0.1043319  0.90326339 0.31024833 0.19154426 0.16716   ]\n",
      " [0.43269625 0.70445852 0.27101024 0.26557872 0.10440802]]\n",
      "\n",
      "[[3.         3.         3.         0.71355214 0.46340034]\n",
      " [3.         3.         3.         0.         0.        ]\n",
      " [0.5162122  0.57032808 0.32960722 0.         0.        ]\n",
      " [0.1043319  0.90326339 0.31024833 0.19154426 0.16716   ]\n",
      " [0.43269625 0.70445852 0.27101024 0.26557872 0.10440802]]\n"
     ]
    }
   ],
   "source": [
    "# we can also save/load as text files...but only single variables\n",
    "np.savetxt('text_file_name.txt',rand_mat,delimiter=',')\n",
    "rand_mat_txt = np.loadtxt('text_file_name.txt',delimiter=',')\n",
    "print(rand_mat)\n",
    "print('')\n",
    "print(rand_mat_txt)"
   ]
  },
  {
   "cell_type": "code",
   "execution_count": null,
   "metadata": {},
   "outputs": [],
   "source": []
  }
 ],
 "metadata": {
  "kernelspec": {
   "display_name": "Python 3",
   "language": "python",
   "name": "python3"
  },
  "language_info": {
   "codemirror_mode": {
    "name": "ipython",
    "version": 3
   },
   "file_extension": ".py",
   "mimetype": "text/x-python",
   "name": "python",
   "nbconvert_exporter": "python",
   "pygments_lexer": "ipython3",
   "version": "3.7.6"
  }
 },
 "nbformat": 4,
 "nbformat_minor": 2
}
