{
 "cells": [
  {
   "cell_type": "markdown",
   "metadata": {
    "id": "gut7dgzQehoE"
   },
   "source": [
    "### **Natural Language Processing Project 1 - Ashok Shanmuga Sundaram** "
   ]
  },
  {
   "cell_type": "markdown",
   "metadata": {
    "id": "zWP2deEFmJN2"
   },
   "source": [
    "## **PART-1 - Objective:**\n",
    "The objective is to build a NLP classifier which can use input text parameters to determine the label/s of the blog\n"
   ]
  },
  {
   "cell_type": "markdown",
   "metadata": {
    "id": "xejSismAQAQR"
   },
   "source": [
    "### **1.0 Importing the Libraries**"
   ]
  },
  {
   "cell_type": "code",
   "execution_count": 8,
   "metadata": {
    "colab": {
     "base_uri": "https://localhost:8080/",
     "height": 35
    },
    "executionInfo": {
     "elapsed": 1887,
     "status": "ok",
     "timestamp": 1616332811251,
     "user": {
      "displayName": "SURJEET DHARSAN A S",
      "photoUrl": "",
      "userId": "05909804033538903331"
     },
     "user_tz": -330
    },
    "id": "xl6-17Oq9uey",
    "outputId": "54eb36c5-3f86-44d5-bd7d-fe8b010ab3ba"
   },
   "outputs": [
    {
     "data": {
      "application/vnd.google.colaboratory.intrinsic+json": {
       "type": "string"
      },
      "text/plain": [
       "'2.4.1'"
      ]
     },
     "execution_count": 8,
     "metadata": {
      "tags": []
     },
     "output_type": "execute_result"
    }
   ],
   "source": [
    "%tensorflow_version 2.x\n",
    "import tensorflow as tf\n",
    "tf.__version__"
   ]
  },
  {
   "cell_type": "code",
   "execution_count": 9,
   "metadata": {
    "collapsed": true,
    "executionInfo": {
     "elapsed": 3349,
     "status": "ok",
     "timestamp": 1616332812733,
     "user": {
      "displayName": "SURJEET DHARSAN A S",
      "photoUrl": "",
      "userId": "05909804033538903331"
     },
     "user_tz": -330
    },
    "id": "zlF5x0wZeRo8"
   },
   "outputs": [],
   "source": [
    "# Initialize the random number generator\n",
    "import random\n",
    "random.seed(0)\n",
    "\n",
    "# Ignore the warnings\n",
    "import warnings\n",
    "warnings.filterwarnings(\"ignore\")"
   ]
  },
  {
   "cell_type": "code",
   "execution_count": 10,
   "metadata": {
    "collapsed": true,
    "executionInfo": {
     "elapsed": 3344,
     "status": "ok",
     "timestamp": 1616332812735,
     "user": {
      "displayName": "SURJEET DHARSAN A S",
      "photoUrl": "",
      "userId": "05909804033538903331"
     },
     "user_tz": -330
    },
    "id": "a2ZJZ8OK9-ws"
   },
   "outputs": [],
   "source": [
    "import numpy as np\n",
    "import pandas as pd\n",
    "import re\n",
    "from nltk.corpus import stopwords\n",
    "from sklearn.feature_extraction.text import CountVectorizer\n",
    "from sklearn.model_selection import train_test_split\n",
    "from nltk.stem.snowball import SnowballStemmer\n",
    "import warnings\n",
    "warnings.filterwarnings('ignore')\n",
    "import pandas_profiling as pp\n",
    "import seaborn as sns\n",
    "import matplotlib as plt\n",
    "%matplotlib inline"
   ]
  },
  {
   "cell_type": "markdown",
   "metadata": {
    "id": "0IYpA-K7Rdax"
   },
   "source": [
    "### **1.1. Importing and Analysing the dataset**\n"
   ]
  },
  {
   "cell_type": "code",
   "execution_count": 11,
   "metadata": {
    "collapsed": true,
    "executionInfo": {
     "elapsed": 3338,
     "status": "ok",
     "timestamp": 1616332812736,
     "user": {
      "displayName": "SURJEET DHARSAN A S",
      "photoUrl": "",
      "userId": "05909804033538903331"
     },
     "user_tz": -330
    },
    "id": "OtCfh8g31Nwy"
   },
   "outputs": [],
   "source": [
    "from google.colab import drive"
   ]
  },
  {
   "cell_type": "code",
   "execution_count": 12,
   "metadata": {
    "colab": {
     "base_uri": "https://localhost:8080/"
    },
    "executionInfo": {
     "elapsed": 3332,
     "status": "ok",
     "timestamp": 1616332812737,
     "user": {
      "displayName": "SURJEET DHARSAN A S",
      "photoUrl": "",
      "userId": "05909804033538903331"
     },
     "user_tz": -330
    },
    "id": "rBcfbf0sTVDL",
    "outputId": "9629ada0-f9d1-4517-bf35-418647646b6b"
   },
   "outputs": [
    {
     "name": "stdout",
     "output_type": "stream",
     "text": [
      "Drive already mounted at /content/drive/; to attempt to forcibly remount, call drive.mount(\"/content/drive/\", force_remount=True).\n"
     ]
    }
   ],
   "source": [
    "drive.mount('/content/drive/')"
   ]
  },
  {
   "cell_type": "code",
   "execution_count": 13,
   "metadata": {
    "collapsed": true,
    "executionInfo": {
     "elapsed": 3320,
     "status": "ok",
     "timestamp": 1616332812738,
     "user": {
      "displayName": "SURJEET DHARSAN A S",
      "photoUrl": "",
      "userId": "05909804033538903331"
     },
     "user_tz": -330
    },
    "id": "mZu_fztI-xzi"
   },
   "outputs": [],
   "source": [
    "# Adding path to the folder where dataset file is located\n",
    "project_path = '/content/drive/My Drive/AIML/Projects/NLP1/'"
   ]
  },
  {
   "cell_type": "code",
   "execution_count": 14,
   "metadata": {
    "collapsed": true,
    "executionInfo": {
     "elapsed": 24647,
     "status": "ok",
     "timestamp": 1616332834072,
     "user": {
      "displayName": "SURJEET DHARSAN A S",
      "photoUrl": "",
      "userId": "05909804033538903331"
     },
     "user_tz": -330
    },
    "id": "XuOX2IABzSSy"
   },
   "outputs": [],
   "source": [
    "# Loading the dataset\n",
    "blog_df = pd.read_csv(project_path + \"blogtext.csv\")"
   ]
  },
  {
   "cell_type": "code",
   "execution_count": 15,
   "metadata": {
    "colab": {
     "base_uri": "https://localhost:8080/"
    },
    "executionInfo": {
     "elapsed": 24647,
     "status": "ok",
     "timestamp": 1616332834079,
     "user": {
      "displayName": "SURJEET DHARSAN A S",
      "photoUrl": "",
      "userId": "05909804033538903331"
     },
     "user_tz": -330
    },
    "id": "wzYlaCIS0Inc",
    "outputId": "fb3ebfd0-89ef-4ccb-ec32-425bfc4e31b4"
   },
   "outputs": [
    {
     "data": {
      "text/plain": [
       "(681284, 7)"
      ]
     },
     "execution_count": 15,
     "metadata": {
      "tags": []
     },
     "output_type": "execute_result"
    }
   ],
   "source": [
    "# checking the shape of the data frame\n",
    "blog_df.shape"
   ]
  },
  {
   "cell_type": "code",
   "execution_count": 16,
   "metadata": {
    "colab": {
     "base_uri": "https://localhost:8080/",
     "height": 195
    },
    "executionInfo": {
     "elapsed": 24635,
     "status": "ok",
     "timestamp": 1616332834082,
     "user": {
      "displayName": "SURJEET DHARSAN A S",
      "photoUrl": "",
      "userId": "05909804033538903331"
     },
     "user_tz": -330
    },
    "id": "FsIMEFY185c7",
    "outputId": "90e8e122-beea-410d-946d-fcf2ffd957cc"
   },
   "outputs": [
    {
     "data": {
      "text/html": [
       "<div>\n",
       "<style scoped>\n",
       "    .dataframe tbody tr th:only-of-type {\n",
       "        vertical-align: middle;\n",
       "    }\n",
       "\n",
       "    .dataframe tbody tr th {\n",
       "        vertical-align: top;\n",
       "    }\n",
       "\n",
       "    .dataframe thead th {\n",
       "        text-align: right;\n",
       "    }\n",
       "</style>\n",
       "<table border=\"1\" class=\"dataframe\">\n",
       "  <thead>\n",
       "    <tr style=\"text-align: right;\">\n",
       "      <th></th>\n",
       "      <th>id</th>\n",
       "      <th>gender</th>\n",
       "      <th>age</th>\n",
       "      <th>topic</th>\n",
       "      <th>sign</th>\n",
       "      <th>date</th>\n",
       "      <th>text</th>\n",
       "    </tr>\n",
       "  </thead>\n",
       "  <tbody>\n",
       "    <tr>\n",
       "      <th>528347</th>\n",
       "      <td>955372</td>\n",
       "      <td>female</td>\n",
       "      <td>16</td>\n",
       "      <td>Student</td>\n",
       "      <td>Aries</td>\n",
       "      <td>23,April,2003</td>\n",
       "      <td>The library nazi seems... pleasant toda...</td>\n",
       "    </tr>\n",
       "    <tr>\n",
       "      <th>181946</th>\n",
       "      <td>3755083</td>\n",
       "      <td>female</td>\n",
       "      <td>14</td>\n",
       "      <td>Science</td>\n",
       "      <td>Aries</td>\n",
       "      <td>13,August,2004</td>\n",
       "      <td>Mood=Lazy  Well, here I am, starting y...</td>\n",
       "    </tr>\n",
       "    <tr>\n",
       "      <th>35179</th>\n",
       "      <td>3169212</td>\n",
       "      <td>female</td>\n",
       "      <td>15</td>\n",
       "      <td>Student</td>\n",
       "      <td>Cancer</td>\n",
       "      <td>01,August,2004</td>\n",
       "      <td>Col. Jack O'Neill:  Pretty good actuall...</td>\n",
       "    </tr>\n",
       "    <tr>\n",
       "      <th>493765</th>\n",
       "      <td>2543830</td>\n",
       "      <td>female</td>\n",
       "      <td>14</td>\n",
       "      <td>Arts</td>\n",
       "      <td>Virgo</td>\n",
       "      <td>15,May,2004</td>\n",
       "      <td>Ahhhh, yes.  The play is finally over. ...</td>\n",
       "    </tr>\n",
       "    <tr>\n",
       "      <th>60111</th>\n",
       "      <td>3451421</td>\n",
       "      <td>male</td>\n",
       "      <td>23</td>\n",
       "      <td>Student</td>\n",
       "      <td>Taurus</td>\n",
       "      <td>02,June,2004</td>\n",
       "      <td>Journal 2-2               Patrick Milin...</td>\n",
       "    </tr>\n",
       "  </tbody>\n",
       "</table>\n",
       "</div>"
      ],
      "text/plain": [
       "             id  ...                                               text\n",
       "528347   955372  ...         The library nazi seems... pleasant toda...\n",
       "181946  3755083  ...          Mood=Lazy  Well, here I am, starting y...\n",
       "35179   3169212  ...         Col. Jack O'Neill:  Pretty good actuall...\n",
       "493765  2543830  ...         Ahhhh, yes.  The play is finally over. ...\n",
       "60111   3451421  ...         Journal 2-2               Patrick Milin...\n",
       "\n",
       "[5 rows x 7 columns]"
      ]
     },
     "execution_count": 16,
     "metadata": {
      "tags": []
     },
     "output_type": "execute_result"
    }
   ],
   "source": [
    "#checking if the data frame is properly loaded using the sample() method\n",
    "blog_df.sample(5)"
   ]
  },
  {
   "cell_type": "code",
   "execution_count": 17,
   "metadata": {
    "collapsed": true,
    "executionInfo": {
     "elapsed": 26812,
     "status": "ok",
     "timestamp": 1616332836271,
     "user": {
      "displayName": "SURJEET DHARSAN A S",
      "photoUrl": "",
      "userId": "05909804033538903331"
     },
     "user_tz": -330
    },
    "id": "SZp5toQ99eqi"
   },
   "outputs": [],
   "source": [
    "#Limiting the data and using fewer rows as the data size is large\n",
    "blog_df = pd.read_csv(project_path + \"blogtext.csv\",nrows=100000)"
   ]
  },
  {
   "cell_type": "code",
   "execution_count": 18,
   "metadata": {
    "colab": {
     "base_uri": "https://localhost:8080/",
     "height": 195
    },
    "executionInfo": {
     "elapsed": 26819,
     "status": "ok",
     "timestamp": 1616332836288,
     "user": {
      "displayName": "SURJEET DHARSAN A S",
      "photoUrl": "",
      "userId": "05909804033538903331"
     },
     "user_tz": -330
    },
    "id": "Tsxmqd-r98Bi",
    "outputId": "82271a2a-91bd-4a29-9b8b-35fbde9cc470"
   },
   "outputs": [
    {
     "data": {
      "text/html": [
       "<div>\n",
       "<style scoped>\n",
       "    .dataframe tbody tr th:only-of-type {\n",
       "        vertical-align: middle;\n",
       "    }\n",
       "\n",
       "    .dataframe tbody tr th {\n",
       "        vertical-align: top;\n",
       "    }\n",
       "\n",
       "    .dataframe thead th {\n",
       "        text-align: right;\n",
       "    }\n",
       "</style>\n",
       "<table border=\"1\" class=\"dataframe\">\n",
       "  <thead>\n",
       "    <tr style=\"text-align: right;\">\n",
       "      <th></th>\n",
       "      <th>id</th>\n",
       "      <th>gender</th>\n",
       "      <th>age</th>\n",
       "      <th>topic</th>\n",
       "      <th>sign</th>\n",
       "      <th>date</th>\n",
       "      <th>text</th>\n",
       "    </tr>\n",
       "  </thead>\n",
       "  <tbody>\n",
       "    <tr>\n",
       "      <th>0</th>\n",
       "      <td>2059027</td>\n",
       "      <td>male</td>\n",
       "      <td>15</td>\n",
       "      <td>Student</td>\n",
       "      <td>Leo</td>\n",
       "      <td>14,May,2004</td>\n",
       "      <td>Info has been found (+/- 100 pages,...</td>\n",
       "    </tr>\n",
       "    <tr>\n",
       "      <th>1</th>\n",
       "      <td>2059027</td>\n",
       "      <td>male</td>\n",
       "      <td>15</td>\n",
       "      <td>Student</td>\n",
       "      <td>Leo</td>\n",
       "      <td>13,May,2004</td>\n",
       "      <td>These are the team members:   Drewe...</td>\n",
       "    </tr>\n",
       "    <tr>\n",
       "      <th>2</th>\n",
       "      <td>2059027</td>\n",
       "      <td>male</td>\n",
       "      <td>15</td>\n",
       "      <td>Student</td>\n",
       "      <td>Leo</td>\n",
       "      <td>12,May,2004</td>\n",
       "      <td>In het kader van kernfusie op aarde...</td>\n",
       "    </tr>\n",
       "    <tr>\n",
       "      <th>3</th>\n",
       "      <td>2059027</td>\n",
       "      <td>male</td>\n",
       "      <td>15</td>\n",
       "      <td>Student</td>\n",
       "      <td>Leo</td>\n",
       "      <td>12,May,2004</td>\n",
       "      <td>testing!!!  testing!!!</td>\n",
       "    </tr>\n",
       "    <tr>\n",
       "      <th>4</th>\n",
       "      <td>3581210</td>\n",
       "      <td>male</td>\n",
       "      <td>33</td>\n",
       "      <td>InvestmentBanking</td>\n",
       "      <td>Aquarius</td>\n",
       "      <td>11,June,2004</td>\n",
       "      <td>Thanks to Yahoo!'s Toolbar I can ...</td>\n",
       "    </tr>\n",
       "  </tbody>\n",
       "</table>\n",
       "</div>"
      ],
      "text/plain": [
       "        id  ...                                               text\n",
       "0  2059027  ...             Info has been found (+/- 100 pages,...\n",
       "1  2059027  ...             These are the team members:   Drewe...\n",
       "2  2059027  ...             In het kader van kernfusie op aarde...\n",
       "3  2059027  ...                   testing!!!  testing!!!          \n",
       "4  3581210  ...               Thanks to Yahoo!'s Toolbar I can ...\n",
       "\n",
       "[5 rows x 7 columns]"
      ]
     },
     "execution_count": 18,
     "metadata": {
      "tags": []
     },
     "output_type": "execute_result"
    }
   ],
   "source": [
    "blog_df.head()"
   ]
  },
  {
   "cell_type": "code",
   "execution_count": 19,
   "metadata": {
    "colab": {
     "base_uri": "https://localhost:8080/",
     "height": 195
    },
    "executionInfo": {
     "elapsed": 26811,
     "status": "ok",
     "timestamp": 1616332836292,
     "user": {
      "displayName": "SURJEET DHARSAN A S",
      "photoUrl": "",
      "userId": "05909804033538903331"
     },
     "user_tz": -330
    },
    "id": "SwMFLmtd-ATt",
    "outputId": "84c021e0-021e-4649-bddb-8a2406958e0e"
   },
   "outputs": [
    {
     "data": {
      "text/html": [
       "<div>\n",
       "<style scoped>\n",
       "    .dataframe tbody tr th:only-of-type {\n",
       "        vertical-align: middle;\n",
       "    }\n",
       "\n",
       "    .dataframe tbody tr th {\n",
       "        vertical-align: top;\n",
       "    }\n",
       "\n",
       "    .dataframe thead th {\n",
       "        text-align: right;\n",
       "    }\n",
       "</style>\n",
       "<table border=\"1\" class=\"dataframe\">\n",
       "  <thead>\n",
       "    <tr style=\"text-align: right;\">\n",
       "      <th></th>\n",
       "      <th>id</th>\n",
       "      <th>gender</th>\n",
       "      <th>age</th>\n",
       "      <th>topic</th>\n",
       "      <th>sign</th>\n",
       "      <th>date</th>\n",
       "      <th>text</th>\n",
       "    </tr>\n",
       "  </thead>\n",
       "  <tbody>\n",
       "    <tr>\n",
       "      <th>99995</th>\n",
       "      <td>1709399</td>\n",
       "      <td>male</td>\n",
       "      <td>27</td>\n",
       "      <td>Student</td>\n",
       "      <td>Virgo</td>\n",
       "      <td>18,September,2003</td>\n",
       "      <td>THE HINDU - 125 YEARS             ...</td>\n",
       "    </tr>\n",
       "    <tr>\n",
       "      <th>99996</th>\n",
       "      <td>1709399</td>\n",
       "      <td>male</td>\n",
       "      <td>27</td>\n",
       "      <td>Student</td>\n",
       "      <td>Virgo</td>\n",
       "      <td>16,September,2003</td>\n",
       "      <td>DILBERT &amp; IIT-ans                 ...</td>\n",
       "    </tr>\n",
       "    <tr>\n",
       "      <th>99997</th>\n",
       "      <td>1709399</td>\n",
       "      <td>male</td>\n",
       "      <td>27</td>\n",
       "      <td>Student</td>\n",
       "      <td>Virgo</td>\n",
       "      <td>12,September,2003</td>\n",
       "      <td>Case Study : How HP won $3 billion...</td>\n",
       "    </tr>\n",
       "    <tr>\n",
       "      <th>99998</th>\n",
       "      <td>1709399</td>\n",
       "      <td>male</td>\n",
       "      <td>27</td>\n",
       "      <td>Student</td>\n",
       "      <td>Virgo</td>\n",
       "      <td>09,September,2003</td>\n",
       "      <td>Championing Chennai               ...</td>\n",
       "    </tr>\n",
       "    <tr>\n",
       "      <th>99999</th>\n",
       "      <td>1709399</td>\n",
       "      <td>male</td>\n",
       "      <td>27</td>\n",
       "      <td>Student</td>\n",
       "      <td>Virgo</td>\n",
       "      <td>05,September,2003</td>\n",
       "      <td>WEEKEND                         It...</td>\n",
       "    </tr>\n",
       "  </tbody>\n",
       "</table>\n",
       "</div>"
      ],
      "text/plain": [
       "            id  ...                                               text\n",
       "99995  1709399  ...              THE HINDU - 125 YEARS             ...\n",
       "99996  1709399  ...              DILBERT & IIT-ans                 ...\n",
       "99997  1709399  ...              Case Study : How HP won $3 billion...\n",
       "99998  1709399  ...              Championing Chennai               ...\n",
       "99999  1709399  ...              WEEKEND                         It...\n",
       "\n",
       "[5 rows x 7 columns]"
      ]
     },
     "execution_count": 19,
     "metadata": {
      "tags": []
     },
     "output_type": "execute_result"
    }
   ],
   "source": [
    "#checking last 5 rows of the data frame using the tail() method\n",
    "blog_df.tail()"
   ]
  },
  {
   "cell_type": "code",
   "execution_count": 20,
   "metadata": {
    "colab": {
     "base_uri": "https://localhost:8080/"
    },
    "executionInfo": {
     "elapsed": 26798,
     "status": "ok",
     "timestamp": 1616332836293,
     "user": {
      "displayName": "SURJEET DHARSAN A S",
      "photoUrl": "",
      "userId": "05909804033538903331"
     },
     "user_tz": -330
    },
    "id": "hoRo-Xau-MDz",
    "outputId": "be62cda4-d6d1-4f38-fd0f-4c8048de7554"
   },
   "outputs": [
    {
     "name": "stdout",
     "output_type": "stream",
     "text": [
      "<class 'pandas.core.frame.DataFrame'>\n",
      "RangeIndex: 100000 entries, 0 to 99999\n",
      "Data columns (total 7 columns):\n",
      " #   Column  Non-Null Count   Dtype \n",
      "---  ------  --------------   ----- \n",
      " 0   id      100000 non-null  int64 \n",
      " 1   gender  100000 non-null  object\n",
      " 2   age     100000 non-null  int64 \n",
      " 3   topic   100000 non-null  object\n",
      " 4   sign    100000 non-null  object\n",
      " 5   date    100000 non-null  object\n",
      " 6   text    100000 non-null  object\n",
      "dtypes: int64(2), object(5)\n",
      "memory usage: 5.3+ MB\n"
     ]
    }
   ],
   "source": [
    "#checking the feature/columns  using the info method\n",
    "blog_df.info()"
   ]
  },
  {
   "cell_type": "code",
   "execution_count": 21,
   "metadata": {
    "colab": {
     "base_uri": "https://localhost:8080/"
    },
    "executionInfo": {
     "elapsed": 26786,
     "status": "ok",
     "timestamp": 1616332836295,
     "user": {
      "displayName": "SURJEET DHARSAN A S",
      "photoUrl": "",
      "userId": "05909804033538903331"
     },
     "user_tz": -330
    },
    "id": "RPaSokB9-UbR",
    "outputId": "522fa691-be17-4ecd-ce48-2b3cf2a8ef91"
   },
   "outputs": [
    {
     "data": {
      "text/plain": [
       "male      53358\n",
       "female    46642\n",
       "Name: gender, dtype: int64"
      ]
     },
     "execution_count": 21,
     "metadata": {
      "tags": []
     },
     "output_type": "execute_result"
    }
   ],
   "source": [
    "blog_df.gender.value_counts()"
   ]
  },
  {
   "cell_type": "markdown",
   "metadata": {
    "id": "APH4KXO5-n6K"
   },
   "source": [
    "**Performing EDA**"
   ]
  },
  {
   "cell_type": "code",
   "execution_count": 22,
   "metadata": {
    "colab": {
     "base_uri": "https://localhost:8080/"
    },
    "executionInfo": {
     "elapsed": 26806,
     "status": "ok",
     "timestamp": 1616332836333,
     "user": {
      "displayName": "SURJEET DHARSAN A S",
      "photoUrl": "",
      "userId": "05909804033538903331"
     },
     "user_tz": -330
    },
    "id": "s9XT31J5-saC",
    "outputId": "f99ed36c-3ac0-42c7-fdf7-e577b373af00"
   },
   "outputs": [
    {
     "data": {
      "text/plain": [
       "id        0\n",
       "gender    0\n",
       "age       0\n",
       "topic     0\n",
       "sign      0\n",
       "date      0\n",
       "text      0\n",
       "dtype: int64"
      ]
     },
     "execution_count": 22,
     "metadata": {
      "tags": []
     },
     "output_type": "execute_result"
    }
   ],
   "source": [
    "#chcecking for na values\n",
    "blog_df.isna().sum()"
   ]
  },
  {
   "cell_type": "code",
   "execution_count": 23,
   "metadata": {
    "colab": {
     "base_uri": "https://localhost:8080/",
     "height": 296
    },
    "executionInfo": {
     "elapsed": 26786,
     "status": "ok",
     "timestamp": 1616332836337,
     "user": {
      "displayName": "SURJEET DHARSAN A S",
      "photoUrl": "",
      "userId": "05909804033538903331"
     },
     "user_tz": -330
    },
    "id": "DvMM7CVlAzt8",
    "outputId": "d3b13110-9856-4a4d-d9ce-241327fa9b63"
   },
   "outputs": [
    {
     "data": {
      "text/plain": [
       "<matplotlib.axes._subplots.AxesSubplot at 0x7f7472f41750>"
      ]
     },
     "execution_count": 23,
     "metadata": {
      "tags": []
     },
     "output_type": "execute_result"
    },
    {
     "data": {
      "image/png": "[encoded data removed]",
      "text/plain": [
       "<Figure size 432x288 with 1 Axes>"
      ]
     },
     "metadata": {
      "needs_background": "light",
      "tags": []
     },
     "output_type": "display_data"
    }
   ],
   "source": [
    "sns.countplot(x='gender',data=blog_df)"
   ]
  },
  {
   "cell_type": "code",
   "execution_count": 24,
   "metadata": {
    "colab": {
     "base_uri": "https://localhost:8080/",
     "height": 296
    },
    "executionInfo": {
     "elapsed": 27167,
     "status": "ok",
     "timestamp": 1616332836753,
     "user": {
      "displayName": "SURJEET DHARSAN A S",
      "photoUrl": "",
      "userId": "05909804033538903331"
     },
     "user_tz": -330
    },
    "id": "rxUVuiU8BDlX",
    "outputId": "0b4ccf9a-e3e9-4683-e2e8-5f07d96beb60"
   },
   "outputs": [
    {
     "data": {
      "text/plain": [
       "<matplotlib.axes._subplots.AxesSubplot at 0x7f747218c350>"
      ]
     },
     "execution_count": 24,
     "metadata": {
      "tags": []
     },
     "output_type": "execute_result"
    },
    {
     "data": {
      "image/png": "[encoded data removed]",
      "text/plain": [
       "<Figure size 432x288 with 1 Axes>"
      ]
     },
     "metadata": {
      "needs_background": "light",
      "tags": []
     },
     "output_type": "display_data"
    }
   ],
   "source": [
    "sns.countplot(x='sign',data=blog_df)"
   ]
  },
  {
   "cell_type": "code",
   "execution_count": 25,
   "metadata": {
    "colab": {
     "base_uri": "https://localhost:8080/"
    },
    "executionInfo": {
     "elapsed": 27156,
     "status": "ok",
     "timestamp": 1616332836759,
     "user": {
      "displayName": "SURJEET DHARSAN A S",
      "photoUrl": "",
      "userId": "05909804033538903331"
     },
     "user_tz": -330
    },
    "id": "WO0eiXWpBE1G",
    "outputId": "ee20eb5f-e155-4781-e935-f3830caa4234"
   },
   "outputs": [
    {
     "data": {
      "text/plain": [
       "id        0\n",
       "gender    0\n",
       "age       0\n",
       "topic     0\n",
       "sign      0\n",
       "date      0\n",
       "text      0\n",
       "dtype: int64"
      ]
     },
     "execution_count": 25,
     "metadata": {
      "tags": []
     },
     "output_type": "execute_result"
    }
   ],
   "source": [
    "#checking for null values\n",
    "blog_df.isnull().sum()"
   ]
  },
  {
   "cell_type": "markdown",
   "metadata": {
    "id": "xU8yhXzmBbF6"
   },
   "source": [
    "**Observations in the limited rows taken from dataset:**\n",
    "1. There are no 'null' values and 'na' values \n",
    "2. Count of males is higher than females\n",
    "3. Count of people with Astrological sign - 'Aries' is higher when compared to people with other astrological signs"
   ]
  },
  {
   "cell_type": "markdown",
   "metadata": {
    "id": "Ir-yFWb2EK37"
   },
   "source": [
    "### **1.2. Performing Data Preprocessing**"
   ]
  },
  {
   "cell_type": "code",
   "execution_count": 26,
   "metadata": {
    "collapsed": true,
    "executionInfo": {
     "elapsed": 29820,
     "status": "ok",
     "timestamp": 1616332839440,
     "user": {
      "displayName": "SURJEET DHARSAN A S",
      "photoUrl": "",
      "userId": "05909804033538903331"
     },
     "user_tz": -330
    },
    "id": "mRSgQn45BOJQ"
   },
   "outputs": [],
   "source": [
    "# removing unwanted characters other than alphanumeric\n",
    "pattern = \"[^\\w ]\"\n",
    "blog_df.text = blog_df.text.apply(lambda s : re.sub(pattern,\"\",s))"
   ]
  },
  {
   "cell_type": "code",
   "execution_count": 27,
   "metadata": {
    "colab": {
     "base_uri": "https://localhost:8080/",
     "height": 195
    },
    "executionInfo": {
     "elapsed": 29824,
     "status": "ok",
     "timestamp": 1616332839454,
     "user": {
      "displayName": "SURJEET DHARSAN A S",
      "photoUrl": "",
      "userId": "05909804033538903331"
     },
     "user_tz": -330
    },
    "id": "hlsc_m8YE71L",
    "outputId": "97c7fb4a-6574-4779-ccad-70fa8b4d2002"
   },
   "outputs": [
    {
     "data": {
      "text/html": [
       "<div>\n",
       "<style scoped>\n",
       "    .dataframe tbody tr th:only-of-type {\n",
       "        vertical-align: middle;\n",
       "    }\n",
       "\n",
       "    .dataframe tbody tr th {\n",
       "        vertical-align: top;\n",
       "    }\n",
       "\n",
       "    .dataframe thead th {\n",
       "        text-align: right;\n",
       "    }\n",
       "</style>\n",
       "<table border=\"1\" class=\"dataframe\">\n",
       "  <thead>\n",
       "    <tr style=\"text-align: right;\">\n",
       "      <th></th>\n",
       "      <th>id</th>\n",
       "      <th>gender</th>\n",
       "      <th>age</th>\n",
       "      <th>topic</th>\n",
       "      <th>sign</th>\n",
       "      <th>date</th>\n",
       "      <th>text</th>\n",
       "    </tr>\n",
       "  </thead>\n",
       "  <tbody>\n",
       "    <tr>\n",
       "      <th>0</th>\n",
       "      <td>2059027</td>\n",
       "      <td>male</td>\n",
       "      <td>15</td>\n",
       "      <td>Student</td>\n",
       "      <td>Leo</td>\n",
       "      <td>14,May,2004</td>\n",
       "      <td>Info has been found  100 pages and ...</td>\n",
       "    </tr>\n",
       "    <tr>\n",
       "      <th>1</th>\n",
       "      <td>2059027</td>\n",
       "      <td>male</td>\n",
       "      <td>15</td>\n",
       "      <td>Student</td>\n",
       "      <td>Leo</td>\n",
       "      <td>13,May,2004</td>\n",
       "      <td>These are the team members   Drewes...</td>\n",
       "    </tr>\n",
       "    <tr>\n",
       "      <th>2</th>\n",
       "      <td>2059027</td>\n",
       "      <td>male</td>\n",
       "      <td>15</td>\n",
       "      <td>Student</td>\n",
       "      <td>Leo</td>\n",
       "      <td>12,May,2004</td>\n",
       "      <td>In het kader van kernfusie op aarde...</td>\n",
       "    </tr>\n",
       "    <tr>\n",
       "      <th>3</th>\n",
       "      <td>2059027</td>\n",
       "      <td>male</td>\n",
       "      <td>15</td>\n",
       "      <td>Student</td>\n",
       "      <td>Leo</td>\n",
       "      <td>12,May,2004</td>\n",
       "      <td>testing  testing</td>\n",
       "    </tr>\n",
       "    <tr>\n",
       "      <th>4</th>\n",
       "      <td>3581210</td>\n",
       "      <td>male</td>\n",
       "      <td>33</td>\n",
       "      <td>InvestmentBanking</td>\n",
       "      <td>Aquarius</td>\n",
       "      <td>11,June,2004</td>\n",
       "      <td>Thanks to Yahoos Toolbar I can no...</td>\n",
       "    </tr>\n",
       "  </tbody>\n",
       "</table>\n",
       "</div>"
      ],
      "text/plain": [
       "        id  ...                                               text\n",
       "0  2059027  ...             Info has been found  100 pages and ...\n",
       "1  2059027  ...             These are the team members   Drewes...\n",
       "2  2059027  ...             In het kader van kernfusie op aarde...\n",
       "3  2059027  ...                         testing  testing          \n",
       "4  3581210  ...               Thanks to Yahoos Toolbar I can no...\n",
       "\n",
       "[5 rows x 7 columns]"
      ]
     },
     "execution_count": 27,
     "metadata": {
      "tags": []
     },
     "output_type": "execute_result"
    }
   ],
   "source": [
    "blog_df.head(5)"
   ]
  },
  {
   "cell_type": "code",
   "execution_count": 28,
   "metadata": {
    "collapsed": true,
    "executionInfo": {
     "elapsed": 29814,
     "status": "ok",
     "timestamp": 1616332839457,
     "user": {
      "displayName": "SURJEET DHARSAN A S",
      "photoUrl": "",
      "userId": "05909804033538903331"
     },
     "user_tz": -330
    },
    "id": "OnrXkBTjFABC"
   },
   "outputs": [],
   "source": [
    "#coverting text to lowercase\n",
    "blog_df.text = blog_df.text.apply(lambda s: s.lower())"
   ]
  },
  {
   "cell_type": "code",
   "execution_count": 29,
   "metadata": {
    "colab": {
     "base_uri": "https://localhost:8080/",
     "height": 195
    },
    "executionInfo": {
     "elapsed": 29807,
     "status": "ok",
     "timestamp": 1616332839459,
     "user": {
      "displayName": "SURJEET DHARSAN A S",
      "photoUrl": "",
      "userId": "05909804033538903331"
     },
     "user_tz": -330
    },
    "id": "p9cA7-EbFKdD",
    "outputId": "0836a5c5-c428-4e60-92c1-68d2c1a3e29f"
   },
   "outputs": [
    {
     "data": {
      "text/html": [
       "<div>\n",
       "<style scoped>\n",
       "    .dataframe tbody tr th:only-of-type {\n",
       "        vertical-align: middle;\n",
       "    }\n",
       "\n",
       "    .dataframe tbody tr th {\n",
       "        vertical-align: top;\n",
       "    }\n",
       "\n",
       "    .dataframe thead th {\n",
       "        text-align: right;\n",
       "    }\n",
       "</style>\n",
       "<table border=\"1\" class=\"dataframe\">\n",
       "  <thead>\n",
       "    <tr style=\"text-align: right;\">\n",
       "      <th></th>\n",
       "      <th>id</th>\n",
       "      <th>gender</th>\n",
       "      <th>age</th>\n",
       "      <th>topic</th>\n",
       "      <th>sign</th>\n",
       "      <th>date</th>\n",
       "      <th>text</th>\n",
       "    </tr>\n",
       "  </thead>\n",
       "  <tbody>\n",
       "    <tr>\n",
       "      <th>0</th>\n",
       "      <td>2059027</td>\n",
       "      <td>male</td>\n",
       "      <td>15</td>\n",
       "      <td>Student</td>\n",
       "      <td>Leo</td>\n",
       "      <td>14,May,2004</td>\n",
       "      <td>info has been found  100 pages and ...</td>\n",
       "    </tr>\n",
       "    <tr>\n",
       "      <th>1</th>\n",
       "      <td>2059027</td>\n",
       "      <td>male</td>\n",
       "      <td>15</td>\n",
       "      <td>Student</td>\n",
       "      <td>Leo</td>\n",
       "      <td>13,May,2004</td>\n",
       "      <td>these are the team members   drewes...</td>\n",
       "    </tr>\n",
       "    <tr>\n",
       "      <th>2</th>\n",
       "      <td>2059027</td>\n",
       "      <td>male</td>\n",
       "      <td>15</td>\n",
       "      <td>Student</td>\n",
       "      <td>Leo</td>\n",
       "      <td>12,May,2004</td>\n",
       "      <td>in het kader van kernfusie op aarde...</td>\n",
       "    </tr>\n",
       "    <tr>\n",
       "      <th>3</th>\n",
       "      <td>2059027</td>\n",
       "      <td>male</td>\n",
       "      <td>15</td>\n",
       "      <td>Student</td>\n",
       "      <td>Leo</td>\n",
       "      <td>12,May,2004</td>\n",
       "      <td>testing  testing</td>\n",
       "    </tr>\n",
       "    <tr>\n",
       "      <th>4</th>\n",
       "      <td>3581210</td>\n",
       "      <td>male</td>\n",
       "      <td>33</td>\n",
       "      <td>InvestmentBanking</td>\n",
       "      <td>Aquarius</td>\n",
       "      <td>11,June,2004</td>\n",
       "      <td>thanks to yahoos toolbar i can no...</td>\n",
       "    </tr>\n",
       "  </tbody>\n",
       "</table>\n",
       "</div>"
      ],
      "text/plain": [
       "        id  ...                                               text\n",
       "0  2059027  ...             info has been found  100 pages and ...\n",
       "1  2059027  ...             these are the team members   drewes...\n",
       "2  2059027  ...             in het kader van kernfusie op aarde...\n",
       "3  2059027  ...                         testing  testing          \n",
       "4  3581210  ...               thanks to yahoos toolbar i can no...\n",
       "\n",
       "[5 rows x 7 columns]"
      ]
     },
     "execution_count": 29,
     "metadata": {
      "tags": []
     },
     "output_type": "execute_result"
    }
   ],
   "source": [
    "blog_df.head(5)"
   ]
  },
  {
   "cell_type": "code",
   "execution_count": 30,
   "metadata": {
    "collapsed": true,
    "executionInfo": {
     "elapsed": 30156,
     "status": "ok",
     "timestamp": 1616332839837,
     "user": {
      "displayName": "SURJEET DHARSAN A S",
      "photoUrl": "",
      "userId": "05909804033538903331"
     },
     "user_tz": -330
    },
    "id": "5th7UWEfFg9a"
   },
   "outputs": [],
   "source": [
    "#removing unwanted spaces\n",
    "blog_df.text = blog_df.text.apply(lambda s: s.strip())"
   ]
  },
  {
   "cell_type": "code",
   "execution_count": 31,
   "metadata": {
    "colab": {
     "base_uri": "https://localhost:8080/",
     "height": 195
    },
    "executionInfo": {
     "elapsed": 30146,
     "status": "ok",
     "timestamp": 1616332839838,
     "user": {
      "displayName": "SURJEET DHARSAN A S",
      "photoUrl": "",
      "userId": "05909804033538903331"
     },
     "user_tz": -330
    },
    "id": "31pB7Z1nFqBS",
    "outputId": "e80a685e-2eb5-4628-9fb3-53efc8363527"
   },
   "outputs": [
    {
     "data": {
      "text/html": [
       "<div>\n",
       "<style scoped>\n",
       "    .dataframe tbody tr th:only-of-type {\n",
       "        vertical-align: middle;\n",
       "    }\n",
       "\n",
       "    .dataframe tbody tr th {\n",
       "        vertical-align: top;\n",
       "    }\n",
       "\n",
       "    .dataframe thead th {\n",
       "        text-align: right;\n",
       "    }\n",
       "</style>\n",
       "<table border=\"1\" class=\"dataframe\">\n",
       "  <thead>\n",
       "    <tr style=\"text-align: right;\">\n",
       "      <th></th>\n",
       "      <th>id</th>\n",
       "      <th>gender</th>\n",
       "      <th>age</th>\n",
       "      <th>topic</th>\n",
       "      <th>sign</th>\n",
       "      <th>date</th>\n",
       "      <th>text</th>\n",
       "    </tr>\n",
       "  </thead>\n",
       "  <tbody>\n",
       "    <tr>\n",
       "      <th>0</th>\n",
       "      <td>2059027</td>\n",
       "      <td>male</td>\n",
       "      <td>15</td>\n",
       "      <td>Student</td>\n",
       "      <td>Leo</td>\n",
       "      <td>14,May,2004</td>\n",
       "      <td>info has been found  100 pages and 45 mb of pd...</td>\n",
       "    </tr>\n",
       "    <tr>\n",
       "      <th>1</th>\n",
       "      <td>2059027</td>\n",
       "      <td>male</td>\n",
       "      <td>15</td>\n",
       "      <td>Student</td>\n",
       "      <td>Leo</td>\n",
       "      <td>13,May,2004</td>\n",
       "      <td>these are the team members   drewes van der la...</td>\n",
       "    </tr>\n",
       "    <tr>\n",
       "      <th>2</th>\n",
       "      <td>2059027</td>\n",
       "      <td>male</td>\n",
       "      <td>15</td>\n",
       "      <td>Student</td>\n",
       "      <td>Leo</td>\n",
       "      <td>12,May,2004</td>\n",
       "      <td>in het kader van kernfusie op aarde  maak je e...</td>\n",
       "    </tr>\n",
       "    <tr>\n",
       "      <th>3</th>\n",
       "      <td>2059027</td>\n",
       "      <td>male</td>\n",
       "      <td>15</td>\n",
       "      <td>Student</td>\n",
       "      <td>Leo</td>\n",
       "      <td>12,May,2004</td>\n",
       "      <td>testing  testing</td>\n",
       "    </tr>\n",
       "    <tr>\n",
       "      <th>4</th>\n",
       "      <td>3581210</td>\n",
       "      <td>male</td>\n",
       "      <td>33</td>\n",
       "      <td>InvestmentBanking</td>\n",
       "      <td>Aquarius</td>\n",
       "      <td>11,June,2004</td>\n",
       "      <td>thanks to yahoos toolbar i can now capture the...</td>\n",
       "    </tr>\n",
       "  </tbody>\n",
       "</table>\n",
       "</div>"
      ],
      "text/plain": [
       "        id  ...                                               text\n",
       "0  2059027  ...  info has been found  100 pages and 45 mb of pd...\n",
       "1  2059027  ...  these are the team members   drewes van der la...\n",
       "2  2059027  ...  in het kader van kernfusie op aarde  maak je e...\n",
       "3  2059027  ...                                   testing  testing\n",
       "4  3581210  ...  thanks to yahoos toolbar i can now capture the...\n",
       "\n",
       "[5 rows x 7 columns]"
      ]
     },
     "execution_count": 31,
     "metadata": {
      "tags": []
     },
     "output_type": "execute_result"
    }
   ],
   "source": [
    "blog_df.head()"
   ]
  },
  {
   "cell_type": "code",
   "execution_count": 32,
   "metadata": {
    "colab": {
     "base_uri": "https://localhost:8080/"
    },
    "executionInfo": {
     "elapsed": 34070,
     "status": "ok",
     "timestamp": 1616332843785,
     "user": {
      "displayName": "SURJEET DHARSAN A S",
      "photoUrl": "",
      "userId": "05909804033538903331"
     },
     "user_tz": -330
    },
    "id": "IimX9Tp2Fwt0",
    "outputId": "c33c1910-55b2-4137-bc48-1b7e369f1c90"
   },
   "outputs": [
    {
     "name": "stdout",
     "output_type": "stream",
     "text": [
      "[nltk_data] Downloading package stopwords to /root/nltk_data...\n",
      "[nltk_data]   Package stopwords is already up-to-date!\n"
     ]
    }
   ],
   "source": [
    "import nltk\n",
    "nltk.download('stopwords')\n",
    "\n",
    "#removing stopwords\n",
    "stopwords=set(stopwords.words('english'))\n",
    "blog_df.text = blog_df.text.apply(lambda t: ' '.join([words for words in t.split() if words not in stopwords]) )"
   ]
  },
  {
   "cell_type": "code",
   "execution_count": 33,
   "metadata": {
    "colab": {
     "base_uri": "https://localhost:8080/",
     "height": 195
    },
    "executionInfo": {
     "elapsed": 34069,
     "status": "ok",
     "timestamp": 1616332843802,
     "user": {
      "displayName": "SURJEET DHARSAN A S",
      "photoUrl": "",
      "userId": "05909804033538903331"
     },
     "user_tz": -330
    },
    "id": "_OWqSLu_Fzx4",
    "outputId": "228ae10f-5a02-4313-e11c-a84e560d3464"
   },
   "outputs": [
    {
     "data": {
      "text/html": [
       "<div>\n",
       "<style scoped>\n",
       "    .dataframe tbody tr th:only-of-type {\n",
       "        vertical-align: middle;\n",
       "    }\n",
       "\n",
       "    .dataframe tbody tr th {\n",
       "        vertical-align: top;\n",
       "    }\n",
       "\n",
       "    .dataframe thead th {\n",
       "        text-align: right;\n",
       "    }\n",
       "</style>\n",
       "<table border=\"1\" class=\"dataframe\">\n",
       "  <thead>\n",
       "    <tr style=\"text-align: right;\">\n",
       "      <th></th>\n",
       "      <th>id</th>\n",
       "      <th>gender</th>\n",
       "      <th>age</th>\n",
       "      <th>topic</th>\n",
       "      <th>sign</th>\n",
       "      <th>date</th>\n",
       "      <th>text</th>\n",
       "    </tr>\n",
       "  </thead>\n",
       "  <tbody>\n",
       "    <tr>\n",
       "      <th>0</th>\n",
       "      <td>2059027</td>\n",
       "      <td>male</td>\n",
       "      <td>15</td>\n",
       "      <td>Student</td>\n",
       "      <td>Leo</td>\n",
       "      <td>14,May,2004</td>\n",
       "      <td>info found 100 pages 45 mb pdf files wait unti...</td>\n",
       "    </tr>\n",
       "    <tr>\n",
       "      <th>1</th>\n",
       "      <td>2059027</td>\n",
       "      <td>male</td>\n",
       "      <td>15</td>\n",
       "      <td>Student</td>\n",
       "      <td>Leo</td>\n",
       "      <td>13,May,2004</td>\n",
       "      <td>team members drewes van der laag urllink mail ...</td>\n",
       "    </tr>\n",
       "    <tr>\n",
       "      <th>2</th>\n",
       "      <td>2059027</td>\n",
       "      <td>male</td>\n",
       "      <td>15</td>\n",
       "      <td>Student</td>\n",
       "      <td>Leo</td>\n",
       "      <td>12,May,2004</td>\n",
       "      <td>het kader van kernfusie op aarde maak je eigen...</td>\n",
       "    </tr>\n",
       "    <tr>\n",
       "      <th>3</th>\n",
       "      <td>2059027</td>\n",
       "      <td>male</td>\n",
       "      <td>15</td>\n",
       "      <td>Student</td>\n",
       "      <td>Leo</td>\n",
       "      <td>12,May,2004</td>\n",
       "      <td>testing testing</td>\n",
       "    </tr>\n",
       "    <tr>\n",
       "      <th>4</th>\n",
       "      <td>3581210</td>\n",
       "      <td>male</td>\n",
       "      <td>33</td>\n",
       "      <td>InvestmentBanking</td>\n",
       "      <td>Aquarius</td>\n",
       "      <td>11,June,2004</td>\n",
       "      <td>thanks yahoos toolbar capture urls popupswhich...</td>\n",
       "    </tr>\n",
       "  </tbody>\n",
       "</table>\n",
       "</div>"
      ],
      "text/plain": [
       "        id  ...                                               text\n",
       "0  2059027  ...  info found 100 pages 45 mb pdf files wait unti...\n",
       "1  2059027  ...  team members drewes van der laag urllink mail ...\n",
       "2  2059027  ...  het kader van kernfusie op aarde maak je eigen...\n",
       "3  2059027  ...                                    testing testing\n",
       "4  3581210  ...  thanks yahoos toolbar capture urls popupswhich...\n",
       "\n",
       "[5 rows x 7 columns]"
      ]
     },
     "execution_count": 33,
     "metadata": {
      "tags": []
     },
     "output_type": "execute_result"
    }
   ],
   "source": [
    "blog_df.head()"
   ]
  },
  {
   "cell_type": "code",
   "execution_count": 34,
   "metadata": {
    "collapsed": true,
    "executionInfo": {
     "elapsed": 34057,
     "status": "ok",
     "timestamp": 1616332843805,
     "user": {
      "displayName": "SURJEET DHARSAN A S",
      "photoUrl": "",
      "userId": "05909804033538903331"
     },
     "user_tz": -330
    },
    "id": "WLBu-wqIHgJb"
   },
   "outputs": [],
   "source": [
    "# dropping id and date columns\n",
    "blog_df.drop(labels=['id','date'], axis=1,inplace=True)"
   ]
  },
  {
   "cell_type": "code",
   "execution_count": 35,
   "metadata": {
    "colab": {
     "base_uri": "https://localhost:8080/",
     "height": 195
    },
    "executionInfo": {
     "elapsed": 34044,
     "status": "ok",
     "timestamp": 1616332843807,
     "user": {
      "displayName": "SURJEET DHARSAN A S",
      "photoUrl": "",
      "userId": "05909804033538903331"
     },
     "user_tz": -330
    },
    "id": "Fb_RFqZ8HjDC",
    "outputId": "c421648a-7f9f-44a6-be44-2a16507d4a67"
   },
   "outputs": [
    {
     "data": {
      "text/html": [
       "<div>\n",
       "<style scoped>\n",
       "    .dataframe tbody tr th:only-of-type {\n",
       "        vertical-align: middle;\n",
       "    }\n",
       "\n",
       "    .dataframe tbody tr th {\n",
       "        vertical-align: top;\n",
       "    }\n",
       "\n",
       "    .dataframe thead th {\n",
       "        text-align: right;\n",
       "    }\n",
       "</style>\n",
       "<table border=\"1\" class=\"dataframe\">\n",
       "  <thead>\n",
       "    <tr style=\"text-align: right;\">\n",
       "      <th></th>\n",
       "      <th>gender</th>\n",
       "      <th>age</th>\n",
       "      <th>topic</th>\n",
       "      <th>sign</th>\n",
       "      <th>text</th>\n",
       "    </tr>\n",
       "  </thead>\n",
       "  <tbody>\n",
       "    <tr>\n",
       "      <th>0</th>\n",
       "      <td>male</td>\n",
       "      <td>15</td>\n",
       "      <td>Student</td>\n",
       "      <td>Leo</td>\n",
       "      <td>info found 100 pages 45 mb pdf files wait unti...</td>\n",
       "    </tr>\n",
       "    <tr>\n",
       "      <th>1</th>\n",
       "      <td>male</td>\n",
       "      <td>15</td>\n",
       "      <td>Student</td>\n",
       "      <td>Leo</td>\n",
       "      <td>team members drewes van der laag urllink mail ...</td>\n",
       "    </tr>\n",
       "    <tr>\n",
       "      <th>2</th>\n",
       "      <td>male</td>\n",
       "      <td>15</td>\n",
       "      <td>Student</td>\n",
       "      <td>Leo</td>\n",
       "      <td>het kader van kernfusie op aarde maak je eigen...</td>\n",
       "    </tr>\n",
       "    <tr>\n",
       "      <th>3</th>\n",
       "      <td>male</td>\n",
       "      <td>15</td>\n",
       "      <td>Student</td>\n",
       "      <td>Leo</td>\n",
       "      <td>testing testing</td>\n",
       "    </tr>\n",
       "    <tr>\n",
       "      <th>4</th>\n",
       "      <td>male</td>\n",
       "      <td>33</td>\n",
       "      <td>InvestmentBanking</td>\n",
       "      <td>Aquarius</td>\n",
       "      <td>thanks yahoos toolbar capture urls popupswhich...</td>\n",
       "    </tr>\n",
       "  </tbody>\n",
       "</table>\n",
       "</div>"
      ],
      "text/plain": [
       "  gender  age  ...      sign                                               text\n",
       "0   male   15  ...       Leo  info found 100 pages 45 mb pdf files wait unti...\n",
       "1   male   15  ...       Leo  team members drewes van der laag urllink mail ...\n",
       "2   male   15  ...       Leo  het kader van kernfusie op aarde maak je eigen...\n",
       "3   male   15  ...       Leo                                    testing testing\n",
       "4   male   33  ...  Aquarius  thanks yahoos toolbar capture urls popupswhich...\n",
       "\n",
       "[5 rows x 5 columns]"
      ]
     },
     "execution_count": 35,
     "metadata": {
      "tags": []
     },
     "output_type": "execute_result"
    }
   ],
   "source": [
    "blog_df.head()"
   ]
  },
  {
   "cell_type": "code",
   "execution_count": 36,
   "metadata": {
    "collapsed": true,
    "executionInfo": {
     "elapsed": 36540,
     "status": "ok",
     "timestamp": 1616332846321,
     "user": {
      "displayName": "SURJEET DHARSAN A S",
      "photoUrl": "",
      "userId": "05909804033538903331"
     },
     "user_tz": -330
    },
    "id": "18CDTDgfO8OJ"
   },
   "outputs": [],
   "source": [
    "# Target/label merger and transformation: As we want to make this into a multi-label classification problem, hence merging all the label columns together \n",
    "# so that we have all the labels together for a particular sentence\n",
    "blog_df['labels'] = blog_df.apply(lambda col : [col['gender'],col['age'],col['topic'],col['sign']], axis=1)"
   ]
  },
  {
   "cell_type": "code",
   "execution_count": 37,
   "metadata": {
    "colab": {
     "base_uri": "https://localhost:8080/",
     "height": 195
    },
    "executionInfo": {
     "elapsed": 36533,
     "status": "ok",
     "timestamp": 1616332846323,
     "user": {
      "displayName": "SURJEET DHARSAN A S",
      "photoUrl": "",
      "userId": "05909804033538903331"
     },
     "user_tz": -330
    },
    "id": "h0dKxnZ2PhZX",
    "outputId": "44319ad2-168d-4b29-a53e-a871ecd5648d"
   },
   "outputs": [
    {
     "data": {
      "text/html": [
       "<div>\n",
       "<style scoped>\n",
       "    .dataframe tbody tr th:only-of-type {\n",
       "        vertical-align: middle;\n",
       "    }\n",
       "\n",
       "    .dataframe tbody tr th {\n",
       "        vertical-align: top;\n",
       "    }\n",
       "\n",
       "    .dataframe thead th {\n",
       "        text-align: right;\n",
       "    }\n",
       "</style>\n",
       "<table border=\"1\" class=\"dataframe\">\n",
       "  <thead>\n",
       "    <tr style=\"text-align: right;\">\n",
       "      <th></th>\n",
       "      <th>gender</th>\n",
       "      <th>age</th>\n",
       "      <th>topic</th>\n",
       "      <th>sign</th>\n",
       "      <th>text</th>\n",
       "      <th>labels</th>\n",
       "    </tr>\n",
       "  </thead>\n",
       "  <tbody>\n",
       "    <tr>\n",
       "      <th>0</th>\n",
       "      <td>male</td>\n",
       "      <td>15</td>\n",
       "      <td>Student</td>\n",
       "      <td>Leo</td>\n",
       "      <td>info found 100 pages 45 mb pdf files wait unti...</td>\n",
       "      <td>[male, 15, Student, Leo]</td>\n",
       "    </tr>\n",
       "    <tr>\n",
       "      <th>1</th>\n",
       "      <td>male</td>\n",
       "      <td>15</td>\n",
       "      <td>Student</td>\n",
       "      <td>Leo</td>\n",
       "      <td>team members drewes van der laag urllink mail ...</td>\n",
       "      <td>[male, 15, Student, Leo]</td>\n",
       "    </tr>\n",
       "    <tr>\n",
       "      <th>2</th>\n",
       "      <td>male</td>\n",
       "      <td>15</td>\n",
       "      <td>Student</td>\n",
       "      <td>Leo</td>\n",
       "      <td>het kader van kernfusie op aarde maak je eigen...</td>\n",
       "      <td>[male, 15, Student, Leo]</td>\n",
       "    </tr>\n",
       "    <tr>\n",
       "      <th>3</th>\n",
       "      <td>male</td>\n",
       "      <td>15</td>\n",
       "      <td>Student</td>\n",
       "      <td>Leo</td>\n",
       "      <td>testing testing</td>\n",
       "      <td>[male, 15, Student, Leo]</td>\n",
       "    </tr>\n",
       "    <tr>\n",
       "      <th>4</th>\n",
       "      <td>male</td>\n",
       "      <td>33</td>\n",
       "      <td>InvestmentBanking</td>\n",
       "      <td>Aquarius</td>\n",
       "      <td>thanks yahoos toolbar capture urls popupswhich...</td>\n",
       "      <td>[male, 33, InvestmentBanking, Aquarius]</td>\n",
       "    </tr>\n",
       "  </tbody>\n",
       "</table>\n",
       "</div>"
      ],
      "text/plain": [
       "  gender  ...                                   labels\n",
       "0   male  ...                 [male, 15, Student, Leo]\n",
       "1   male  ...                 [male, 15, Student, Leo]\n",
       "2   male  ...                 [male, 15, Student, Leo]\n",
       "3   male  ...                 [male, 15, Student, Leo]\n",
       "4   male  ...  [male, 33, InvestmentBanking, Aquarius]\n",
       "\n",
       "[5 rows x 6 columns]"
      ]
     },
     "execution_count": 37,
     "metadata": {
      "tags": []
     },
     "output_type": "execute_result"
    }
   ],
   "source": [
    "blog_df.head()"
   ]
  },
  {
   "cell_type": "code",
   "execution_count": 38,
   "metadata": {
    "collapsed": true,
    "executionInfo": {
     "elapsed": 36520,
     "status": "ok",
     "timestamp": 1616332846324,
     "user": {
      "displayName": "SURJEET DHARSAN A S",
      "photoUrl": "",
      "userId": "05909804033538903331"
     },
     "user_tz": -330
    },
    "id": "8KgNczWgPp75"
   },
   "outputs": [],
   "source": [
    "#dropping  gender,age,topic & sign as they are already merged to labels column\n",
    "blog_df.drop(columns=['gender','age','topic','sign'], axis=1, inplace=True)"
   ]
  },
  {
   "cell_type": "code",
   "execution_count": 39,
   "metadata": {
    "colab": {
     "base_uri": "https://localhost:8080/",
     "height": 195
    },
    "executionInfo": {
     "elapsed": 36510,
     "status": "ok",
     "timestamp": 1616332846326,
     "user": {
      "displayName": "SURJEET DHARSAN A S",
      "photoUrl": "",
      "userId": "05909804033538903331"
     },
     "user_tz": -330
    },
    "id": "CU9eM2KAPsQ7",
    "outputId": "bbf430b1-5bf7-4b3b-ba89-707b038a8201"
   },
   "outputs": [
    {
     "data": {
      "text/html": [
       "<div>\n",
       "<style scoped>\n",
       "    .dataframe tbody tr th:only-of-type {\n",
       "        vertical-align: middle;\n",
       "    }\n",
       "\n",
       "    .dataframe tbody tr th {\n",
       "        vertical-align: top;\n",
       "    }\n",
       "\n",
       "    .dataframe thead th {\n",
       "        text-align: right;\n",
       "    }\n",
       "</style>\n",
       "<table border=\"1\" class=\"dataframe\">\n",
       "  <thead>\n",
       "    <tr style=\"text-align: right;\">\n",
       "      <th></th>\n",
       "      <th>text</th>\n",
       "      <th>labels</th>\n",
       "    </tr>\n",
       "  </thead>\n",
       "  <tbody>\n",
       "    <tr>\n",
       "      <th>0</th>\n",
       "      <td>info found 100 pages 45 mb pdf files wait unti...</td>\n",
       "      <td>[male, 15, Student, Leo]</td>\n",
       "    </tr>\n",
       "    <tr>\n",
       "      <th>1</th>\n",
       "      <td>team members drewes van der laag urllink mail ...</td>\n",
       "      <td>[male, 15, Student, Leo]</td>\n",
       "    </tr>\n",
       "    <tr>\n",
       "      <th>2</th>\n",
       "      <td>het kader van kernfusie op aarde maak je eigen...</td>\n",
       "      <td>[male, 15, Student, Leo]</td>\n",
       "    </tr>\n",
       "    <tr>\n",
       "      <th>3</th>\n",
       "      <td>testing testing</td>\n",
       "      <td>[male, 15, Student, Leo]</td>\n",
       "    </tr>\n",
       "    <tr>\n",
       "      <th>4</th>\n",
       "      <td>thanks yahoos toolbar capture urls popupswhich...</td>\n",
       "      <td>[male, 33, InvestmentBanking, Aquarius]</td>\n",
       "    </tr>\n",
       "  </tbody>\n",
       "</table>\n",
       "</div>"
      ],
      "text/plain": [
       "                                                text                                   labels\n",
       "0  info found 100 pages 45 mb pdf files wait unti...                 [male, 15, Student, Leo]\n",
       "1  team members drewes van der laag urllink mail ...                 [male, 15, Student, Leo]\n",
       "2  het kader van kernfusie op aarde maak je eigen...                 [male, 15, Student, Leo]\n",
       "3                                    testing testing                 [male, 15, Student, Leo]\n",
       "4  thanks yahoos toolbar capture urls popupswhich...  [male, 33, InvestmentBanking, Aquarius]"
      ]
     },
     "execution_count": 39,
     "metadata": {
      "tags": []
     },
     "output_type": "execute_result"
    }
   ],
   "source": [
    "blog_df.head()"
   ]
  },
  {
   "cell_type": "code",
   "execution_count": 40,
   "metadata": {
    "collapsed": true,
    "executionInfo": {
     "elapsed": 36492,
     "status": "ok",
     "timestamp": 1616332846328,
     "user": {
      "displayName": "SURJEET DHARSAN A S",
      "photoUrl": "",
      "userId": "05909804033538903331"
     },
     "user_tz": -330
    },
    "id": "rEnUQ222PxNn"
   },
   "outputs": [],
   "source": [
    "# Train and Test split : Separating features and labels and split the data into training and testing\n",
    "X= blog_df.text\n",
    "y = blog_df.labels"
   ]
  },
  {
   "cell_type": "code",
   "execution_count": 41,
   "metadata": {
    "collapsed": true,
    "executionInfo": {
     "elapsed": 36485,
     "status": "ok",
     "timestamp": 1616332846329,
     "user": {
      "displayName": "SURJEET DHARSAN A S",
      "photoUrl": "",
      "userId": "05909804033538903331"
     },
     "user_tz": -330
    },
    "id": "0dwtvS_8QrQ7"
   },
   "outputs": [],
   "source": [
    "# split X and y into training and testing sets\n",
    "X_train, X_test, y_train, y_test = train_test_split(X,y, random_state=2,test_size = 0.2)"
   ]
  },
  {
   "cell_type": "code",
   "execution_count": 42,
   "metadata": {
    "colab": {
     "base_uri": "https://localhost:8080/"
    },
    "executionInfo": {
     "elapsed": 36480,
     "status": "ok",
     "timestamp": 1616332846331,
     "user": {
      "displayName": "SURJEET DHARSAN A S",
      "photoUrl": "",
      "userId": "05909804033538903331"
     },
     "user_tz": -330
    },
    "id": "7cGo40JPQ2KS",
    "outputId": "4e00ff70-51a3-4404-df53-8f8bb7837e4a"
   },
   "outputs": [
    {
     "name": "stdout",
     "output_type": "stream",
     "text": [
      "(80000,)\n",
      "(80000,)\n"
     ]
    }
   ],
   "source": [
    "print(X_train.shape)\n",
    "print(y_train.shape)"
   ]
  },
  {
   "cell_type": "code",
   "execution_count": 43,
   "metadata": {
    "colab": {
     "base_uri": "https://localhost:8080/"
    },
    "executionInfo": {
     "elapsed": 36467,
     "status": "ok",
     "timestamp": 1616332846333,
     "user": {
      "displayName": "SURJEET DHARSAN A S",
      "photoUrl": "",
      "userId": "05909804033538903331"
     },
     "user_tz": -330
    },
    "id": "Bo-zDczbQ3XG",
    "outputId": "3cd0c5db-85cf-4803-9ccd-5028b58090dc"
   },
   "outputs": [
    {
     "name": "stdout",
     "output_type": "stream",
     "text": [
      "(20000,)\n",
      "(20000,)\n"
     ]
    }
   ],
   "source": [
    "print(X_test.shape)\n",
    "print(y_test.shape)"
   ]
  },
  {
   "cell_type": "code",
   "execution_count": 44,
   "metadata": {
    "colab": {
     "base_uri": "https://localhost:8080/"
    },
    "executionInfo": {
     "elapsed": 36457,
     "status": "ok",
     "timestamp": 1616332846336,
     "user": {
      "displayName": "SURJEET DHARSAN A S",
      "photoUrl": "",
      "userId": "05909804033538903331"
     },
     "user_tz": -330
    },
    "id": "n5eYo7mdQ57L",
    "outputId": "31f23119-35fe-4056-bc49-c28d3f36c8e8"
   },
   "outputs": [
    {
     "data": {
      "text/plain": [
       "6448                      bird buries head mashed potatoes\n",
       "50680    ok seriously ruined day like mad right wouldnt...\n",
       "814      astro vs braves got back minute maid stadium d...\n",
       "20354    greetings welcome first ever blog concept behi...\n",
       "49224    walks door room always brightens perfect figur...\n",
       "                               ...                        \n",
       "47661    hey cool jo problem understandable sounds lots...\n",
       "56256    last night went see new harry potter movie hon...\n",
       "92555    urllink instant messages come bearing malice i...\n",
       "36328    srajan gamers sections class 8th entered compu...\n",
       "73345    monqiue got back together wasnt quite dramatic...\n",
       "Name: text, Length: 20000, dtype: object"
      ]
     },
     "execution_count": 44,
     "metadata": {
      "tags": []
     },
     "output_type": "execute_result"
    }
   ],
   "source": [
    "X_test"
   ]
  },
  {
   "cell_type": "code",
   "execution_count": 45,
   "metadata": {
    "collapsed": true,
    "executionInfo": {
     "elapsed": 36445,
     "status": "ok",
     "timestamp": 1616332846337,
     "user": {
      "displayName": "SURJEET DHARSAN A S",
      "photoUrl": "",
      "userId": "05909804033538903331"
     },
     "user_tz": -330
    },
    "id": "lptUhpgCQ87S"
   },
   "outputs": [],
   "source": [
    "# Vectorisation of features:\n",
    "'''\n",
    "a. Creating a Bag of Words using count vectorizer\n",
    "i. Use ngram_range=(1, 2)\n",
    "ii. Vectorize training and testing features\n",
    "\n",
    "b. Print the term-document matrix\n",
    "'''\n",
    "cvect = CountVectorizer(ngram_range=(1,2))"
   ]
  },
  {
   "cell_type": "code",
   "execution_count": 46,
   "metadata": {
    "colab": {
     "base_uri": "https://localhost:8080/"
    },
    "executionInfo": {
     "elapsed": 100429,
     "status": "ok",
     "timestamp": 1616332910328,
     "user": {
      "displayName": "SURJEET DHARSAN A S",
      "photoUrl": "",
      "userId": "05909804033538903331"
     },
     "user_tz": -330
    },
    "id": "qmxjSXtmRrx5",
    "outputId": "5819fb06-0b32-4389-b9ae-26375879f278"
   },
   "outputs": [
    {
     "data": {
      "text/plain": [
       "CountVectorizer(analyzer='word', binary=False, decode_error='strict',\n",
       "                dtype=<class 'numpy.int64'>, encoding='utf-8', input='content',\n",
       "                lowercase=True, max_df=1.0, max_features=None, min_df=1,\n",
       "                ngram_range=(1, 2), preprocessor=None, stop_words=None,\n",
       "                strip_accents=None, token_pattern='(?u)\\\\b\\\\w\\\\w+\\\\b',\n",
       "                tokenizer=None, vocabulary=None)"
      ]
     },
     "execution_count": 46,
     "metadata": {
      "tags": []
     },
     "output_type": "execute_result"
    }
   ],
   "source": [
    "#Feeding training data to CountVectorizer\n",
    "cvect.fit(X_train)"
   ]
  },
  {
   "cell_type": "code",
   "execution_count": 47,
   "metadata": {
    "colab": {
     "base_uri": "https://localhost:8080/"
    },
    "executionInfo": {
     "elapsed": 100419,
     "status": "ok",
     "timestamp": 1616332910330,
     "user": {
      "displayName": "SURJEET DHARSAN A S",
      "photoUrl": "",
      "userId": "05909804033538903331"
     },
     "user_tz": -330
    },
    "id": "BQG3_OdSR1_j",
    "outputId": "e8fc7d9f-f8ed-4376-b858-4fd35bed88a2"
   },
   "outputs": [
    {
     "data": {
      "text/plain": [
       "4517090"
      ]
     },
     "execution_count": 47,
     "metadata": {
      "tags": []
     },
     "output_type": "execute_result"
    }
   ],
   "source": [
    "#Checking the vocablury size\n",
    "len(cvect.vocabulary_)"
   ]
  },
  {
   "cell_type": "code",
   "execution_count": 48,
   "metadata": {
    "colab": {
     "base_uri": "https://localhost:8080/"
    },
    "executionInfo": {
     "elapsed": 113710,
     "status": "ok",
     "timestamp": 1616332923634,
     "user": {
      "displayName": "SURJEET DHARSAN A S",
      "photoUrl": "",
      "userId": "05909804033538903331"
     },
     "user_tz": -330
    },
    "id": "GzgJi9lsSG1C",
    "outputId": "754fc6b2-1219-41ef-aec8-d113c783eed7"
   },
   "outputs": [
    {
     "data": {
      "text/plain": [
       "['00',\n",
       " '00 damarcus',\n",
       " '00 damn',\n",
       " '00 doesnt',\n",
       " '00 dont',\n",
       " '00 draw',\n",
       " '00 games',\n",
       " '00 laughed',\n",
       " '00 lil',\n",
       " '00 morning',\n",
       " '00 really',\n",
       " '00 silver',\n",
       " '00 sometimes',\n",
       " '00 soooooo',\n",
       " '00 sq',\n",
       " '00 tcr1',\n",
       " '00 tie',\n",
       " '00 uppercase_75_100',\n",
       " '00 watch',\n",
       " '00 well',\n",
       " '000',\n",
       " '000 address',\n",
       " '000 available',\n",
       " '000 best',\n",
       " '000 calories',\n",
       " '000 cheaper',\n",
       " '000 comptes',\n",
       " '000 could',\n",
       " '000 duration',\n",
       " '000 et',\n",
       " '000 first',\n",
       " '000 ft',\n",
       " '000 fulltime',\n",
       " '000 good',\n",
       " '000 heh',\n",
       " '000 leaving',\n",
       " '000 nothing',\n",
       " '000 odd',\n",
       " '000 people',\n",
       " '000 pounds',\n",
       " '000 rupees',\n",
       " '000 seats',\n",
       " '000 sec',\n",
       " '000 seems',\n",
       " '000 straight',\n",
       " '000 subject',\n",
       " '000 thats',\n",
       " '000 years',\n",
       " '000 yen',\n",
       " '0000',\n",
       " '0000 arent',\n",
       " '0000 blinking',\n",
       " '0000 hopefully',\n",
       " '0000 hrs',\n",
       " '0000 new',\n",
       " '0000 showed',\n",
       " '0000 still',\n",
       " '0000 subject',\n",
       " '000000',\n",
       " '000000 flickrframe',\n",
       " '000000 fontfamily',\n",
       " '000000 zero',\n",
       " '000000000000000000000000167',\n",
       " '000000000000000000000000167 grams',\n",
       " '000000000000000000000section',\n",
       " '000000000000000000000section c09er',\n",
       " '00000000345',\n",
       " '00000000345 secs',\n",
       " '00000001',\n",
       " '00000001 second',\n",
       " '0000001',\n",
       " '0000001 zbaras',\n",
       " '000000flickryourcomment',\n",
       " '000000flickryourcomment flickrframe',\n",
       " '000000this',\n",
       " '000000this certifies',\n",
       " '000001',\n",
       " '000001 maybe',\n",
       " '00000800',\n",
       " '00000800 thats',\n",
       " '00001',\n",
       " '00001 kilowatt',\n",
       " '00001 point',\n",
       " '0001',\n",
       " '0001 chances',\n",
       " '0001 nice',\n",
       " '00011000101',\n",
       " '00011000101 benji',\n",
       " '000264',\n",
       " '000264 31058',\n",
       " '0002hrs',\n",
       " '0002hrs last',\n",
       " '0005',\n",
       " '0005 seconds',\n",
       " '000nbsp',\n",
       " '000nbsp list',\n",
       " '000oooh',\n",
       " '000oooh yes',\n",
       " '001',\n",
       " '001 first',\n",
       " '001 full',\n",
       " '001 javaioioexception',\n",
       " '001 teacher',\n",
       " '001 time',\n",
       " '001 urllink',\n",
       " '0010',\n",
       " '0010 fell',\n",
       " '00101110010101101101001110100100101010001',\n",
       " '00101110010101101101001110100100101010001 exitexe',\n",
       " '00145',\n",
       " '00145 percent',\n",
       " '0015',\n",
       " '0015 15',\n",
       " '001875',\n",
       " '001875 plugging',\n",
       " '002',\n",
       " '002 44th',\n",
       " '002 first',\n",
       " '002 like',\n",
       " '002 middle',\n",
       " '002 sex',\n",
       " '002 thank',\n",
       " '002 urllink',\n",
       " '002020',\n",
       " '002020 gmt',\n",
       " '0020hrs',\n",
       " '0020hrs nowhaasyupxim',\n",
       " '0020hrs woke',\n",
       " '0022',\n",
       " '0022 right',\n",
       " '003',\n",
       " '003 age',\n",
       " '003 im',\n",
       " '003 last',\n",
       " '003 urllink',\n",
       " '0030',\n",
       " '0030 thats',\n",
       " '003200',\n",
       " '003200 cmaj7',\n",
       " '003247',\n",
       " '003247 2004',\n",
       " '004',\n",
       " '004 bday',\n",
       " '004 interest',\n",
       " '004 nicknames',\n",
       " '004 urllink',\n",
       " '0041',\n",
       " '0045',\n",
       " '0045 email',\n",
       " '0045 havent',\n",
       " '0045 thats',\n",
       " '005',\n",
       " '005 euroes',\n",
       " '005 eurosnbsp',\n",
       " '005 gender',\n",
       " '005 height',\n",
       " '005 mph',\n",
       " '005 particular',\n",
       " '005 per',\n",
       " '005 pretty',\n",
       " '005 urllink',\n",
       " '0053',\n",
       " '0053 considering',\n",
       " '006',\n",
       " '006 age',\n",
       " '006 birthday',\n",
       " '006 hair',\n",
       " '006 urllink',\n",
       " '0060521996',\n",
       " '0064',\n",
       " '0064 identified',\n",
       " '0064 shall',\n",
       " '0067',\n",
       " '0067 would',\n",
       " '007',\n",
       " '007 actor',\n",
       " '007 actually',\n",
       " '007 also',\n",
       " '007 arent',\n",
       " '007 birthday',\n",
       " '007 bit',\n",
       " '007 dance',\n",
       " '007 doesnt',\n",
       " '007 dun',\n",
       " '007 eye',\n",
       " '007 financial',\n",
       " '007 game',\n",
       " '007 gets',\n",
       " '007 go',\n",
       " '007 going',\n",
       " '007 height',\n",
       " '007 hope',\n",
       " '007 internet',\n",
       " '007 jennifer',\n",
       " '007 jersey',\n",
       " '007 like',\n",
       " '007 nbsp',\n",
       " '007 needs',\n",
       " '007 never',\n",
       " '007 nightfire',\n",
       " '007 pictures',\n",
       " '007 respect',\n",
       " '007 said',\n",
       " '007 see',\n",
       " '007 serious',\n",
       " '007 sharing',\n",
       " '007 since',\n",
       " '007 start',\n",
       " '007 tell',\n",
       " '007 thing',\n",
       " '007 today',\n",
       " '007 tomorrow',\n",
       " '007 undocumentables',\n",
       " '007 well',\n",
       " '007 would',\n",
       " '007nbsp',\n",
       " '007nbsp agree',\n",
       " '007well',\n",
       " '007well really',\n",
       " '008',\n",
       " '008 hair',\n",
       " '008 height',\n",
       " '008 pt',\n",
       " '008 race',\n",
       " '009',\n",
       " '009 eye',\n",
       " '009 hair',\n",
       " '0097',\n",
       " '0097 compliment',\n",
       " '00h',\n",
       " '00h done',\n",
       " '00h later',\n",
       " '00note__',\n",
       " '00note__ notes',\n",
       " '00s',\n",
       " '00s abc',\n",
       " '00s one',\n",
       " '00s remeber',\n",
       " '00s thats',\n",
       " '00s theres',\n",
       " '00t',\n",
       " '00t damn',\n",
       " '01',\n",
       " '01 02',\n",
       " '01 101102',\n",
       " '01 11',\n",
       " '01 115',\n",
       " '01 1211',\n",
       " '01 191941',\n",
       " '01 194018',\n",
       " '01 194315',\n",
       " '01 195117',\n",
       " '01 195237',\n",
       " '01 195651',\n",
       " '01 195656',\n",
       " '01 1964',\n",
       " '01 1972',\n",
       " '01 2003',\n",
       " '01 2004',\n",
       " '01 203',\n",
       " '01 309',\n",
       " '01 357',\n",
       " '01 across',\n",
       " '01 best',\n",
       " '01 bluetooth',\n",
       " '01 bright',\n",
       " '01 broccoli',\n",
       " '01 butterfly',\n",
       " '01 camaro',\n",
       " '01 cell',\n",
       " '01 chance',\n",
       " '01 charge',\n",
       " '01 clearer',\n",
       " '01 close',\n",
       " '01 colorful',\n",
       " '01 come',\n",
       " '01 cows',\n",
       " '01 disrespectful',\n",
       " '01 four',\n",
       " '01 freedom',\n",
       " '01 friends',\n",
       " '01 goofy',\n",
       " '01 gsm',\n",
       " '01 hammy',\n",
       " '01 hehehe',\n",
       " '01 issues',\n",
       " '01 jewel',\n",
       " '01 keyboard',\n",
       " '01 know',\n",
       " '01 known',\n",
       " '01 leen',\n",
       " '01 lil',\n",
       " '01 means',\n",
       " '01 miles',\n",
       " '01 minds',\n",
       " '01 mp3',\n",
       " '01 nope',\n",
       " '01 pant',\n",
       " '01 pants',\n",
       " '01 percent',\n",
       " '01 person',\n",
       " '01 project',\n",
       " '01 role',\n",
       " '01 seconds',\n",
       " '01 serena',\n",
       " '01 still',\n",
       " '01 story',\n",
       " '01 strike',\n",
       " '01 sundrop',\n",
       " '01 televive',\n",
       " '01 thecurehalo',\n",
       " '01 time',\n",
       " '01 toxic',\n",
       " '01 triggered',\n",
       " '01 underworld',\n",
       " '01 unfortunately',\n",
       " '01 victoria',\n",
       " '01 waiting',\n",
       " '01 watch',\n",
       " '01 whats',\n",
       " '01 我的地盤',\n",
       " '010',\n",
       " '010 10',\n",
       " '010 answer',\n",
       " '010 big',\n",
       " '010 cleveland',\n",
       " '010 custom',\n",
       " '010 customer',\n",
       " '010 eye',\n",
       " '010 flashing',\n",
       " '010 hyundai',\n",
       " '010 national',\n",
       " '010 never',\n",
       " '010 siblings',\n",
       " '010 wear',\n",
       " '0100',\n",
       " '0100 banana',\n",
       " '0100 sleep',\n",
       " '0100 time',\n",
       " '0100 wokeup',\n",
       " '010000oh',\n",
       " '010000oh one',\n",
       " '0100010001101111011100100110101101111000',\n",
       " '0100hrunexpectedlymy',\n",
       " '0100hrunexpectedlymy papa',\n",
       " '0100kmh',\n",
       " '0100kmh 44',\n",
       " '010101',\n",
       " '010101 last',\n",
       " '010101 personal',\n",
       " '01012346',\n",
       " '01012346 course',\n",
       " '0102',\n",
       " '0102 north',\n",
       " '0102 right',\n",
       " '0102 season',\n",
       " '010203',\n",
       " '010203 hehehe',\n",
       " '010504',\n",
       " '010504 may',\n",
       " '01081997',\n",
       " '01081997 01082004its',\n",
       " '01082004',\n",
       " '01082004 apples',\n",
       " '01082004 celebrate',\n",
       " '01082004its',\n",
       " '01082004its 7yrs',\n",
       " '010902',\n",
       " '010902 work',\n",
       " '010haa',\n",
       " '010haa haa',\n",
       " '011',\n",
       " '011 braces',\n",
       " '011 functions',\n",
       " '011 nbsp',\n",
       " '011 points',\n",
       " '011 race',\n",
       " '011 uich',\n",
       " '011 zodiac',\n",
       " '011110am',\n",
       " '011110am mobynathan',\n",
       " '011117am',\n",
       " '011117am mobynathan',\n",
       " '011136am',\n",
       " '011136am jaggonmaster',\n",
       " '011390669882122',\n",
       " '011390669882122 message',\n",
       " '01142004',\n",
       " '01142004 country',\n",
       " '011607',\n",
       " '011607 think',\n",
       " '011615am',\n",
       " '011615am mobynathan',\n",
       " '011646am',\n",
       " '011646am madsh00ter',\n",
       " '011723am',\n",
       " '011723am madsh00ter',\n",
       " '011732am',\n",
       " '011732am jaggonmaster',\n",
       " '011732am mobynathan',\n",
       " '011843am',\n",
       " '011843am madsh00ter',\n",
       " '01187',\n",
       " '01187 _______________________',\n",
       " '011932am',\n",
       " '011932am madsh00ter',\n",
       " '011936am',\n",
       " '011936am madsh00ter',\n",
       " '011937am',\n",
       " '011937am mobynathan',\n",
       " '011939am',\n",
       " '011939am madsh00ter',\n",
       " '011940am',\n",
       " '011940am mobynathan',\n",
       " '012',\n",
       " '012 glasses',\n",
       " '012 hair',\n",
       " '012 many',\n",
       " '01202004',\n",
       " '01202004 larissa',\n",
       " '012022',\n",
       " '012022 2004',\n",
       " '01212004',\n",
       " '01212004 therese',\n",
       " '0125',\n",
       " '0125 pm',\n",
       " '01252004',\n",
       " '01252004 english',\n",
       " '012604',\n",
       " '012604 would',\n",
       " '01299',\n",
       " '01299 402114',\n",
       " '01299 403816',\n",
       " '012xxx',\n",
       " '012xxx xxxx',\n",
       " '013',\n",
       " '013 born',\n",
       " '013 dodid',\n",
       " '013 give',\n",
       " '013 inch',\n",
       " '013 nationality',\n",
       " '0130',\n",
       " '0130 morningnbsp',\n",
       " '0130 watch',\n",
       " '0130 watched',\n",
       " '013227',\n",
       " '013227 gmt',\n",
       " '013528',\n",
       " '013528 2004',\n",
       " '013616',\n",
       " '013616 2004',\n",
       " '013626',\n",
       " '013626 2004',\n",
       " '013936',\n",
       " '013936 2004',\n",
       " '013944',\n",
       " '013944 2004',\n",
       " '014',\n",
       " '014 current',\n",
       " '014 hair',\n",
       " '014 piercings',\n",
       " '0142662566',\n",
       " '0142662566 number',\n",
       " '014357am',\n",
       " '014357am madsh00ter',\n",
       " '014730',\n",
       " '014730 2004',\n",
       " '014757',\n",
       " '014757 2004',\n",
       " '015',\n",
       " '015 born',\n",
       " '015 course',\n",
       " '015 gallon',\n",
       " '015 percent',\n",
       " '015 piercings',\n",
       " '015 trade',\n",
       " '015 zodiac',\n",
       " '01562',\n",
       " '01562 66270',\n",
       " '01562 67148',\n",
       " '01562 820041',\n",
       " '01562nbspnbspnbspnbspnbspnbspnbspnbspnbspnbspnbspnbspnbspnbsp',\n",
       " '01562nbspnbspnbspnbspnbspnbspnbspnbspnbspnbspnbspnbspnbspnbsp pop',\n",
       " '016',\n",
       " '016 current',\n",
       " '016 many',\n",
       " '016 per',\n",
       " '016 tattoos',\n",
       " '017',\n",
       " '017 entire',\n",
       " '017 hour',\n",
       " '017 laungage',\n",
       " '017 tattoos',\n",
       " '017 zodiac',\n",
       " '01752',\n",
       " '01752 224840',\n",
       " '018',\n",
       " '018 bad',\n",
       " '018 felipe',\n",
       " '018 many',\n",
       " '018 todays',\n",
       " '0185nbspnbspnbspnbspnbspnbspnbspnbspnbspnbspnbspnbspnbspnbspnbspnbspnbspnbspnbspnbspnbspnbspnbspnbspnbspnbspnbspnbspnbspnbspnbspnbspnbspnbspnbspnbspnbspnbspnbspnbspnbspnbspnbspnbspnbspnbspnbspnbspnbspnbspnbspnbspnbspnbspnbspnbspnbspnbspnbspnbspnbspnbsp',\n",
       " '0185nbspnbspnbspnbspnbspnbspnbspnbspnbspnbspnbspnbspnbspnbspnbspnbspnbspnbspnbspnbspnbspnbspnbspnbspnbspnbspnbspnbspnbspnbspnbspnbspnbspnbspnbspnbspnbspnbspnbspnbspnbspnbspnbspnbspnbspnbspnbspnbspnbspnbspnbspnbspnbspnbspnbspnbspnbspnbspnbspnbspnbspnbsp margaret',\n",
       " '019',\n",
       " '019 nationality',\n",
       " '019 piercing',\n",
       " '019 time',\n",
       " '01birdjpg',\n",
       " '01birdjpg urllink',\n",
       " '01jill',\n",
       " '01jill sims',\n",
       " '01july04',\n",
       " '01july04 ripped',\n",
       " '01not',\n",
       " '01not bad',\n",
       " '01nov',\n",
       " '01nov 30',\n",
       " '01s',\n",
       " '01s responsibilities',\n",
       " '01sep',\n",
       " '01sep subtracted',\n",
       " '01sep04',\n",
       " '01sep04 remember',\n",
       " '01when',\n",
       " '01when younger',\n",
       " '01x',\n",
       " '01x series',\n",
       " '01x urllink',\n",
       " '02',\n",
       " '02 03',\n",
       " '02 1964',\n",
       " '02 2002',\n",
       " '02 2004',\n",
       " '02 221430',\n",
       " '02 222425',\n",
       " '02 222803',\n",
       " '02 222812',\n",
       " '02 233531',\n",
       " '02 40',\n",
       " '02 86',\n",
       " '02 9550',\n",
       " '02 added',\n",
       " '02 ali',\n",
       " '02 annoying',\n",
       " '02 argue',\n",
       " '02 ashley',\n",
       " '02 august',\n",
       " '02 beyonce',\n",
       " '02 blackwhite',\n",
       " '02 cents',\n",
       " '02 changes',\n",
       " '02 character',\n",
       " '02 cheerwine',\n",
       " '02 could',\n",
       " '02 darryl',\n",
       " '02 day',\n",
       " '02 deadbeat',\n",
       " '02 dont',\n",
       " '02 dork',\n",
       " '02 drop',\n",
       " '02 dumb',\n",
       " '02 encore',\n",
       " '02 faced',\n",
       " '02 fear',\n",
       " '02 florida',\n",
       " '02 franzferdinandtakemeout',\n",
       " '02 friends',\n",
       " '02 geography',\n",
       " '02 group',\n",
       " '02 hits',\n",
       " '02 hope',\n",
       " '02 im',\n",
       " '02 iraq',\n",
       " '02 keyboard',\n",
       " '02 kg',\n",
       " '02 lott',\n",
       " '02 lucky',\n",
       " '02 magic',\n",
       " '02 mama',\n",
       " '02 may',\n",
       " '02 maybe',\n",
       " '02 meet',\n",
       " '02 messages',\n",
       " '02 miles',\n",
       " '02 movies',\n",
       " '02 nbspnbspnbspnbspnbspnbspnbspnbsp',\n",
       " '02 nice',\n",
       " '02 nissan',\n",
       " '02 one',\n",
       " '02 original',\n",
       " '02 personal',\n",
       " '02 pet',\n",
       " '02 pics',\n",
       " '02 plenty',\n",
       " '02 points',\n",
       " '02 rascal',\n",
       " '02 released',\n",
       " '02 republicans',\n",
       " '02 right',\n",
       " '02 rower',\n",
       " '02 season',\n",
       " '02 seemed',\n",
       " '02 shorts',\n",
       " '02 show',\n",
       " '02 simpsons',\n",
       " '02 statement',\n",
       " '02 still',\n",
       " '02 think',\n",
       " '02 today',\n",
       " '02 trb',\n",
       " '02 trips',\n",
       " '02 twister',\n",
       " '02 weakest',\n",
       " '02 weve',\n",
       " '02 wilding',\n",
       " '02 win',\n",
       " '02 windup',\n",
       " '02 七里香',\n",
       " '020',\n",
       " '020 bad',\n",
       " '020 could',\n",
       " '020 even',\n",
       " '020 piercing',\n",
       " '020 still',\n",
       " '0200',\n",
       " '0200 finally',\n",
       " '0200 hrs',\n",
       " '0200 pm',\n",
       " '0200 watching',\n",
       " '0200 went',\n",
       " '020031',\n",
       " '020031 pm',\n",
       " '0200hr',\n",
       " '0200hr 22',\n",
       " '0200hrtido',\n",
       " '0200hrtido dulu',\n",
       " '020101',\n",
       " '020101 clubs',\n",
       " '0203',\n",
       " '0203 financial',\n",
       " '0203 getting',\n",
       " '0203 inland',\n",
       " '0203 transfer',\n",
       " '020304',\n",
       " '020304 115423',\n",
       " '020604',\n",
       " '020604 went',\n",
       " '021',\n",
       " '021 drop',\n",
       " '021 ill',\n",
       " '021 piercings',\n",
       " '021 tattoos',\n",
       " '021 totally',\n",
       " '02109',\n",
       " '02109 number',\n",
       " '02115',\n",
       " '02118',\n",
       " '02118 gmodestpartnersorg',\n",
       " '021320',\n",
       " '021320 link',\n",
       " '021426',\n",
       " '021426 homepage',\n",
       " '0215',\n",
       " '0215 gmt',\n",
       " '021535',\n",
       " '021535 2004',\n",
       " '02162003',\n",
       " '02162003 essential',\n",
       " '0217',\n",
       " '0217 pm',\n",
       " '0218',\n",
       " '0218 pm',\n",
       " '02182004',\n",
       " '02182004 urllink',\n",
       " '0219',\n",
       " '0219 pm',\n",
       " '022',\n",
       " '022 favorite',\n",
       " '022 looks',\n",
       " '022 piercings',\n",
       " '022 µu',\n",
       " '0220',\n",
       " '0220 pm',\n",
       " '0221',\n",
       " '0221 pm',\n",
       " '0222',\n",
       " '0222 pm',\n",
       " '022227',\n",
       " '022227 2004',\n",
       " '0223',\n",
       " '0223 pm',\n",
       " '02232004',\n",
       " '0224',\n",
       " '0224 pm',\n",
       " '0225',\n",
       " '0225 pm',\n",
       " '0225 reverse',\n",
       " '02252004',\n",
       " '02252004 nbsp',\n",
       " '0226',\n",
       " '0226 pm',\n",
       " '022600',\n",
       " '022600 2004',\n",
       " '0227',\n",
       " '0227 pm',\n",
       " '0228',\n",
       " '0228 pm',\n",
       " '0229',\n",
       " '0229 pm',\n",
       " '023',\n",
       " '023 least',\n",
       " '023 released',\n",
       " '023 tattoos',\n",
       " '023 today',\n",
       " '0230',\n",
       " '0230 oni',\n",
       " '0230 pm',\n",
       " '0230 reminded',\n",
       " '0231',\n",
       " '0231 pm',\n",
       " '0232',\n",
       " '0232 pm',\n",
       " '0233',\n",
       " '0233 pm',\n",
       " '0234',\n",
       " '0234 pm',\n",
       " '0235',\n",
       " '0235 pm',\n",
       " '0236',\n",
       " '0236 pm',\n",
       " '0237',\n",
       " '0237 ian',\n",
       " '0237 pm',\n",
       " '023732',\n",
       " '023732 pm',\n",
       " '023746',\n",
       " '023746 pm',\n",
       " '023755',\n",
       " '023755 pm',\n",
       " '0238',\n",
       " '0238 pm',\n",
       " '023800',\n",
       " '023800 pm',\n",
       " '023801',\n",
       " '023801 pm',\n",
       " '023808',\n",
       " '023808 pm',\n",
       " '023847',\n",
       " '023847 pm',\n",
       " '023939',\n",
       " '023939 pm',\n",
       " '023946',\n",
       " '023946 pm',\n",
       " '023947',\n",
       " '023947 pm',\n",
       " '023f5unthat',\n",
       " '023f5unthat sarah',\n",
       " '024',\n",
       " '024 favorite',\n",
       " '024 tattoos',\n",
       " '024 todays',\n",
       " '0240',\n",
       " '0240 pm',\n",
       " '024009',\n",
       " '024009 pm',\n",
       " '0241',\n",
       " '0241 pm',\n",
       " '024201',\n",
       " '024201 pm',\n",
       " '0243',\n",
       " '0243 pm',\n",
       " '0244',\n",
       " '0244 pm',\n",
       " '0245',\n",
       " '0245 pm',\n",
       " '024528am',\n",
       " '024528am jaggonmaster',\n",
       " '0246',\n",
       " '0246 pm',\n",
       " '0247',\n",
       " '0247 pm',\n",
       " '024716',\n",
       " '024716 pm',\n",
       " '024723',\n",
       " '024723 pm',\n",
       " '0248',\n",
       " '0248 pm',\n",
       " '0249',\n",
       " '024908',\n",
       " '024908 pm',\n",
       " '025',\n",
       " '025 least',\n",
       " '025 liability',\n",
       " '025 seconds',\n",
       " '025 time',\n",
       " '025 todays',\n",
       " '0250',\n",
       " '0250 pm',\n",
       " '025050',\n",
       " '025050 blind',\n",
       " '0250h',\n",
       " '0250h ive',\n",
       " '0251',\n",
       " '0251 pm',\n",
       " '0252',\n",
       " '0252 pm',\n",
       " '0253',\n",
       " '0253 pm',\n",
       " '0254',\n",
       " '0254 pm',\n",
       " '0255',\n",
       " '0255 pm',\n",
       " '025613',\n",
       " '025613 pm',\n",
       " '0257',\n",
       " '0257 pm',\n",
       " '0258',\n",
       " '0258 pm',\n",
       " '025805',\n",
       " '025805 2004',\n",
       " '025808',\n",
       " '025808 2004',\n",
       " '026',\n",
       " '026 favorite',\n",
       " '026 main',\n",
       " '026 percent',\n",
       " '026 ready',\n",
       " '026 time',\n",
       " '026 today',\n",
       " '026903116',\n",
       " '026903116 nbsp',\n",
       " '026hr',\n",
       " '026hr raise',\n",
       " '027',\n",
       " '027 least',\n",
       " '027 mothers',\n",
       " '027 ready',\n",
       " '027604303',\n",
       " '027604303 ref',\n",
       " '027623577',\n",
       " '027623577 027604303',\n",
       " '028',\n",
       " '028 dodid',\n",
       " '028 fathers',\n",
       " '028 mothers',\n",
       " '028 plus',\n",
       " '029',\n",
       " '029 brothers',\n",
       " '029 fathers',\n",
       " '029 play',\n",
       " '029jpg',\n",
       " '029jpg urllink',\n",
       " '02haizmissed',\n",
       " '02haizmissed class',\n",
       " '02ip',\n",
       " '02ip 6750',\n",
       " '02july04',\n",
       " '02july04 week',\n",
       " '03',\n",
       " '03 013936',\n",
       " '03 013944',\n",
       " '03 02haizmissed',\n",
       " '03 034320',\n",
       " '03 034936',\n",
       " '03 035102',\n",
       " '03 035622',\n",
       " '03 04',\n",
       " '03 040748',\n",
       " '03 040751',\n",
       " '03 165336',\n",
       " '03 172515',\n",
       " '03 174546',\n",
       " '03 1972',\n",
       " '03 2003',\n",
       " '03 2004',\n",
       " '03 232612',\n",
       " '03 233534',\n",
       " '03 233628',\n",
       " '03 alan',\n",
       " '03 always',\n",
       " '03 ask',\n",
       " '03 aware',\n",
       " '03 back',\n",
       " '03 believe',\n",
       " '03 broke',\n",
       " '03 capitol',\n",
       " '03 could',\n",
       " '03 csi',\n",
       " '03 cuz',\n",
       " '03 deadbeat',\n",
       " '03 encoded',\n",
       " '03 evanescene',\n",
       " '03 ever',\n",
       " '03 fiesta',\n",
       " '03 focus',\n",
       " '03 freaky',\n",
       " '03 freds',\n",
       " '03 fucked',\n",
       " '03 gd',\n",
       " '03 gold',\n",
       " '03 greatest',\n",
       " '03 hair',\n",
       " '03 hate',\n",
       " '03 im',\n",
       " '03 jaime',\n",
       " '03 january',\n",
       " '03 jessica',\n",
       " '03 kameron',\n",
       " '03 kfc',\n",
       " '03 kg',\n",
       " '03 knows',\n",
       " '03 like',\n",
       " '03 lives',\n",
       " '03 love',\n",
       " '03 marshmallow',\n",
       " '03 mcdonalds',\n",
       " '03 meet',\n",
       " '03 met',\n",
       " '03 much',\n",
       " '03 myherour',\n",
       " '03 never',\n",
       " '03 new',\n",
       " '03 pineapple',\n",
       " '03 popular',\n",
       " '03 randomness',\n",
       " '03 rem',\n",
       " '03 remove',\n",
       " '03 school',\n",
       " '03 seem',\n",
       " '03 seemed',\n",
       " '03 since',\n",
       " '03 start',\n",
       " '03 state',\n",
       " '03 suppsose',\n",
       " '03 thefrenchkicksclosetomodern',\n",
       " '03 thought',\n",
       " '03 time',\n",
       " '03 timetable',\n",
       " '03 tokyo',\n",
       " '03 untitled',\n",
       " '03 videos',\n",
       " '03 water',\n",
       " '03 way',\n",
       " '03 whats',\n",
       " '03 would',\n",
       " '03 藉口',\n",
       " '030',\n",
       " '030 arewere',\n",
       " '030 sisters',\n",
       " '030 stepparents',\n",
       " '030 total',\n",
       " '0300',\n",
       " '0300 go',\n",
       " '0300 someone',\n",
       " '0300 things',\n",
       " '0300hrapa',\n",
       " '0300hrapa lagi',\n",
       " '0300hrs',\n",
       " '0300hrs local',\n",
       " '030101',\n",
       " '030101 restaurants',\n",
       " '030208',\n",
       " '030208 2004',\n",
       " '030214',\n",
       " '030214 2004',\n",
       " '0303',\n",
       " '0303 afternoon',\n",
       " '0303 pass',\n",
       " '030303',\n",
       " '030303 gods',\n",
       " '030303 world',\n",
       " '030303 wouldnt',\n",
       " '0303030303',\n",
       " '0303030303 wont',\n",
       " '0304',\n",
       " '0304 hat',\n",
       " '0304 identity',\n",
       " '0304 retire',\n",
       " '030503',\n",
       " '030503 sat',\n",
       " '030504',\n",
       " '030504 whats',\n",
       " '030804',\n",
       " '030804 original',\n",
       " '030952',\n",
       " '030952 hey',\n",
       " '031',\n",
       " '031 brotherss',\n",
       " '031 favorite',\n",
       " '031 humiliating',\n",
       " '0312002',\n",
       " '0312002 limited',\n",
       " '0315',\n",
       " '0315 aogatססn饴rjifcbqӹbӧaҥ',\n",
       " '0315 somewhere',\n",
       " '03152004',\n",
       " '03152004 urllink',\n",
       " '0318',\n",
       " '0318 hrs',\n",
       " '03182004',\n",
       " ...]"
      ]
     },
     "execution_count": 48,
     "metadata": {
      "tags": []
     },
     "output_type": "execute_result"
    }
   ],
   "source": [
    "cvect.get_feature_names()"
   ]
  },
  {
   "cell_type": "markdown",
   "metadata": {
    "id": "VJmKYfgvZwzb"
   },
   "source": [
    "### **1.3. Designing, train tune and testing the best text classifier**"
   ]
  },
  {
   "cell_type": "code",
   "execution_count": 49,
   "metadata": {
    "collapsed": true,
    "executionInfo": {
     "elapsed": 138205,
     "status": "ok",
     "timestamp": 1616332948147,
     "user": {
      "displayName": "SURJEET DHARSAN A S",
      "photoUrl": "",
      "userId": "05909804033538903331"
     },
     "user_tz": -330
    },
    "id": "hsKahGR0SH0h"
   },
   "outputs": [],
   "source": [
    "X_train_ct = cvect.transform(X_train)"
   ]
  },
  {
   "cell_type": "code",
   "execution_count": 50,
   "metadata": {
    "colab": {
     "base_uri": "https://localhost:8080/"
    },
    "executionInfo": {
     "elapsed": 138187,
     "status": "ok",
     "timestamp": 1616332948148,
     "user": {
      "displayName": "SURJEET DHARSAN A S",
      "photoUrl": "",
      "userId": "05909804033538903331"
     },
     "user_tz": -330
    },
    "id": "dWuuR3nuT0Zo",
    "outputId": "03d08c9f-cec8-4bfb-b10e-f57921d1c2d1"
   },
   "outputs": [
    {
     "data": {
      "text/plain": [
       "scipy.sparse.csr.csr_matrix"
      ]
     },
     "execution_count": 50,
     "metadata": {
      "tags": []
     },
     "output_type": "execute_result"
    }
   ],
   "source": [
    "type(X_train_ct)"
   ]
  },
  {
   "cell_type": "code",
   "execution_count": 51,
   "metadata": {
    "colab": {
     "base_uri": "https://localhost:8080/"
    },
    "executionInfo": {
     "elapsed": 138176,
     "status": "ok",
     "timestamp": 1616332948150,
     "user": {
      "displayName": "SURJEET DHARSAN A S",
      "photoUrl": "",
      "userId": "05909804033538903331"
     },
     "user_tz": -330
    },
    "id": "hVBGGvUwUAjN",
    "outputId": "19abfc0d-0936-43ff-d8ce-b693fb4b21a2"
   },
   "outputs": [
    {
     "data": {
      "text/plain": [
       "<80000x4517090 sparse matrix of type '<class 'numpy.int64'>'\n",
       "\twith 13894625 stored elements in Compressed Sparse Row format>"
      ]
     },
     "execution_count": 51,
     "metadata": {
      "tags": []
     },
     "output_type": "execute_result"
    }
   ],
   "source": [
    "X_train_ct"
   ]
  },
  {
   "cell_type": "code",
   "execution_count": 52,
   "metadata": {
    "colab": {
     "base_uri": "https://localhost:8080/"
    },
    "executionInfo": {
     "elapsed": 138160,
     "status": "ok",
     "timestamp": 1616332948152,
     "user": {
      "displayName": "SURJEET DHARSAN A S",
      "photoUrl": "",
      "userId": "05909804033538903331"
     },
     "user_tz": -330
    },
    "id": "pDuiwQO9UGuB",
    "outputId": "df8184ca-c92e-4182-80a8-f523be923335"
   },
   "outputs": [
    {
     "data": {
      "text/plain": [
       "<1x4517090 sparse matrix of type '<class 'numpy.int64'>'\n",
       "\twith 483 stored elements in Compressed Sparse Row format>"
      ]
     },
     "execution_count": 52,
     "metadata": {
      "tags": []
     },
     "output_type": "execute_result"
    }
   ],
   "source": [
    "X_train_ct[0]"
   ]
  },
  {
   "cell_type": "code",
   "execution_count": 53,
   "metadata": {
    "collapsed": true,
    "executionInfo": {
     "elapsed": 144556,
     "status": "ok",
     "timestamp": 1616332954561,
     "user": {
      "displayName": "SURJEET DHARSAN A S",
      "photoUrl": "",
      "userId": "05909804033538903331"
     },
     "user_tz": -330
    },
    "id": "AukE4KyJUI9b"
   },
   "outputs": [],
   "source": [
    "X_test_ct = cvect.transform(X_test)"
   ]
  },
  {
   "cell_type": "code",
   "execution_count": 54,
   "metadata": {
    "colab": {
     "base_uri": "https://localhost:8080/"
    },
    "executionInfo": {
     "elapsed": 144553,
     "status": "ok",
     "timestamp": 1616332954565,
     "user": {
      "displayName": "SURJEET DHARSAN A S",
      "photoUrl": "",
      "userId": "05909804033538903331"
     },
     "user_tz": -330
    },
    "id": "6ChpjMw7UMiS",
    "outputId": "f903f4fc-2cec-4137-e1db-7594bc54e804"
   },
   "outputs": [
    {
     "data": {
      "text/plain": [
       "<20000x4517090 sparse matrix of type '<class 'numpy.int64'>'\n",
       "\twith 2633973 stored elements in Compressed Sparse Row format>"
      ]
     },
     "execution_count": 54,
     "metadata": {
      "tags": []
     },
     "output_type": "execute_result"
    }
   ],
   "source": [
    "X_test_ct"
   ]
  },
  {
   "cell_type": "code",
   "execution_count": 55,
   "metadata": {
    "colab": {
     "base_uri": "https://localhost:8080/"
    },
    "executionInfo": {
     "elapsed": 158415,
     "status": "ok",
     "timestamp": 1616332968439,
     "user": {
      "displayName": "SURJEET DHARSAN A S",
      "photoUrl": "",
      "userId": "05909804033538903331"
     },
     "user_tz": -330
    },
    "id": "hmYdsnxyUU6U",
    "outputId": "048cba78-5140-4834-9cca-d41956059fb7"
   },
   "outputs": [
    {
     "data": {
      "text/plain": [
       "['00',\n",
       " '00 damarcus',\n",
       " '00 damn',\n",
       " '00 doesnt',\n",
       " '00 dont',\n",
       " '00 draw',\n",
       " '00 games',\n",
       " '00 laughed',\n",
       " '00 lil',\n",
       " '00 morning']"
      ]
     },
     "execution_count": 55,
     "metadata": {
      "tags": []
     },
     "output_type": "execute_result"
    }
   ],
   "source": [
    "cvect.get_feature_names()[:10]"
   ]
  },
  {
   "cell_type": "code",
   "execution_count": 56,
   "metadata": {
    "colab": {
     "base_uri": "https://localhost:8080/"
    },
    "executionInfo": {
     "elapsed": 158404,
     "status": "ok",
     "timestamp": 1616332968440,
     "user": {
      "displayName": "SURJEET DHARSAN A S",
      "photoUrl": "",
      "userId": "05909804033538903331"
     },
     "user_tz": -330
    },
    "id": "Tl4kGMphUdIJ",
    "outputId": "957f7251-a4e3-44a9-d144-27f4f85937a7"
   },
   "outputs": [
    {
     "name": "stdout",
     "output_type": "stream",
     "text": [
      "  (0, 10607)\t1\n",
      "  (0, 10627)\t1\n",
      "  (0, 11033)\t1\n",
      "  (0, 11034)\t1\n",
      "  (0, 13953)\t1\n",
      "  (0, 13954)\t1\n",
      "  (0, 42119)\t1\n",
      "  (0, 42120)\t1\n",
      "  (0, 43719)\t1\n",
      "  (0, 43827)\t1\n",
      "  (0, 67010)\t1\n",
      "  (0, 67011)\t1\n",
      "  (0, 92180)\t1\n",
      "  (0, 92184)\t1\n",
      "  (0, 113011)\t1\n",
      "  (0, 113907)\t1\n",
      "  (0, 120596)\t2\n",
      "  (0, 123016)\t2\n",
      "  (0, 181859)\t1\n",
      "  (0, 181920)\t1\n",
      "  (0, 244805)\t1\n",
      "  (0, 244878)\t1\n",
      "  (0, 258494)\t1\n",
      "  (0, 258690)\t1\n",
      "  (0, 263762)\t1\n",
      "  :\t:\n",
      "  (79999, 489553)\t1\n",
      "  (79999, 490590)\t1\n",
      "  (79999, 685736)\t1\n",
      "  (79999, 686275)\t1\n",
      "  (79999, 987793)\t1\n",
      "  (79999, 990497)\t1\n",
      "  (79999, 1275446)\t1\n",
      "  (79999, 1664615)\t1\n",
      "  (79999, 1668927)\t1\n",
      "  (79999, 1934343)\t1\n",
      "  (79999, 1936464)\t1\n",
      "  (79999, 2334456)\t1\n",
      "  (79999, 2335872)\t1\n",
      "  (79999, 2680191)\t1\n",
      "  (79999, 2682769)\t1\n",
      "  (79999, 2689599)\t1\n",
      "  (79999, 2690051)\t1\n",
      "  (79999, 3250596)\t1\n",
      "  (79999, 3250640)\t1\n",
      "  (79999, 3892432)\t1\n",
      "  (79999, 3894880)\t1\n",
      "  (79999, 3948360)\t1\n",
      "  (79999, 3948560)\t1\n",
      "  (79999, 4052512)\t1\n",
      "  (79999, 4052642)\t1\n"
     ]
    }
   ],
   "source": [
    "print(X_train_ct)"
   ]
  },
  {
   "cell_type": "code",
   "execution_count": 57,
   "metadata": {
    "colab": {
     "base_uri": "https://localhost:8080/"
    },
    "executionInfo": {
     "elapsed": 158392,
     "status": "ok",
     "timestamp": 1616332968441,
     "user": {
      "displayName": "SURJEET DHARSAN A S",
      "photoUrl": "",
      "userId": "05909804033538903331"
     },
     "user_tz": -330
    },
    "id": "FQIW5q6bUkNv",
    "outputId": "97d8ce06-1ef8-4a45-d72d-9f76c9a7ab2b"
   },
   "outputs": [
    {
     "name": "stdout",
     "output_type": "stream",
     "text": [
      "  (0, 466872)\t1\n",
      "  (0, 584973)\t1\n",
      "  (0, 584975)\t1\n",
      "  (0, 1781828)\t1\n",
      "  (0, 2442107)\t1\n",
      "  (0, 2442126)\t1\n",
      "  (0, 3036818)\t1\n",
      "  (1, 8711)\t1\n",
      "  (1, 9452)\t1\n",
      "  (1, 21144)\t1\n",
      "  (1, 67661)\t1\n",
      "  (1, 67771)\t1\n",
      "  (1, 74496)\t1\n",
      "  (1, 78471)\t1\n",
      "  (1, 120596)\t2\n",
      "  (1, 121772)\t1\n",
      "  (1, 126920)\t1\n",
      "  (1, 157801)\t2\n",
      "  (1, 157893)\t1\n",
      "  (1, 178920)\t1\n",
      "  (1, 182108)\t1\n",
      "  (1, 182417)\t1\n",
      "  (1, 183363)\t2\n",
      "  (1, 194027)\t1\n",
      "  (1, 202361)\t5\n",
      "  :\t:\n",
      "  (19999, 3380016)\t1\n",
      "  (19999, 3561611)\t1\n",
      "  (19999, 3575363)\t1\n",
      "  (19999, 3710895)\t1\n",
      "  (19999, 3711708)\t1\n",
      "  (19999, 3757318)\t1\n",
      "  (19999, 3899740)\t1\n",
      "  (19999, 3899777)\t1\n",
      "  (19999, 3934893)\t2\n",
      "  (19999, 3935016)\t1\n",
      "  (19999, 3948360)\t1\n",
      "  (19999, 3952264)\t1\n",
      "  (19999, 4013296)\t1\n",
      "  (19999, 4013848)\t1\n",
      "  (19999, 4021460)\t1\n",
      "  (19999, 4023561)\t1\n",
      "  (19999, 4223852)\t1\n",
      "  (19999, 4223914)\t1\n",
      "  (19999, 4284488)\t1\n",
      "  (19999, 4285835)\t1\n",
      "  (19999, 4304472)\t1\n",
      "  (19999, 4330559)\t1\n",
      "  (19999, 4330886)\t1\n",
      "  (19999, 4363071)\t1\n",
      "  (19999, 4423255)\t1\n"
     ]
    }
   ],
   "source": [
    "print(X_test_ct)"
   ]
  },
  {
   "cell_type": "code",
   "execution_count": 58,
   "metadata": {
    "collapsed": true,
    "executionInfo": {
     "elapsed": 158802,
     "status": "ok",
     "timestamp": 1616332968863,
     "user": {
      "displayName": "SURJEET DHARSAN A S",
      "photoUrl": "",
      "userId": "05909804033538903331"
     },
     "user_tz": -330
    },
    "id": "3lu4kIeBU0BH"
   },
   "outputs": [],
   "source": [
    "# Creating a dictionary to get the count of every label i.e. the key will be label name and value will be the total count of the label\n",
    "label_counts=dict()\n",
    "\n",
    "for labels in blog_df.labels.values:\n",
    "    for label in labels:\n",
    "        if label in label_counts:\n",
    "            label_counts[str(label)]+=1\n",
    "        else:\n",
    "            label_counts[str(label)]=1"
   ]
  },
  {
   "cell_type": "code",
   "execution_count": 59,
   "metadata": {
    "colab": {
     "base_uri": "https://localhost:8080/"
    },
    "executionInfo": {
     "elapsed": 158801,
     "status": "ok",
     "timestamp": 1616332968869,
     "user": {
      "displayName": "SURJEET DHARSAN A S",
      "photoUrl": "",
      "userId": "05909804033538903331"
     },
     "user_tz": -330
    },
    "id": "mlOxuvowVCcl",
    "outputId": "a4c1d26e-6927-4f8e-81d6-e309f32dcf03"
   },
   "outputs": [
    {
     "data": {
      "text/plain": [
       "{'13': 1,\n",
       " '14': 1,\n",
       " '15': 1,\n",
       " '16': 1,\n",
       " '17': 1,\n",
       " '23': 1,\n",
       " '24': 1,\n",
       " '25': 1,\n",
       " '26': 1,\n",
       " '27': 1,\n",
       " '33': 1,\n",
       " '34': 1,\n",
       " '35': 1,\n",
       " '36': 1,\n",
       " '37': 1,\n",
       " '38': 1,\n",
       " '39': 1,\n",
       " '40': 1,\n",
       " '41': 1,\n",
       " '42': 1,\n",
       " '43': 1,\n",
       " '44': 1,\n",
       " '45': 1,\n",
       " '46': 1,\n",
       " '47': 1,\n",
       " '48': 1,\n",
       " 'Accounting': 528,\n",
       " 'Advertising': 766,\n",
       " 'Agriculture': 168,\n",
       " 'Aquarius': 9050,\n",
       " 'Architecture': 83,\n",
       " 'Aries': 10637,\n",
       " 'Arts': 5031,\n",
       " 'Automotive': 124,\n",
       " 'Banking': 354,\n",
       " 'Biotech': 324,\n",
       " 'BusinessServices': 626,\n",
       " 'Cancer': 9253,\n",
       " 'Capricorn': 8723,\n",
       " 'Chemicals': 305,\n",
       " 'Communications-Media': 2830,\n",
       " 'Construction': 250,\n",
       " 'Consulting': 905,\n",
       " 'Education': 5553,\n",
       " 'Engineering': 2332,\n",
       " 'Environment': 6,\n",
       " 'Fashion': 1898,\n",
       " 'Gemini': 9225,\n",
       " 'Government': 2055,\n",
       " 'HumanResources': 209,\n",
       " 'Internet': 2251,\n",
       " 'InvestmentBanking': 244,\n",
       " 'Law': 360,\n",
       " 'LawEnforcement-Security': 368,\n",
       " 'Leo': 8230,\n",
       " 'Libra': 7250,\n",
       " 'Manufacturing': 542,\n",
       " 'Maritime': 59,\n",
       " 'Marketing': 726,\n",
       " 'Military': 798,\n",
       " 'Museums-Libraries': 308,\n",
       " 'Non-Profit': 1326,\n",
       " 'Pisces': 7553,\n",
       " 'Publishing': 1079,\n",
       " 'RealEstate': 149,\n",
       " 'Religion': 1081,\n",
       " 'Sagittarius': 7366,\n",
       " 'Science': 1090,\n",
       " 'Scorpio': 7049,\n",
       " 'Sports-Recreation': 406,\n",
       " 'Student': 22122,\n",
       " 'Taurus': 8530,\n",
       " 'Technology': 8484,\n",
       " 'Telecommunications': 165,\n",
       " 'Tourism': 253,\n",
       " 'Transportation': 745,\n",
       " 'Virgo': 7134,\n",
       " 'female': 46642,\n",
       " 'indUnk': 33097,\n",
       " 'male': 53358}"
      ]
     },
     "execution_count": 59,
     "metadata": {
      "tags": []
     },
     "output_type": "execute_result"
    }
   ],
   "source": [
    "label_counts"
   ]
  },
  {
   "cell_type": "code",
   "execution_count": 60,
   "metadata": {
    "collapsed": true,
    "executionInfo": {
     "elapsed": 158791,
     "status": "ok",
     "timestamp": 1616332968870,
     "user": {
      "displayName": "SURJEET DHARSAN A S",
      "photoUrl": "",
      "userId": "05909804033538903331"
     },
     "user_tz": -330
    },
    "id": "ZNulPFMTVqmn"
   },
   "outputs": [],
   "source": [
    "#Transforming the labels:\n",
    "'''\n",
    "Each example can have multiple tags. To deal with such kind of prediction, we need to transform labels in a binary form and the prediction will be a mask of 0s and 1s. \n",
    "For this purpose, it is convenient to use MultiLabelBinarizer from sklearn. Hence, converting train and test labels using MultiLabelBinarizer\n",
    "'''\n",
    "from sklearn.preprocessing import MultiLabelBinarizer\n",
    "binarizer=MultiLabelBinarizer(classes=sorted(label_counts.keys()))"
   ]
  },
  {
   "cell_type": "code",
   "execution_count": 61,
   "metadata": {
    "collapsed": true,
    "executionInfo": {
     "elapsed": 158784,
     "status": "ok",
     "timestamp": 1616332968870,
     "user": {
      "displayName": "SURJEET DHARSAN A S",
      "photoUrl": "",
      "userId": "05909804033538903331"
     },
     "user_tz": -330
    },
    "id": "dbWiHE_mWhC8"
   },
   "outputs": [],
   "source": [
    "y_train = binarizer.fit_transform(y_train)"
   ]
  },
  {
   "cell_type": "code",
   "execution_count": 62,
   "metadata": {
    "collapsed": true,
    "executionInfo": {
     "elapsed": 158777,
     "status": "ok",
     "timestamp": 1616332968871,
     "user": {
      "displayName": "SURJEET DHARSAN A S",
      "photoUrl": "",
      "userId": "05909804033538903331"
     },
     "user_tz": -330
    },
    "id": "cqPfB6xzWiQI"
   },
   "outputs": [],
   "source": [
    "y_test = binarizer.transform(y_test)"
   ]
  },
  {
   "cell_type": "code",
   "execution_count": 63,
   "metadata": {
    "colab": {
     "base_uri": "https://localhost:8080/"
    },
    "executionInfo": {
     "elapsed": 158772,
     "status": "ok",
     "timestamp": 1616332968871,
     "user": {
      "displayName": "SURJEET DHARSAN A S",
      "photoUrl": "",
      "userId": "05909804033538903331"
     },
     "user_tz": -330
    },
    "id": "fN4LvL7oWltk",
    "outputId": "45dcb17c-8f23-4630-a4a8-94cfa995b694"
   },
   "outputs": [
    {
     "data": {
      "text/plain": [
       "array([[0, 0, 0, ..., 0, 0, 1],\n",
       "       [0, 0, 0, ..., 0, 0, 1],\n",
       "       [0, 0, 0, ..., 0, 1, 1],\n",
       "       ...,\n",
       "       [0, 0, 0, ..., 1, 0, 0],\n",
       "       [0, 0, 0, ..., 0, 0, 1],\n",
       "       [0, 0, 0, ..., 0, 1, 1]])"
      ]
     },
     "execution_count": 63,
     "metadata": {
      "tags": []
     },
     "output_type": "execute_result"
    }
   ],
   "source": [
    "y_test"
   ]
  },
  {
   "cell_type": "code",
   "execution_count": 64,
   "metadata": {
    "colab": {
     "base_uri": "https://localhost:8080/"
    },
    "executionInfo": {
     "elapsed": 158760,
     "status": "ok",
     "timestamp": 1616332968872,
     "user": {
      "displayName": "SURJEET DHARSAN A S",
      "photoUrl": "",
      "userId": "05909804033538903331"
     },
     "user_tz": -330
    },
    "id": "1mlm1gFPWo81",
    "outputId": "e28f9615-549e-40f9-c17e-cc9f3bd1a60a"
   },
   "outputs": [
    {
     "data": {
      "text/plain": [
       "array([[0, 0, 0, ..., 0, 0, 1],\n",
       "       [0, 0, 0, ..., 1, 1, 0],\n",
       "       [0, 0, 0, ..., 1, 1, 0],\n",
       "       ...,\n",
       "       [0, 0, 0, ..., 1, 0, 0],\n",
       "       [0, 0, 0, ..., 0, 0, 1],\n",
       "       [0, 0, 0, ..., 0, 0, 1]])"
      ]
     },
     "execution_count": 64,
     "metadata": {
      "tags": []
     },
     "output_type": "execute_result"
    }
   ],
   "source": [
    "y_train"
   ]
  },
  {
   "cell_type": "markdown",
   "metadata": {
    "id": "TSoOgzxQYTTK"
   },
   "source": [
    "Text classifier is chosen as Logistic Regression.It is one of the simplest methods, but often it performs good enough in text classification tasks. It might take some time because the number of classifiers to train is large."
   ]
  },
  {
   "cell_type": "code",
   "execution_count": 65,
   "metadata": {
    "collapsed": true,
    "executionInfo": {
     "elapsed": 158749,
     "status": "ok",
     "timestamp": 1616332968873,
     "user": {
      "displayName": "SURJEET DHARSAN A S",
      "photoUrl": "",
      "userId": "05909804033538903331"
     },
     "user_tz": -330
    },
    "id": "xYxLJ_BEYngd"
   },
   "outputs": [],
   "source": [
    "'''\n",
    "Fitting the classifier, making predictions and printing:\n",
    "1. Accuracy score \n",
    "2. F1 score \n",
    "3. Average precision score \n",
    "4. Average recall score\n",
    "'''\n",
    "# One-vs-Rest approach is used which is implemented in OneVsRestClassifier class. In this approach, k classifiers (= number of tags) are trained.\n",
    "from sklearn.multiclass import OneVsRestClassifier\n",
    "from sklearn.linear_model import LogisticRegression"
   ]
  },
  {
   "cell_type": "code",
   "execution_count": 66,
   "metadata": {
    "colab": {
     "base_uri": "https://localhost:8080/"
    },
    "executionInfo": {
     "elapsed": 860511,
     "status": "ok",
     "timestamp": 1616339263277,
     "user": {
      "displayName": "SURJEET DHARSAN A S",
      "photoUrl": "",
      "userId": "05909804033538903331"
     },
     "user_tz": -330
    },
    "id": "ZTGPv3gfWxym",
    "outputId": "0fc97c03-f4d1-4f7b-98da-102475babdaf"
   },
   "outputs": [
    {
     "data": {
      "text/plain": [
       "OneVsRestClassifier(estimator=LogisticRegression(C=1.0, class_weight=None,\n",
       "                                                 dual=False, fit_intercept=True,\n",
       "                                                 intercept_scaling=1,\n",
       "                                                 l1_ratio=None, max_iter=100,\n",
       "                                                 multi_class='auto',\n",
       "                                                 n_jobs=None, penalty='l2',\n",
       "                                                 random_state=None,\n",
       "                                                 solver='lbfgs', tol=0.0001,\n",
       "                                                 verbose=0, warm_start=False),\n",
       "                    n_jobs=None)"
      ]
     },
     "execution_count": 66,
     "metadata": {
      "tags": []
     },
     "output_type": "execute_result"
    }
   ],
   "source": [
    "model=LogisticRegression(solver='lbfgs', max_iter=100)\n",
    "model=OneVsRestClassifier(model)\n",
    "model.fit(X_train_ct,y_train)"
   ]
  },
  {
   "cell_type": "code",
   "execution_count": 67,
   "metadata": {
    "collapsed": true,
    "executionInfo": {
     "elapsed": 2167,
     "status": "ok",
     "timestamp": 1616339265418,
     "user": {
      "displayName": "SURJEET DHARSAN A S",
      "photoUrl": "",
      "userId": "05909804033538903331"
     },
     "user_tz": -330
    },
    "id": "1rqDgUW3cJdG"
   },
   "outputs": [],
   "source": [
    "Ypred=model.predict(X_test_ct)"
   ]
  },
  {
   "cell_type": "code",
   "execution_count": 68,
   "metadata": {
    "colab": {
     "base_uri": "https://localhost:8080/"
    },
    "executionInfo": {
     "elapsed": 83,
     "status": "ok",
     "timestamp": 1616339265437,
     "user": {
      "displayName": "SURJEET DHARSAN A S",
      "photoUrl": "",
      "userId": "05909804033538903331"
     },
     "user_tz": -330
    },
    "id": "3AZa6x6NcL_T",
    "outputId": "59c24cc6-0756-460c-913a-09b4f95ed2a9"
   },
   "outputs": [
    {
     "data": {
      "text/plain": [
       "array([[0, 0, 0, ..., 0, 0, 0],\n",
       "       [0, 0, 0, ..., 1, 0, 0],\n",
       "       [0, 0, 0, ..., 1, 0, 0],\n",
       "       ...,\n",
       "       [0, 0, 0, ..., 0, 0, 1],\n",
       "       [0, 0, 0, ..., 0, 0, 1],\n",
       "       [0, 0, 0, ..., 0, 0, 1]])"
      ]
     },
     "execution_count": 68,
     "metadata": {
      "tags": []
     },
     "output_type": "execute_result"
    }
   ],
   "source": [
    "Ypred"
   ]
  },
  {
   "cell_type": "code",
   "execution_count": 69,
   "metadata": {
    "colab": {
     "base_uri": "https://localhost:8080/"
    },
    "executionInfo": {
     "elapsed": 64,
     "status": "ok",
     "timestamp": 1616339265438,
     "user": {
      "displayName": "SURJEET DHARSAN A S",
      "photoUrl": "",
      "userId": "05909804033538903331"
     },
     "user_tz": -330
    },
    "id": "An0loqBxcMxg",
    "outputId": "94cb2316-ef1f-410c-aa93-4ff18ea786c6"
   },
   "outputs": [
    {
     "data": {
      "text/plain": [
       "array([[0, 0, 0, ..., 0, 0, 1],\n",
       "       [0, 0, 0, ..., 0, 0, 1],\n",
       "       [0, 0, 0, ..., 0, 1, 1],\n",
       "       ...,\n",
       "       [0, 0, 0, ..., 1, 0, 0],\n",
       "       [0, 0, 0, ..., 0, 0, 1],\n",
       "       [0, 0, 0, ..., 0, 1, 1]])"
      ]
     },
     "execution_count": 69,
     "metadata": {
      "tags": []
     },
     "output_type": "execute_result"
    }
   ],
   "source": [
    "y_test"
   ]
  },
  {
   "cell_type": "markdown",
   "metadata": {
    "id": "KdROxMIKeXv7"
   },
   "source": [
    "### **1.4. Displaying the classification report**\n",
    "In Micro-average method: the individual true positives, false positives, and false negatives of the system for different sets are summed up and the applied to get the statistics.\n",
    "\n",
    "In Macro-average Method : the average of the precision and recall of the system on different sets are taken"
   ]
  },
  {
   "cell_type": "code",
   "execution_count": 70,
   "metadata": {
    "collapsed": true,
    "executionInfo": {
     "elapsed": 54,
     "status": "ok",
     "timestamp": 1616339265439,
     "user": {
      "displayName": "SURJEET DHARSAN A S",
      "photoUrl": "",
      "userId": "05909804033538903331"
     },
     "user_tz": -330
    },
    "id": "QJ3375YefAes"
   },
   "outputs": [],
   "source": [
    "from sklearn.metrics import accuracy_score\n",
    "from sklearn.metrics import f1_score\n",
    "from sklearn.metrics import average_precision_score\n",
    "from sklearn.metrics import recall_score\n",
    "\n",
    "def display_metrics_micro(Ytest, Ypred):\n",
    "    print('Accuracy score: ', accuracy_score(Ytest, Ypred))\n",
    "    print('F1 score: Micro', f1_score(Ytest, Ypred, average='micro'))\n",
    "    print('Average precision score: Micro', average_precision_score(Ytest, Ypred, average='micro'))\n",
    "    print('Average recall score: Micro', recall_score(Ytest, Ypred, average='micro'))"
   ]
  },
  {
   "cell_type": "code",
   "execution_count": 71,
   "metadata": {
    "collapsed": true,
    "executionInfo": {
     "elapsed": 39,
     "status": "ok",
     "timestamp": 1616339265439,
     "user": {
      "displayName": "SURJEET DHARSAN A S",
      "photoUrl": "",
      "userId": "05909804033538903331"
     },
     "user_tz": -330
    },
    "id": "GQ6jfRQBfINu"
   },
   "outputs": [],
   "source": [
    "def display_metrics_macro(Ytest, Ypred):\n",
    "    print('Accuracy score: ', accuracy_score(Ytest, Ypred))\n",
    "    print('F1 score: Macro', f1_score(Ytest, Ypred, average='macro'))\n",
    "    print('Average recall score: MAcro', recall_score(Ytest, Ypred, average='macro'))\n",
    "    \n",
    "def display_metrics_weighted(Ytest, Ypred):\n",
    "    print('Accuracy score: ', accuracy_score(Ytest, Ypred))\n",
    "    print('F1 score: weighted', f1_score(Ytest, Ypred, average='weighted'))\n",
    "    print('Average precision score: weighted', average_precision_score(Ytest, Ypred, average='weighted'))\n",
    "    print('Average recall score: weighted', recall_score(Ytest, Ypred, average='weighted'))"
   ]
  },
  {
   "cell_type": "code",
   "execution_count": 72,
   "metadata": {
    "colab": {
     "base_uri": "https://localhost:8080/"
    },
    "executionInfo": {
     "elapsed": 1119,
     "status": "ok",
     "timestamp": 1616339266530,
     "user": {
      "displayName": "SURJEET DHARSAN A S",
      "photoUrl": "",
      "userId": "05909804033538903331"
     },
     "user_tz": -330
    },
    "id": "g6_dusThfJbz",
    "outputId": "9023385d-6e46-4dbe-8f6a-6cf6f8d5ee14"
   },
   "outputs": [
    {
     "name": "stdout",
     "output_type": "stream",
     "text": [
      "Accuracy score:  0.1085\n",
      "F1 score: Micro 0.4772290809327846\n",
      "Average precision score: Micro 0.28872102074235806\n",
      "Average recall score: Micro 0.3479\n"
     ]
    }
   ],
   "source": [
    "display_metrics_micro(y_test,Ypred)"
   ]
  },
  {
   "cell_type": "code",
   "execution_count": 73,
   "metadata": {
    "colab": {
     "base_uri": "https://localhost:8080/"
    },
    "executionInfo": {
     "elapsed": 564,
     "status": "ok",
     "timestamp": 1616339267082,
     "user": {
      "displayName": "SURJEET DHARSAN A S",
      "photoUrl": "",
      "userId": "05909804033538903331"
     },
     "user_tz": -330
    },
    "id": "aMOp5vDqfL8z",
    "outputId": "473271cc-42ae-4382-886a-60f156d48664"
   },
   "outputs": [
    {
     "name": "stdout",
     "output_type": "stream",
     "text": [
      "Accuracy score:  0.1085\n",
      "F1 score: Macro 0.15645343614049567\n",
      "Average recall score: MAcro 0.10385235689453302\n"
     ]
    }
   ],
   "source": [
    "display_metrics_macro(y_test,Ypred)"
   ]
  },
  {
   "cell_type": "code",
   "execution_count": 74,
   "metadata": {
    "colab": {
     "base_uri": "https://localhost:8080/"
    },
    "executionInfo": {
     "elapsed": 1316,
     "status": "ok",
     "timestamp": 1616339268377,
     "user": {
      "displayName": "SURJEET DHARSAN A S",
      "photoUrl": "",
      "userId": "05909804033538903331"
     },
     "user_tz": -330
    },
    "id": "jjhI2PVhfOuV",
    "outputId": "b88c436e-c12c-4a94-af45-4963e15bc03e"
   },
   "outputs": [
    {
     "name": "stdout",
     "output_type": "stream",
     "text": [
      "Accuracy score:  0.1085\n",
      "F1 score: weighted 0.43623221118939215\n",
      "Average precision score: weighted 0.3895466577910168\n",
      "Average recall score: weighted 0.3479\n"
     ]
    }
   ],
   "source": [
    "display_metrics_weighted(y_test,Ypred)"
   ]
  },
  {
   "cell_type": "markdown",
   "metadata": {
    "id": "xzCHLHNxffiz"
   },
   "source": [
    "### **1.5 Printing the true vs predicted labels for any 5 entries from the dataset**"
   ]
  },
  {
   "cell_type": "code",
   "execution_count": 75,
   "metadata": {
    "collapsed": true,
    "executionInfo": {
     "elapsed": 53,
     "status": "ok",
     "timestamp": 1616339268378,
     "user": {
      "displayName": "SURJEET DHARSAN A S",
      "photoUrl": "",
      "userId": "05909804033538903331"
     },
     "user_tz": -330
    },
    "id": "glV_fhAffSEU"
   },
   "outputs": [],
   "source": [
    "preds = Ypred[:15]\n",
    "actuals = y_test[:15]"
   ]
  },
  {
   "cell_type": "code",
   "execution_count": 76,
   "metadata": {
    "colab": {
     "base_uri": "https://localhost:8080/"
    },
    "executionInfo": {
     "elapsed": 44,
     "status": "ok",
     "timestamp": 1616339268380,
     "user": {
      "displayName": "SURJEET DHARSAN A S",
      "photoUrl": "",
      "userId": "05909804033538903331"
     },
     "user_tz": -330
    },
    "id": "631jeg89frNj",
    "outputId": "27ec96c1-4c81-4869-8c56-82505da8db3e"
   },
   "outputs": [
    {
     "data": {
      "text/plain": [
       "[('Aries', 'Fashion', 'male'),\n",
       " ('Libra', 'Student', 'male'),\n",
       " ('Sagittarius', 'indUnk', 'male'),\n",
       " ('Aquarius', 'indUnk', 'male'),\n",
       " ('Cancer', 'Student', 'male'),\n",
       " ('Pisces', 'Transportation', 'male'),\n",
       " ('Arts', 'Capricorn', 'female'),\n",
       " ('Capricorn', 'Student', 'male'),\n",
       " ('Cancer', 'Religion', 'male'),\n",
       " ('Libra', 'indUnk', 'male'),\n",
       " ('Aquarius', 'female', 'indUnk'),\n",
       " ('Capricorn', 'Consulting', 'female'),\n",
       " ('Virgo', 'indUnk', 'male'),\n",
       " ('Internet', 'Sagittarius', 'male'),\n",
       " ('Scorpio', 'Technology', 'male')]"
      ]
     },
     "execution_count": 76,
     "metadata": {
      "tags": []
     },
     "output_type": "execute_result"
    }
   ],
   "source": [
    "five_actual = binarizer.inverse_transform(actuals)\n",
    "five_actual"
   ]
  },
  {
   "cell_type": "code",
   "execution_count": 77,
   "metadata": {
    "colab": {
     "base_uri": "https://localhost:8080/"
    },
    "executionInfo": {
     "elapsed": 33,
     "status": "ok",
     "timestamp": 1616339268380,
     "user": {
      "displayName": "SURJEET DHARSAN A S",
      "photoUrl": "",
      "userId": "05909804033538903331"
     },
     "user_tz": -330
    },
    "id": "XAEu7axxfyWP",
    "outputId": "d391d321-4de4-463d-e274-023c1ae039e7"
   },
   "outputs": [
    {
     "data": {
      "text/plain": [
       "[(),\n",
       " ('Student', 'female'),\n",
       " ('female',),\n",
       " ('male',),\n",
       " ('Cancer', 'female'),\n",
       " ('Pisces', 'Transportation', 'male'),\n",
       " ('female',),\n",
       " ('Student',),\n",
       " ('Religion', 'female'),\n",
       " ('male',),\n",
       " ('female',),\n",
       " ('Consulting', 'female'),\n",
       " ('female',),\n",
       " ('male',),\n",
       " ('Scorpio', 'male')]"
      ]
     },
     "execution_count": 77,
     "metadata": {
      "tags": []
     },
     "output_type": "execute_result"
    }
   ],
   "source": [
    "five_pred = binarizer.inverse_transform(preds)\n",
    "five_pred"
   ]
  },
  {
   "cell_type": "code",
   "execution_count": 78,
   "metadata": {
    "colab": {
     "base_uri": "https://localhost:8080/"
    },
    "executionInfo": {
     "elapsed": 1329,
     "status": "ok",
     "timestamp": 1616339269684,
     "user": {
      "displayName": "SURJEET DHARSAN A S",
      "photoUrl": "",
      "userId": "05909804033538903331"
     },
     "user_tz": -330
    },
    "id": "veJBJkHCgBWa",
    "outputId": "e39bc109-ad3f-4c2c-d212-743c67e84c4f"
   },
   "outputs": [
    {
     "name": "stdout",
     "output_type": "stream",
     "text": [
      "('Student', 'Virgo', 'male')\n",
      "('Student', 'Virgo', 'male')\n"
     ]
    }
   ],
   "source": [
    "print(binarizer.inverse_transform(Ypred)[776])\n",
    "print(binarizer.inverse_transform(y_test)[776])"
   ]
  },
  {
   "cell_type": "code",
   "execution_count": 79,
   "metadata": {
    "colab": {
     "base_uri": "https://localhost:8080/"
    },
    "executionInfo": {
     "elapsed": 80,
     "status": "ok",
     "timestamp": 1616339269686,
     "user": {
      "displayName": "SURJEET DHARSAN A S",
      "photoUrl": "",
      "userId": "05909804033538903331"
     },
     "user_tz": -330
    },
    "id": "jZR-quTtgC9c",
    "outputId": "8de26b52-cf93-41cc-a9c2-ece7b5d4fbe1"
   },
   "outputs": [
    {
     "name": "stdout",
     "output_type": "stream",
     "text": [
      "()\n",
      "('Libra', 'female', 'indUnk')\n"
     ]
    }
   ],
   "source": [
    "print(binarizer.inverse_transform(Ypred)[444])\n",
    "print(binarizer.inverse_transform(y_test)[444])"
   ]
  },
  {
   "cell_type": "code",
   "execution_count": 80,
   "metadata": {
    "colab": {
     "base_uri": "https://localhost:8080/"
    },
    "executionInfo": {
     "elapsed": 69,
     "status": "ok",
     "timestamp": 1616339269686,
     "user": {
      "displayName": "SURJEET DHARSAN A S",
      "photoUrl": "",
      "userId": "05909804033538903331"
     },
     "user_tz": -330
    },
    "id": "tX1IEXaIgFtE",
    "outputId": "a1548f84-4c51-40f4-ced2-29c741ed690d"
   },
   "outputs": [
    {
     "name": "stdout",
     "output_type": "stream",
     "text": [
      "('Cancer', 'Education', 'Pisces', 'male')\n",
      "('Education', 'Pisces', 'male')\n"
     ]
    }
   ],
   "source": [
    "print(binarizer.inverse_transform(Ypred)[199])\n",
    "print(binarizer.inverse_transform(y_test)[199])"
   ]
  },
  {
   "cell_type": "code",
   "execution_count": 87,
   "metadata": {
    "colab": {
     "base_uri": "https://localhost:8080/"
    },
    "executionInfo": {
     "elapsed": 848,
     "status": "ok",
     "timestamp": 1616346221371,
     "user": {
      "displayName": "SURJEET DHARSAN A S",
      "photoUrl": "",
      "userId": "05909804033538903331"
     },
     "user_tz": -330
    },
    "id": "fDQWiUhVgIwZ",
    "outputId": "995d0eec-c830-43b5-b984-889ea2ab0420"
   },
   "outputs": [
    {
     "name": "stdout",
     "output_type": "stream",
     "text": [
      "('Aries', 'Communications-Media', 'male')\n",
      "('Aries', 'Communications-Media', 'male')\n"
     ]
    }
   ],
   "source": [
    "print(binarizer.inverse_transform(Ypred)[299])\n",
    "print(binarizer.inverse_transform(y_test)[299])"
   ]
  },
  {
   "cell_type": "code",
   "execution_count": 88,
   "metadata": {
    "colab": {
     "base_uri": "https://localhost:8080/"
    },
    "executionInfo": {
     "elapsed": 1731,
     "status": "ok",
     "timestamp": 1616346222288,
     "user": {
      "displayName": "SURJEET DHARSAN A S",
      "photoUrl": "",
      "userId": "05909804033538903331"
     },
     "user_tz": -330
    },
    "id": "mt0OMONKgMPn",
    "outputId": "42608a72-fa0d-48b9-815a-a0105460bdb7"
   },
   "outputs": [
    {
     "name": "stdout",
     "output_type": "stream",
     "text": [
      "('indUnk', 'male')\n",
      "('Virgo', 'female', 'indUnk')\n"
     ]
    }
   ],
   "source": [
    "print(binarizer.inverse_transform(Ypred)[349])\n",
    "print(binarizer.inverse_transform(y_test)[349])"
   ]
  },
  {
   "cell_type": "markdown",
   "metadata": {
    "id": "saqank6qg7ZN"
   },
   "source": [
    "**Conclusion:**\n",
    "\n",
    "1. Multilabel classification problem that predicts multiple features of the author of a given text has been solved\n",
    "2. The data from given dataset has been loaded and basic EDA has been performed\n",
    "3. Data Preprocessing - removing the unnecessary characters, removing the spaces, converting words to lower case, removing the stop words, vectorizing the features - have been done\n",
    "4. Designed, trained and tested with the best text classifier - Logistic Regression and the predictions are made and also the accuracy, f1 score, Avg precision and recall scores are calculated\n",
    "6. The true vs predicted labels for any 5 entries from the dataset have been printed"
   ]
  },
  {
   "cell_type": "markdown",
   "metadata": {
    "id": "d-lzOs3Ihose"
   },
   "source": [
    "## **PART-2 - Objective:**\n",
    "The objective is to design a python based interactive semi - rule based chatbot"
   ]
  },
  {
   "cell_type": "markdown",
   "metadata": {},
   "source": [
    "Below code is executed in Jupyter Notebook separately as tkinter package cannot be executed in Google colab. The output screen shot is attached in the word file uploaded"
   ]
  },
  {
   "cell_type": "markdown",
   "metadata": {},
   "source": [
    "### 2.1 Installing tkintertable and importing needed packages"
   ]
  },
  {
   "cell_type": "code",
   "execution_count": 1,
   "metadata": {},
   "outputs": [
    {
     "name": "stdout",
     "output_type": "stream",
     "text": [
      "Requirement already satisfied: tkintertable in d:\\anaconda\\envs\\tf\\lib\\site-packages (1.3.2)\n",
      "Requirement already satisfied: future in d:\\anaconda\\envs\\tf\\lib\\site-packages (from tkintertable) (0.18.2)\n"
     ]
    }
   ],
   "source": [
    "!pip install tkintertable"
   ]
  },
  {
   "cell_type": "code",
   "execution_count": 2,
   "metadata": {},
   "outputs": [],
   "source": [
    "import tkinter as tk\n",
    "from tkinter import filedialog\n",
    "from tkinter import *\n",
    "import numpy"
   ]
  },
  {
   "cell_type": "markdown",
   "metadata": {},
   "source": [
    "### 2.2 Creating Chatbot model using given JSON file"
   ]
  },
  {
   "cell_type": "code",
   "execution_count": 3,
   "metadata": {},
   "outputs": [
    {
     "name": "stdout",
     "output_type": "stream",
     "text": [
      "Requirement already satisfied: nltk in d:\\anaconda\\envs\\tf\\lib\\site-packages (3.5)\n",
      "Requirement already satisfied: click in d:\\anaconda\\envs\\tf\\lib\\site-packages (from nltk) (7.1.2)\n",
      "Requirement already satisfied: tqdm in d:\\anaconda\\envs\\tf\\lib\\site-packages (from nltk) (4.59.0)\n",
      "Requirement already satisfied: regex in d:\\anaconda\\envs\\tf\\lib\\site-packages (from nltk) (2021.3.17)\n",
      "Requirement already satisfied: joblib in d:\\anaconda\\envs\\tf\\lib\\site-packages (from nltk) (1.0.1)\n"
     ]
    },
    {
     "name": "stderr",
     "output_type": "stream",
     "text": [
      "[nltk_data] Downloading package punkt to\n",
      "[nltk_data]     C:\\Users\\ashok.s\\AppData\\Roaming\\nltk_data...\n",
      "[nltk_data]   Package punkt is already up-to-date!\n",
      "[nltk_data] Downloading package wordnet to\n",
      "[nltk_data]     C:\\Users\\ashok.s\\AppData\\Roaming\\nltk_data...\n",
      "[nltk_data]   Package wordnet is already up-to-date!\n"
     ]
    },
    {
     "name": "stdout",
     "output_type": "stream",
     "text": [
      "128 documents\n",
      "8 classes ['Bot', 'Exit', 'Intro', 'NN', 'Olympus', 'Profane', 'SL', 'Ticket']\n",
      "158 unique lemmatized words ['a', 'able', 'access', 'activation', 'ada', 'adam', 'aifl', 'aiml', 'am', 'an', 'ann', 'anyone', 'are', 'artificial', 'backward', 'bad', 'bagging', 'batch', 'bayes', 'belong', 'best', 'blended', 'bloody', 'boosting', 'bot', 'buddy', 'classification', 'contact', 'create', 'cross', 'cya', 'day', 'deep', 'did', 'diffult', 'do', 'ensemble', 'epoch', 'explain', 'first', 'for', 'forest', 'forward', 'from', 'function', 'good', 'goodbye', 'gradient', 'great', 'hate', 'have', 'hell', 'hello', 'help', 'helped', 'hey', 'hi', 'hidden', 'hour', 'how', 'hyper', 'i', 'imputer', 'in', 'intelligence', 'is', 'jerk', 'joke', 'knn', 'later', 'layer', 'learner', 'learning', 'leaving', 'link', 'listen', 'logistic', 'lot', 'machine', 'me', 'ml', 'my', 'naive', 'name', 'nb', 'net', 'network', 'neural', 'no', 'not', 'of', 'olympus', 'olypus', 'on', 'online', 'operation', 'opertions', 'otimizer', 'parameter', 'piece', 'please', 'pm', 'problem', 'propagation', 'random', 'regression', 'relu', 'screw', 'see', 'sgd', 'shit', 'sigmoid', 'sl', 'smart', 'softmax', 'solution', 'solved', 'stupid', 'supervised', 'svm', 'talking', 'teach', 'techb=niques', 'technique', 'thank', 'thanks', 'the', 'there', 'think', 'ticket', 'time', 'to', 'ton', 'too', 'tool', 'unable', 'understand', 'up', 'use', 'useless', 'validation', 'very', 'visible', 'wasted', 'weight', 'what', 'whats', 'when', 'who', 'whom', 'window', 'with', 'work', 'working', 'ya', 'yo', 'you', 'your']\n",
      "Training data created\n"
     ]
    },
    {
     "name": "stderr",
     "output_type": "stream",
     "text": [
      "<ipython-input-3-915f817aa042>:73: VisibleDeprecationWarning: Creating an ndarray from ragged nested sequences (which is a list-or-tuple of lists-or-tuples-or ndarrays with different lengths or shapes) is deprecated. If you meant to do this, you must specify 'dtype=object' when creating the ndarray\n",
      "  training = np.array(training)\n"
     ]
    },
    {
     "name": "stdout",
     "output_type": "stream",
     "text": [
      "Epoch 1/200\n",
      "26/26 [==============================] - 0s 1ms/step - loss: 2.0996 - accuracy: 0.1328\n",
      "Epoch 2/200\n",
      "26/26 [==============================] - 0s 3ms/step - loss: 1.9057 - accuracy: 0.2969\n",
      "Epoch 3/200\n",
      "26/26 [==============================] - 0s 2ms/step - loss: 1.8524 - accuracy: 0.2422\n",
      "Epoch 4/200\n",
      "26/26 [==============================] - 0s 2ms/step - loss: 1.7650 - accuracy: 0.3281\n",
      "Epoch 5/200\n",
      "26/26 [==============================] - 0s 2ms/step - loss: 1.6874 - accuracy: 0.3516\n",
      "Epoch 6/200\n",
      "26/26 [==============================] - 0s 2ms/step - loss: 1.4986 - accuracy: 0.5156\n",
      "Epoch 7/200\n",
      "26/26 [==============================] - 0s 2ms/step - loss: 1.4634 - accuracy: 0.4922\n",
      "Epoch 8/200\n",
      "26/26 [==============================] - 0s 2ms/step - loss: 1.3359 - accuracy: 0.5391\n",
      "Epoch 9/200\n",
      "26/26 [==============================] - 0s 2ms/step - loss: 1.1892 - accuracy: 0.5781\n",
      "Epoch 10/200\n",
      "26/26 [==============================] - 0s 2ms/step - loss: 0.9846 - accuracy: 0.6797\n",
      "Epoch 11/200\n",
      "26/26 [==============================] - 0s 2ms/step - loss: 0.9563 - accuracy: 0.6953\n",
      "Epoch 12/200\n",
      "26/26 [==============================] - 0s 2ms/step - loss: 0.8645 - accuracy: 0.7188\n",
      "Epoch 13/200\n",
      "26/26 [==============================] - 0s 2ms/step - loss: 0.6855 - accuracy: 0.7969\n",
      "Epoch 14/200\n",
      "26/26 [==============================] - 0s 2ms/step - loss: 0.7674 - accuracy: 0.7500\n",
      "Epoch 15/200\n",
      "26/26 [==============================] - 0s 2ms/step - loss: 0.5733 - accuracy: 0.8125\n",
      "Epoch 16/200\n",
      "26/26 [==============================] - 0s 2ms/step - loss: 0.5572 - accuracy: 0.8281\n",
      "Epoch 17/200\n",
      "26/26 [==============================] - 0s 2ms/step - loss: 0.5487 - accuracy: 0.8203\n",
      "Epoch 18/200\n",
      "26/26 [==============================] - 0s 2ms/step - loss: 0.4145 - accuracy: 0.8750\n",
      "Epoch 19/200\n",
      "26/26 [==============================] - 0s 2ms/step - loss: 0.4092 - accuracy: 0.8672\n",
      "Epoch 20/200\n",
      "26/26 [==============================] - 0s 2ms/step - loss: 0.3364 - accuracy: 0.9062\n",
      "Epoch 21/200\n",
      "26/26 [==============================] - 0s 2ms/step - loss: 0.2897 - accuracy: 0.9297\n",
      "Epoch 22/200\n",
      "26/26 [==============================] - 0s 1ms/step - loss: 0.2744 - accuracy: 0.9453\n",
      "Epoch 23/200\n",
      "26/26 [==============================] - 0s 2ms/step - loss: 0.2929 - accuracy: 0.8906\n",
      "Epoch 24/200\n",
      "26/26 [==============================] - 0s 2ms/step - loss: 0.3214 - accuracy: 0.9297\n",
      "Epoch 25/200\n",
      "26/26 [==============================] - 0s 2ms/step - loss: 0.2281 - accuracy: 0.9297\n",
      "Epoch 26/200\n",
      "26/26 [==============================] - 0s 2ms/step - loss: 0.2153 - accuracy: 0.9375\n",
      "Epoch 27/200\n",
      "26/26 [==============================] - 0s 2ms/step - loss: 0.1672 - accuracy: 0.9609\n",
      "Epoch 28/200\n",
      "26/26 [==============================] - 0s 3ms/step - loss: 0.2147 - accuracy: 0.9375\n",
      "Epoch 29/200\n",
      "26/26 [==============================] - 0s 2ms/step - loss: 0.2008 - accuracy: 0.9375\n",
      "Epoch 30/200\n",
      "26/26 [==============================] - 0s 1ms/step - loss: 0.1715 - accuracy: 0.9531\n",
      "Epoch 31/200\n",
      "26/26 [==============================] - 0s 2ms/step - loss: 0.1269 - accuracy: 0.9766\n",
      "Epoch 32/200\n",
      "26/26 [==============================] - 0s 2ms/step - loss: 0.1222 - accuracy: 0.9609\n",
      "Epoch 33/200\n",
      "26/26 [==============================] - 0s 2ms/step - loss: 0.1300 - accuracy: 0.9766\n",
      "Epoch 34/200\n",
      "26/26 [==============================] - 0s 2ms/step - loss: 0.1259 - accuracy: 0.9609\n",
      "Epoch 35/200\n",
      "26/26 [==============================] - 0s 2ms/step - loss: 0.1219 - accuracy: 0.9609\n",
      "Epoch 36/200\n",
      "26/26 [==============================] - 0s 2ms/step - loss: 0.1414 - accuracy: 0.9453\n",
      "Epoch 37/200\n",
      "26/26 [==============================] - 0s 2ms/step - loss: 0.1320 - accuracy: 0.9688\n",
      "Epoch 38/200\n",
      "26/26 [==============================] - 0s 886us/step - loss: 0.1032 - accuracy: 0.9688\n",
      "Epoch 39/200\n",
      "26/26 [==============================] - 0s 882us/step - loss: 0.1195 - accuracy: 0.9609\n",
      "Epoch 40/200\n",
      "26/26 [==============================] - 0s 873us/step - loss: 0.1178 - accuracy: 0.9688\n",
      "Epoch 41/200\n",
      "26/26 [==============================] - 0s 951us/step - loss: 0.0615 - accuracy: 0.9844\n",
      "Epoch 42/200\n",
      "26/26 [==============================] - 0s 1ms/step - loss: 0.0740 - accuracy: 0.9766\n",
      "Epoch 43/200\n",
      "26/26 [==============================] - 0s 869us/step - loss: 0.0608 - accuracy: 0.9844\n",
      "Epoch 44/200\n",
      "26/26 [==============================] - 0s 1ms/step - loss: 0.0677 - accuracy: 0.9766\n",
      "Epoch 45/200\n",
      "26/26 [==============================] - 0s 2ms/step - loss: 0.0339 - accuracy: 1.0000\n",
      "Epoch 46/200\n",
      "26/26 [==============================] - 0s 1ms/step - loss: 0.0898 - accuracy: 0.9766\n",
      "Epoch 47/200\n",
      "26/26 [==============================] - 0s 2ms/step - loss: 0.0931 - accuracy: 0.9922\n",
      "Epoch 48/200\n",
      "26/26 [==============================] - 0s 2ms/step - loss: 0.0490 - accuracy: 0.9922\n",
      "Epoch 49/200\n",
      "26/26 [==============================] - 0s 2ms/step - loss: 0.1143 - accuracy: 0.9609\n",
      "Epoch 50/200\n",
      "26/26 [==============================] - 0s 2ms/step - loss: 0.0777 - accuracy: 0.9844\n",
      "Epoch 51/200\n",
      "26/26 [==============================] - 0s 2ms/step - loss: 0.0561 - accuracy: 1.0000\n",
      "Epoch 52/200\n",
      "26/26 [==============================] - 0s 2ms/step - loss: 0.0563 - accuracy: 0.9844\n",
      "Epoch 53/200\n",
      "26/26 [==============================] - 0s 2ms/step - loss: 0.1067 - accuracy: 0.9766\n",
      "Epoch 54/200\n",
      "26/26 [==============================] - 0s 1ms/step - loss: 0.1780 - accuracy: 0.9609\n",
      "Epoch 55/200\n",
      "26/26 [==============================] - 0s 2ms/step - loss: 0.1145 - accuracy: 0.9531\n",
      "Epoch 56/200\n",
      "26/26 [==============================] - 0s 2ms/step - loss: 0.0804 - accuracy: 0.9766\n",
      "Epoch 57/200\n",
      "26/26 [==============================] - 0s 2ms/step - loss: 0.0777 - accuracy: 0.9766\n",
      "Epoch 58/200\n",
      "26/26 [==============================] - 0s 2ms/step - loss: 0.0540 - accuracy: 0.9922\n",
      "Epoch 59/200\n",
      "26/26 [==============================] - 0s 2ms/step - loss: 0.0330 - accuracy: 0.9922\n",
      "Epoch 60/200\n",
      "26/26 [==============================] - 0s 2ms/step - loss: 0.0349 - accuracy: 0.9922\n",
      "Epoch 61/200\n",
      "26/26 [==============================] - 0s 2ms/step - loss: 0.0421 - accuracy: 1.0000\n",
      "Epoch 62/200\n",
      "26/26 [==============================] - 0s 2ms/step - loss: 0.0428 - accuracy: 0.9844\n",
      "Epoch 63/200\n",
      "26/26 [==============================] - 0s 2ms/step - loss: 0.0452 - accuracy: 0.9922\n",
      "Epoch 64/200\n",
      "26/26 [==============================] - 0s 1ms/step - loss: 0.0357 - accuracy: 1.0000\n",
      "Epoch 65/200\n",
      "26/26 [==============================] - 0s 2ms/step - loss: 0.0480 - accuracy: 0.9922\n",
      "Epoch 66/200\n",
      "26/26 [==============================] - 0s 1ms/step - loss: 0.0353 - accuracy: 0.9922\n",
      "Epoch 67/200\n",
      "26/26 [==============================] - 0s 1ms/step - loss: 0.0397 - accuracy: 0.9922\n",
      "Epoch 68/200\n",
      "26/26 [==============================] - 0s 2ms/step - loss: 0.0279 - accuracy: 1.0000\n",
      "Epoch 69/200\n",
      "26/26 [==============================] - 0s 2ms/step - loss: 0.0300 - accuracy: 0.9922\n",
      "Epoch 70/200\n",
      "26/26 [==============================] - 0s 1ms/step - loss: 0.0327 - accuracy: 1.0000\n",
      "Epoch 71/200\n",
      "26/26 [==============================] - 0s 2ms/step - loss: 0.0254 - accuracy: 1.0000\n",
      "Epoch 72/200\n",
      "26/26 [==============================] - 0s 2ms/step - loss: 0.0384 - accuracy: 0.9844\n",
      "Epoch 73/200\n",
      "26/26 [==============================] - 0s 1ms/step - loss: 0.0291 - accuracy: 0.9922\n",
      "Epoch 74/200\n",
      "26/26 [==============================] - 0s 2ms/step - loss: 0.0296 - accuracy: 0.9922\n",
      "Epoch 75/200\n",
      "26/26 [==============================] - 0s 2ms/step - loss: 0.0525 - accuracy: 0.9922\n",
      "Epoch 76/200\n",
      "26/26 [==============================] - 0s 1ms/step - loss: 0.0402 - accuracy: 0.9844\n",
      "Epoch 77/200\n",
      "26/26 [==============================] - 0s 2ms/step - loss: 0.0503 - accuracy: 0.9766\n",
      "Epoch 78/200\n",
      "26/26 [==============================] - 0s 2ms/step - loss: 0.0285 - accuracy: 0.9922\n",
      "Epoch 79/200\n",
      "26/26 [==============================] - 0s 1ms/step - loss: 0.0511 - accuracy: 0.9844\n",
      "Epoch 80/200\n",
      "26/26 [==============================] - 0s 1ms/step - loss: 0.0355 - accuracy: 0.9922\n",
      "Epoch 81/200\n",
      "26/26 [==============================] - 0s 2ms/step - loss: 0.0460 - accuracy: 0.9844\n",
      "Epoch 82/200\n"
     ]
    },
    {
     "name": "stdout",
     "output_type": "stream",
     "text": [
      "26/26 [==============================] - 0s 2ms/step - loss: 0.0388 - accuracy: 0.9922\n",
      "Epoch 83/200\n",
      "26/26 [==============================] - 0s 1ms/step - loss: 0.0227 - accuracy: 1.0000\n",
      "Epoch 84/200\n",
      "26/26 [==============================] - 0s 1ms/step - loss: 0.0196 - accuracy: 0.9922\n",
      "Epoch 85/200\n",
      "26/26 [==============================] - 0s 1ms/step - loss: 0.0332 - accuracy: 0.9922\n",
      "Epoch 86/200\n",
      "26/26 [==============================] - 0s 1ms/step - loss: 0.0273 - accuracy: 0.9922\n",
      "Epoch 87/200\n",
      "26/26 [==============================] - 0s 1ms/step - loss: 0.0269 - accuracy: 0.9922\n",
      "Epoch 88/200\n",
      "26/26 [==============================] - 0s 1ms/step - loss: 0.0343 - accuracy: 0.9922\n",
      "Epoch 89/200\n",
      "26/26 [==============================] - 0s 930us/step - loss: 0.0369 - accuracy: 0.9766\n",
      "Epoch 90/200\n",
      "26/26 [==============================] - 0s 1ms/step - loss: 0.0274 - accuracy: 1.0000\n",
      "Epoch 91/200\n",
      "26/26 [==============================] - 0s 1ms/step - loss: 0.0285 - accuracy: 0.9922\n",
      "Epoch 92/200\n",
      "26/26 [==============================] - 0s 1ms/step - loss: 0.0629 - accuracy: 0.9766\n",
      "Epoch 93/200\n",
      "26/26 [==============================] - 0s 1ms/step - loss: 0.0538 - accuracy: 0.9766\n",
      "Epoch 94/200\n",
      "26/26 [==============================] - 0s 1ms/step - loss: 0.0248 - accuracy: 1.0000\n",
      "Epoch 95/200\n",
      "26/26 [==============================] - 0s 1ms/step - loss: 0.0179 - accuracy: 0.9922\n",
      "Epoch 96/200\n",
      "26/26 [==============================] - 0s 2ms/step - loss: 0.0151 - accuracy: 1.0000\n",
      "Epoch 97/200\n",
      "26/26 [==============================] - 0s 1ms/step - loss: 0.0206 - accuracy: 1.0000\n",
      "Epoch 98/200\n",
      "26/26 [==============================] - 0s 1ms/step - loss: 0.0317 - accuracy: 0.9922\n",
      "Epoch 99/200\n",
      "26/26 [==============================] - 0s 825us/step - loss: 0.0290 - accuracy: 1.0000\n",
      "Epoch 100/200\n",
      "26/26 [==============================] - 0s 1ms/step - loss: 0.0220 - accuracy: 1.0000\n",
      "Epoch 101/200\n",
      "26/26 [==============================] - 0s 1ms/step - loss: 0.0283 - accuracy: 1.0000\n",
      "Epoch 102/200\n",
      "26/26 [==============================] - 0s 947us/step - loss: 0.0298 - accuracy: 0.9922\n",
      "Epoch 103/200\n",
      "26/26 [==============================] - 0s 1ms/step - loss: 0.0165 - accuracy: 1.0000\n",
      "Epoch 104/200\n",
      "26/26 [==============================] - 0s 863us/step - loss: 0.0452 - accuracy: 0.9844\n",
      "Epoch 105/200\n",
      "26/26 [==============================] - 0s 1ms/step - loss: 0.0130 - accuracy: 1.0000\n",
      "Epoch 106/200\n",
      "26/26 [==============================] - 0s 769us/step - loss: 0.0408 - accuracy: 0.9844\n",
      "Epoch 107/200\n",
      "26/26 [==============================] - 0s 1ms/step - loss: 0.0409 - accuracy: 0.9844\n",
      "Epoch 108/200\n",
      "26/26 [==============================] - 0s 1ms/step - loss: 0.0188 - accuracy: 1.0000\n",
      "Epoch 109/200\n",
      "26/26 [==============================] - 0s 2ms/step - loss: 0.0096 - accuracy: 1.0000\n",
      "Epoch 110/200\n",
      "26/26 [==============================] - 0s 1ms/step - loss: 0.0365 - accuracy: 0.9922\n",
      "Epoch 111/200\n",
      "26/26 [==============================] - 0s 895us/step - loss: 0.0559 - accuracy: 0.9844\n",
      "Epoch 112/200\n",
      "26/26 [==============================] - 0s 1ms/step - loss: 0.0137 - accuracy: 1.0000\n",
      "Epoch 113/200\n",
      "26/26 [==============================] - 0s 849us/step - loss: 0.0194 - accuracy: 1.0000\n",
      "Epoch 114/200\n",
      "26/26 [==============================] - 0s 1ms/step - loss: 0.0135 - accuracy: 1.0000\n",
      "Epoch 115/200\n",
      "26/26 [==============================] - 0s 1ms/step - loss: 0.0545 - accuracy: 0.9844\n",
      "Epoch 116/200\n",
      "26/26 [==============================] - 0s 919us/step - loss: 0.0107 - accuracy: 1.0000\n",
      "Epoch 117/200\n",
      "26/26 [==============================] - 0s 1ms/step - loss: 0.0154 - accuracy: 1.0000\n",
      "Epoch 118/200\n",
      "26/26 [==============================] - 0s 1ms/step - loss: 0.0147 - accuracy: 1.0000\n",
      "Epoch 119/200\n",
      "26/26 [==============================] - 0s 908us/step - loss: 0.0243 - accuracy: 0.9922\n",
      "Epoch 120/200\n",
      "26/26 [==============================] - 0s 2ms/step - loss: 0.0055 - accuracy: 1.0000\n",
      "Epoch 121/200\n",
      "26/26 [==============================] - 0s 1ms/step - loss: 0.0429 - accuracy: 0.9922\n",
      "Epoch 122/200\n",
      "26/26 [==============================] - 0s 1ms/step - loss: 0.0074 - accuracy: 1.0000\n",
      "Epoch 123/200\n",
      "26/26 [==============================] - 0s 1ms/step - loss: 0.0157 - accuracy: 1.0000\n",
      "Epoch 124/200\n",
      "26/26 [==============================] - 0s 1ms/step - loss: 0.0205 - accuracy: 0.9922\n",
      "Epoch 125/200\n",
      "26/26 [==============================] - 0s 942us/step - loss: 0.0119 - accuracy: 1.0000\n",
      "Epoch 126/200\n",
      "26/26 [==============================] - 0s 857us/step - loss: 0.0283 - accuracy: 0.9922\n",
      "Epoch 127/200\n",
      "26/26 [==============================] - 0s 979us/step - loss: 0.0135 - accuracy: 1.0000\n",
      "Epoch 128/200\n",
      "26/26 [==============================] - 0s 2ms/step - loss: 0.0407 - accuracy: 0.9844\n",
      "Epoch 129/200\n",
      "26/26 [==============================] - 0s 1ms/step - loss: 0.0291 - accuracy: 1.0000\n",
      "Epoch 130/200\n",
      "26/26 [==============================] - 0s 1ms/step - loss: 0.0084 - accuracy: 1.0000\n",
      "Epoch 131/200\n",
      "26/26 [==============================] - 0s 1ms/step - loss: 0.0183 - accuracy: 0.9922\n",
      "Epoch 132/200\n",
      "26/26 [==============================] - 0s 915us/step - loss: 0.0105 - accuracy: 1.0000\n",
      "Epoch 133/200\n",
      "26/26 [==============================] - 0s 1ms/step - loss: 0.0070 - accuracy: 1.0000\n",
      "Epoch 134/200\n",
      "26/26 [==============================] - 0s 1ms/step - loss: 0.0160 - accuracy: 1.0000\n",
      "Epoch 135/200\n",
      "26/26 [==============================] - 0s 1ms/step - loss: 0.0188 - accuracy: 0.9922\n",
      "Epoch 136/200\n",
      "26/26 [==============================] - 0s 2ms/step - loss: 0.0161 - accuracy: 1.0000\n",
      "Epoch 137/200\n",
      "26/26 [==============================] - 0s 1ms/step - loss: 0.0195 - accuracy: 1.0000\n",
      "Epoch 138/200\n",
      "26/26 [==============================] - 0s 2ms/step - loss: 0.0120 - accuracy: 1.0000\n",
      "Epoch 139/200\n",
      "26/26 [==============================] - 0s 1ms/step - loss: 0.0091 - accuracy: 1.0000\n",
      "Epoch 140/200\n",
      "26/26 [==============================] - 0s 1ms/step - loss: 0.0168 - accuracy: 0.9922\n",
      "Epoch 141/200\n",
      "26/26 [==============================] - ETA: 0s - loss: 3.8094e-04 - accuracy: 1.00 - 0s 1ms/step - loss: 0.0033 - accuracy: 1.0000\n",
      "Epoch 142/200\n",
      "26/26 [==============================] - 0s 1ms/step - loss: 0.0251 - accuracy: 0.9922\n",
      "Epoch 143/200\n",
      "26/26 [==============================] - 0s 2ms/step - loss: 0.0089 - accuracy: 1.0000\n",
      "Epoch 144/200\n",
      "26/26 [==============================] - 0s 2ms/step - loss: 0.0035 - accuracy: 1.0000\n",
      "Epoch 145/200\n",
      "26/26 [==============================] - 0s 2ms/step - loss: 0.0069 - accuracy: 1.0000\n",
      "Epoch 146/200\n",
      "26/26 [==============================] - 0s 2ms/step - loss: 0.0167 - accuracy: 0.9922\n",
      "Epoch 147/200\n",
      "26/26 [==============================] - 0s 1ms/step - loss: 0.0163 - accuracy: 0.9922\n",
      "Epoch 148/200\n",
      "26/26 [==============================] - 0s 1ms/step - loss: 0.0519 - accuracy: 0.9766\n",
      "Epoch 149/200\n",
      "26/26 [==============================] - 0s 2ms/step - loss: 0.0126 - accuracy: 1.0000\n",
      "Epoch 150/200\n",
      "26/26 [==============================] - 0s 1ms/step - loss: 0.0107 - accuracy: 1.0000\n",
      "Epoch 151/200\n",
      "26/26 [==============================] - 0s 1ms/step - loss: 0.0128 - accuracy: 0.9922\n",
      "Epoch 152/200\n",
      "26/26 [==============================] - 0s 2ms/step - loss: 0.0156 - accuracy: 0.9922\n",
      "Epoch 153/200\n",
      "26/26 [==============================] - 0s 1ms/step - loss: 0.0075 - accuracy: 1.0000\n",
      "Epoch 154/200\n",
      "26/26 [==============================] - 0s 2ms/step - loss: 0.0138 - accuracy: 1.0000\n",
      "Epoch 155/200\n",
      "26/26 [==============================] - 0s 2ms/step - loss: 0.0129 - accuracy: 1.0000\n",
      "Epoch 156/200\n",
      "26/26 [==============================] - 0s 1ms/step - loss: 0.0136 - accuracy: 0.9922\n",
      "Epoch 157/200\n",
      "26/26 [==============================] - 0s 1ms/step - loss: 0.0043 - accuracy: 1.0000\n",
      "Epoch 158/200\n",
      "26/26 [==============================] - 0s 1ms/step - loss: 0.0134 - accuracy: 0.9922\n",
      "Epoch 159/200\n",
      "26/26 [==============================] - 0s 1ms/step - loss: 0.0259 - accuracy: 0.9922\n",
      "Epoch 160/200\n",
      "26/26 [==============================] - 0s 1ms/step - loss: 0.0021 - accuracy: 1.0000\n",
      "Epoch 161/200\n",
      "26/26 [==============================] - 0s 1ms/step - loss: 0.0081 - accuracy: 1.0000\n",
      "Epoch 162/200\n"
     ]
    },
    {
     "name": "stdout",
     "output_type": "stream",
     "text": [
      "26/26 [==============================] - 0s 1ms/step - loss: 0.0057 - accuracy: 1.0000\n",
      "Epoch 163/200\n",
      "26/26 [==============================] - 0s 1ms/step - loss: 0.0023 - accuracy: 1.0000\n",
      "Epoch 164/200\n",
      "26/26 [==============================] - 0s 1ms/step - loss: 0.0076 - accuracy: 1.0000\n",
      "Epoch 165/200\n",
      "26/26 [==============================] - 0s 1ms/step - loss: 0.0043 - accuracy: 1.0000\n",
      "Epoch 166/200\n",
      "26/26 [==============================] - 0s 881us/step - loss: 0.0090 - accuracy: 1.0000\n",
      "Epoch 167/200\n",
      "26/26 [==============================] - 0s 1ms/step - loss: 0.0023 - accuracy: 1.0000\n",
      "Epoch 168/200\n",
      "26/26 [==============================] - 0s 1ms/step - loss: 0.0094 - accuracy: 1.0000\n",
      "Epoch 169/200\n",
      "26/26 [==============================] - 0s 1ms/step - loss: 0.0061 - accuracy: 1.0000\n",
      "Epoch 170/200\n",
      "26/26 [==============================] - 0s 1ms/step - loss: 0.0093 - accuracy: 1.0000\n",
      "Epoch 171/200\n",
      "26/26 [==============================] - 0s 1ms/step - loss: 0.0046 - accuracy: 1.0000\n",
      "Epoch 172/200\n",
      "26/26 [==============================] - 0s 714us/step - loss: 0.0064 - accuracy: 1.0000\n",
      "Epoch 173/200\n",
      "26/26 [==============================] - 0s 1ms/step - loss: 0.0023 - accuracy: 1.0000\n",
      "Epoch 174/200\n",
      "26/26 [==============================] - 0s 717us/step - loss: 0.0034 - accuracy: 1.0000\n",
      "Epoch 175/200\n",
      "26/26 [==============================] - 0s 1ms/step - loss: 0.0119 - accuracy: 1.0000\n",
      "Epoch 176/200\n",
      "26/26 [==============================] - 0s 890us/step - loss: 0.0132 - accuracy: 0.9922\n",
      "Epoch 177/200\n",
      "26/26 [==============================] - 0s 1ms/step - loss: 0.0142 - accuracy: 0.9922\n",
      "Epoch 178/200\n",
      "26/26 [==============================] - 0s 751us/step - loss: 0.0265 - accuracy: 0.9922\n",
      "Epoch 179/200\n",
      "26/26 [==============================] - 0s 1ms/step - loss: 0.0038 - accuracy: 1.0000\n",
      "Epoch 180/200\n",
      "26/26 [==============================] - 0s 1ms/step - loss: 0.0181 - accuracy: 1.0000\n",
      "Epoch 181/200\n",
      "26/26 [==============================] - 0s 1ms/step - loss: 0.0042 - accuracy: 1.0000\n",
      "Epoch 182/200\n",
      "26/26 [==============================] - 0s 1ms/step - loss: 0.0181 - accuracy: 0.9922\n",
      "Epoch 183/200\n",
      "26/26 [==============================] - 0s 823us/step - loss: 0.0083 - accuracy: 1.0000\n",
      "Epoch 184/200\n",
      "26/26 [==============================] - 0s 1ms/step - loss: 0.0209 - accuracy: 0.9922\n",
      "Epoch 185/200\n",
      "26/26 [==============================] - 0s 888us/step - loss: 0.0058 - accuracy: 1.0000\n",
      "Epoch 186/200\n",
      "26/26 [==============================] - 0s 1ms/step - loss: 0.0155 - accuracy: 1.0000\n",
      "Epoch 187/200\n",
      "26/26 [==============================] - 0s 890us/step - loss: 0.0147 - accuracy: 0.9922\n",
      "Epoch 188/200\n",
      "26/26 [==============================] - 0s 1ms/step - loss: 0.0196 - accuracy: 1.0000\n",
      "Epoch 189/200\n",
      "26/26 [==============================] - 0s 1ms/step - loss: 0.0104 - accuracy: 1.0000\n",
      "Epoch 190/200\n",
      "26/26 [==============================] - 0s 790us/step - loss: 0.0125 - accuracy: 0.9922\n",
      "Epoch 191/200\n",
      "26/26 [==============================] - 0s 1ms/step - loss: 0.0101 - accuracy: 1.0000\n",
      "Epoch 192/200\n",
      "26/26 [==============================] - 0s 1ms/step - loss: 0.0038 - accuracy: 1.0000\n",
      "Epoch 193/200\n",
      "26/26 [==============================] - 0s 916us/step - loss: 0.0272 - accuracy: 0.9844\n",
      "Epoch 194/200\n",
      "26/26 [==============================] - 0s 2ms/step - loss: 0.0068 - accuracy: 1.0000\n",
      "Epoch 195/200\n",
      "26/26 [==============================] - 0s 903us/step - loss: 0.0142 - accuracy: 1.0000\n",
      "Epoch 196/200\n",
      "26/26 [==============================] - 0s 830us/step - loss: 0.0146 - accuracy: 0.9922\n",
      "Epoch 197/200\n",
      "26/26 [==============================] - 0s 3ms/step - loss: 0.0151 - accuracy: 1.0000\n",
      "Epoch 198/200\n",
      "26/26 [==============================] - 0s 1ms/step - loss: 0.0045 - accuracy: 1.0000\n",
      "Epoch 199/200\n",
      "26/26 [==============================] - 0s 982us/step - loss: 0.0082 - accuracy: 1.0000\n",
      "Epoch 200/200\n",
      "26/26 [==============================] - 0s 2ms/step - loss: 0.0118 - accuracy: 1.0000\n",
      "model created\n"
     ]
    }
   ],
   "source": [
    "!pip install nltk\n",
    "import nltk\n",
    "nltk.download('punkt')\n",
    "nltk.download('wordnet')\n",
    "from nltk.stem import WordNetLemmatizer\n",
    "lemmatizer = WordNetLemmatizer()\n",
    "import json\n",
    "import pickle\n",
    "\n",
    "import numpy as np\n",
    "from keras.models import Sequential\n",
    "from keras.layers import Dense, Activation, Dropout\n",
    "from keras.optimizers import SGD\n",
    "import random\n",
    "\n",
    "words=[]\n",
    "classes = []\n",
    "documents = []\n",
    "ignore_words = ['?', '!']\n",
    "data_file = open(\"D:/anaconda/ashok/Project/NLP1/GL_Bot.json\").read()\n",
    "intents = json.loads(data_file)\n",
    "\n",
    "\n",
    "for intent in intents['intents']:\n",
    "    for pattern in intent['patterns']:\n",
    "\n",
    "        # take each word and tokenize it\n",
    "        w = nltk.word_tokenize(pattern)\n",
    "        words.extend(w)\n",
    "        # adding documents\n",
    "        documents.append((w, intent['tag']))\n",
    "\n",
    "        # adding classes to our class list\n",
    "        if intent['tag'] not in classes:\n",
    "            classes.append(intent['tag'])\n",
    "\n",
    "words = [lemmatizer.lemmatize(w.lower()) for w in words if w not in ignore_words]\n",
    "words = sorted(list(set(words)))\n",
    "\n",
    "classes = sorted(list(set(classes)))\n",
    "\n",
    "print (len(documents), \"documents\")\n",
    "\n",
    "print (len(classes), \"classes\", classes)\n",
    "\n",
    "print (len(words), \"unique lemmatized words\", words)\n",
    "\n",
    "\n",
    "pickle.dump(words,open(\"D:/anaconda/ashok/Project/NLP1/words.pkl\",'wb'))\n",
    "pickle.dump(classes,open(\"D:/anaconda/ashok/Project/NLP1/classes.pkl\",'wb'))\n",
    "\n",
    "# initializing training data\n",
    "training = []\n",
    "output_empty = [0] * len(classes)\n",
    "for doc in documents:\n",
    "    # initializing bag of words\n",
    "    bag = []\n",
    "    # list of tokenized words for the pattern\n",
    "    pattern_words = doc[0]\n",
    "    # lemmatize each word - create base word, in attempt to represent related words\n",
    "    pattern_words = [lemmatizer.lemmatize(word.lower()) for word in pattern_words]\n",
    "    # create our bag of words array with 1, if word match found in current pattern\n",
    "    for w in words:\n",
    "        bag.append(1) if w in pattern_words else bag.append(0)\n",
    "\n",
    "    # output is a '0' for each tag and '1' for current tag (for each pattern)\n",
    "    output_row = list(output_empty)\n",
    "    output_row[classes.index(doc[1])] = 1\n",
    "\n",
    "    training.append([bag, output_row])\n",
    "# shuffle our features and turn into np.array\n",
    "random.shuffle(training)\n",
    "training = np.array(training)\n",
    "# create train and test lists. X - patterns, Y - intents\n",
    "train_x = list(training[:,0])\n",
    "train_y = list(training[:,1])\n",
    "print(\"Training data created\")\n",
    "\n",
    "\n",
    "# Create model - 3 layers. First layer 128 neurons, second layer 64 neurons and 3rd output layer contains number of neurons\n",
    "# equal to number of intents to predict output intent with softmax\n",
    "model = Sequential()\n",
    "model.add(Dense(128, input_shape=(len(train_x[0]),), activation='relu'))\n",
    "model.add(Dropout(0.5))\n",
    "model.add(Dense(64, activation='relu'))\n",
    "model.add(Dropout(0.5))\n",
    "model.add(Dense(len(train_y[0]), activation='softmax'))\n",
    "\n",
    "# Compile model. Stochastic gradient descent with Nesterov accelerated gradient gives good results for this model\n",
    "sgd = SGD(lr=0.01, decay=1e-6, momentum=0.9, nesterov=True)\n",
    "model.compile(loss='categorical_crossentropy', optimizer=sgd, metrics=['accuracy'])\n",
    "\n",
    "#fitting and saving the model\n",
    "hist = model.fit(np.array(train_x), np.array(train_y), epochs=200, batch_size=5, verbose=1)\n",
    "model.save(\"D:/anaconda/ashok/Project/NLP1/chatbot_model.h5\", hist)\n",
    "\n",
    "print(\"model created\")"
   ]
  },
  {
   "cell_type": "markdown",
   "metadata": {},
   "source": [
    "### 2.3 Creating Chat GUI"
   ]
  },
  {
   "cell_type": "code",
   "execution_count": 5,
   "metadata": {
    "colab": {
     "base_uri": "https://localhost:8080/",
     "height": 346
    },
    "executionInfo": {
     "elapsed": 3232,
     "status": "error",
     "timestamp": 1616346472215,
     "user": {
      "displayName": "SURJEET DHARSAN A S",
      "photoUrl": "",
      "userId": "05909804033538903331"
     },
     "user_tz": -330
    },
    "id": "issxo54Ejp4o",
    "outputId": "cceabea5-7a2e-48fa-af5c-b6ec4b6d6d10"
   },
   "outputs": [],
   "source": [
    "import nltk\n",
    "from nltk.stem import WordNetLemmatizer\n",
    "lemmatizer = WordNetLemmatizer()\n",
    "import pickle\n",
    "import numpy as np\n",
    "\n",
    "#import tensorflow\n",
    "from tensorflow.python.keras.models import load_model\n",
    "#from keras.models import load_model\n",
    "model = load_model(\"D:/anaconda/ashok/Project/NLP1/chatbot_model.h5\")\n",
    "import json\n",
    "import random\n",
    "intents = json.loads(open('D:/anaconda/ashok/Project/NLP1/GL_Bot.json').read())\n",
    "words = pickle.load(open('D:/anaconda/ashok/Project/NLP1/words.pkl','rb'))\n",
    "classes = pickle.load(open('D:/anaconda/ashok/Project/NLP1/classes.pkl','rb'))\n",
    "\n",
    "\n",
    "def clean_up_sentence(sentence):\n",
    "    sentence_words = nltk.word_tokenize(sentence)\n",
    "    sentence_words = [lemmatizer.lemmatize(word.lower()) for word in sentence_words]\n",
    "    return sentence_words\n",
    "\n",
    "# return bag of words array: 0 or 1 for each word in the bag that exists in the sentence\n",
    "\n",
    "def bow(sentence, words, show_details=True):\n",
    "    # tokenize the pattern\n",
    "    sentence_words = clean_up_sentence(sentence)\n",
    "    # bag of words - matrix of N words, vocabulary matrix\n",
    "    bag = [0]*len(words)\n",
    "    for s in sentence_words:\n",
    "        for i,w in enumerate(words):\n",
    "            if w == s:\n",
    "                # assign 1 if current word is in the vocabulary position\n",
    "                bag[i] = 1\n",
    "                if show_details:\n",
    "                    print (\"found in bag: %s\" % w)\n",
    "    return(np.array(bag))\n",
    "\n",
    "def predict_class(sentence, model):\n",
    "    # filter out predictions below a threshold\n",
    "    p = bow(sentence, words,show_details=False)\n",
    "    res = model.predict(np.array([p]))[0]\n",
    "    ERROR_THRESHOLD = 0.25\n",
    "    results = [[i,r] for i,r in enumerate(res) if r>ERROR_THRESHOLD]\n",
    "    # sort by strength of probability\n",
    "    results.sort(key=lambda x: x[1], reverse=True)\n",
    "    return_list = []\n",
    "    for r in results:\n",
    "        return_list.append({\"intent\": classes[r[0]], \"probability\": str(r[1])})\n",
    "    return return_list\n",
    "\n",
    "def getResponse(ints, intents_json):\n",
    "    tag = ints[0]['intent']\n",
    "    list_of_intents = intents_json['intents']\n",
    "    for i in list_of_intents:\n",
    "        if(i['tag']== tag):\n",
    "            result = random.choice(i['responses'])\n",
    "            break\n",
    "    return result\n",
    "\n",
    "def chatbot_response(msg):\n",
    "    ints = predict_class(msg, model)\n",
    "    res = getResponse(ints, intents)\n",
    "    return res\n",
    "\n",
    "\n",
    "#Creating GUI with tkinter\n",
    "import tkinter\n",
    "from tkinter import *\n",
    "\n",
    "\n",
    "def send():\n",
    "    msg = EntryBox.get(\"1.0\",'end-1c').strip()\n",
    "    EntryBox.delete(\"0.0\",END)\n",
    "\n",
    "    if msg != '':\n",
    "        ChatLog.config(state=NORMAL)\n",
    "        ChatLog.insert(END, \"You: \" + msg + '\\n\\n')\n",
    "        ChatLog.config(foreground=\"#442265\", font=(\"Verdana\", 12 ))\n",
    "\n",
    "        res = chatbot_response(msg)\n",
    "        ChatLog.insert(END, \"Bot: \" + res + '\\n\\n')\n",
    "\n",
    "        ChatLog.config(state=DISABLED)\n",
    "        ChatLog.yview(END)\n",
    "\n",
    "\n",
    "base = Tk()\n",
    "base.title(\"GL Chatbot\")\n",
    "base.geometry(\"400x500\")\n",
    "base.resizable(width=FALSE, height=FALSE)\n",
    "\n",
    "#Create Chat window\n",
    "ChatLog = Text(base, bd=0, bg=\"white\", height=\"8\", width=\"50\", font=\"Arial\",)\n",
    "\n",
    "ChatLog.config(state=DISABLED)\n",
    "\n",
    "#Bind scrollbar to Chat window\n",
    "scrollbar = Scrollbar(base, command=ChatLog.yview, cursor=\"heart\")\n",
    "ChatLog['yscrollcommand'] = scrollbar.set\n",
    "\n",
    "#Create Button to send message\n",
    "SendButton = Button(base, font=(\"Verdana\",12,'bold'), text=\"Send\", width=\"12\", height=5,\n",
    "                    bd=0, bg=\"#32de97\", activebackground=\"#3c9d9b\",fg='#ffffff',\n",
    "                    command= send )\n",
    "\n",
    "#Create the box to enter message\n",
    "EntryBox = Text(base, bd=0, bg=\"white\",width=\"29\", height=\"5\", font=\"Arial\")\n",
    "#EntryBox.bind(\"<Return>\", send)\n",
    "\n",
    "\n",
    "#Place all components on the screen\n",
    "scrollbar.place(x=376,y=6, height=386)\n",
    "ChatLog.place(x=6,y=6, height=386, width=370)\n",
    "EntryBox.place(x=128, y=401, height=90, width=265)\n",
    "SendButton.place(x=6, y=401, height=90)\n",
    "\n",
    "base.mainloop()"
   ]
  },
  {
   "cell_type": "markdown",
   "metadata": {
    "collapsed": true
   },
   "source": [
    "### Conclusion:\n",
    "\n",
    "Created semi rule based Chat bot which can :\n",
    "\n",
    "1. Start chat session with greetings and ask what the user is looking for\n",
    "2. Accept dynamic text based questions from the user. Reply back with relevant answer from the designed corpus.\n",
    "3. End the chat session only if the user requests to end else ask what the user is looking for. Loop continues till the user asks to end it"
   ]
  },
  {
   "cell_type": "code",
   "execution_count": null,
   "metadata": {},
   "outputs": [],
   "source": []
  }
 ],
 "metadata": {
  "colab": {
   "authorship_tag": "ABX9TyOPJZ4bsibIsaDtw39xGay+",
   "collapsed_sections": [],
   "name": "NLP1_Project_Ashok.ipynb",
   "provenance": []
  },
  "kernelspec": {
   "display_name": "Python 3",
   "language": "python",
   "name": "python3"
  },
  "language_info": {
   "codemirror_mode": {
    "name": "ipython",
    "version": 3
   },
   "file_extension": ".py",
   "mimetype": "text/x-python",
   "name": "python",
   "nbconvert_exporter": "python",
   "pygments_lexer": "ipython3",
   "version": "3.8.8"
  }
 },
 "nbformat": 4,
 "nbformat_minor": 1
}
